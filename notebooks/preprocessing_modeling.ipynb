{
 "cells": [
  {
   "cell_type": "markdown",
   "id": "29320283",
   "metadata": {},
   "source": [
    "# Cryptocurrency Investments Trend and Decision Modeling"
   ]
  },
  {
   "cell_type": "markdown",
   "id": "f9058b7d",
   "metadata": {},
   "source": [
    "# Problem Statement"
   ]
  },
  {
   "cell_type": "markdown",
   "id": "6a309167",
   "metadata": {},
   "source": [
    "What opportunities exist as an individual investor to achieve a total return of at least 5% on all short-term cryptocurrency investments held less than 30 days by utilizing technical analysis, blockchain and social media metrics for price predictions?"
   ]
  },
  {
   "cell_type": "markdown",
   "id": "04d0412b",
   "metadata": {},
   "source": [
    "# Context"
   ]
  },
  {
   "cell_type": "markdown",
   "id": "2beb6554",
   "metadata": {},
   "source": [
    "Cryptocurrency coins are digital assets designed to work as a medium of exchange where ownership records are transactions are stored in a blockchain ledger using strong cryptography.  Cryptocurrencies typically use decentralized control as opposed to centralized digital currency and central banking systems.  Bitcoin was the first decentralized cryptocurrency formed in 2009 and per coinlore.com there are 5976 active coins trading today.\n",
    "\n",
    "I was first introduced to cryptocurrencies by a former co-worker in 2017.  If I would have purchased 1 bitcoin in January 2017 for approximately $1000 it would be worth 36K as of today.  Honestly, I did not take it very serious at that time and I still prefer not to invest my life savings in cryptocurrencies.  However, I’m optimistic decentralized currencies have a future in our world so I’m going to use short-term profits to gain in USD but hold some coins for long term benefits.\n"
   ]
  },
  {
   "cell_type": "markdown",
   "id": "70c1717b",
   "metadata": {},
   "source": [
    "# 3 Preprocessing<a id='3_preprocessing'></a>"
   ]
  },
  {
   "cell_type": "code",
   "execution_count": 1,
   "id": "394b0196",
   "metadata": {},
   "outputs": [],
   "source": [
    "# Import external libraries\n",
    "import os\n",
    "import sys\n",
    "import json\n",
    "import time\n",
    "import math\n",
    "from datetime import datetime\n",
    "import numpy as np\n",
    "import scipy.stats as stats\n",
    "import pandas as pd\n",
    "import matplotlib as mpl\n",
    "import matplotlib.pyplot as plt\n",
    "import seaborn as sns\n",
    "%matplotlib inline\n",
    "\n",
    "# Ignore warnings for clean output in notebook\n",
    "import warnings\n",
    "warnings.filterwarnings('ignore')"
   ]
  },
  {
   "cell_type": "code",
   "execution_count": 73,
   "id": "e10ffc9b",
   "metadata": {},
   "outputs": [
    {
     "name": "stdout",
     "output_type": "stream",
     "text": [
      "The autoreload extension is already loaded. To reload it, use:\n",
      "  %reload_ext autoreload\n"
     ]
    }
   ],
   "source": [
    "# Import local libraries\n",
    "sys.path.append('..') # Add parent folder for local library imports\n",
    "\n",
    "# Feature creation functions\n",
    "from src.features.make_features import *\n",
    "# Helper functions\n",
    "from src.utils.helpers import *\n",
    "# Visualization functions\n",
    "from src.visuals.make_plots import *\n",
    "\n",
    "# Load the \"autoreload\" extension so that code can change\n",
    "%load_ext autoreload\n",
    "#%reload_ext autoreload\n",
    "\n",
    "# Always reload modules so that as you change code in src, it gets loaded\n",
    "%autoreload 2"
   ]
  },
  {
   "cell_type": "markdown",
   "id": "453f1dc4",
   "metadata": {},
   "source": [
    "## 3.1 Load Data"
   ]
  },
  {
   "cell_type": "code",
   "execution_count": 3,
   "id": "fab1e9cb",
   "metadata": {},
   "outputs": [],
   "source": [
    "# Directory references\n",
    "data_interim_dir = r'..\\data\\interim'\n",
    "data_final_dir = r'..\\data\\final'\n",
    "model_save_dir = r'..\\models'"
   ]
  },
  {
   "cell_type": "code",
   "execution_count": 4,
   "id": "bb2422a3",
   "metadata": {},
   "outputs": [
    {
     "name": "stdout",
     "output_type": "stream",
     "text": [
      "<class 'pandas.core.frame.DataFrame'>\n",
      "DatetimeIndex: 718 entries, 2019-08-20 to 2021-08-06\n",
      "Data columns (total 65 columns):\n",
      " #   Column                   Non-Null Count  Dtype  \n",
      "---  ------                   --------------  -----  \n",
      " 0   asset_id                 718 non-null    int64  \n",
      " 1   time                     718 non-null    int64  \n",
      " 2   open                     718 non-null    float64\n",
      " 3   close                    718 non-null    float64\n",
      " 4   high                     718 non-null    float64\n",
      " 5   low                      718 non-null    float64\n",
      " 6   volume                   718 non-null    float64\n",
      " 7   market_cap               696 non-null    float64\n",
      " 8   url_shares               710 non-null    float64\n",
      " 9   unique_url_shares        710 non-null    float64\n",
      " 10  tweets                   710 non-null    float64\n",
      " 11  tweet_spam               710 non-null    float64\n",
      " 12  tweet_followers          698 non-null    float64\n",
      " 13  tweet_quotes             698 non-null    float64\n",
      " 14  tweet_retweets           698 non-null    float64\n",
      " 15  tweet_replies            698 non-null    float64\n",
      " 16  tweet_favorites          698 non-null    float64\n",
      " 17  tweet_sentiment1         710 non-null    float64\n",
      " 18  tweet_sentiment2         710 non-null    float64\n",
      " 19  tweet_sentiment3         710 non-null    float64\n",
      " 20  tweet_sentiment4         710 non-null    float64\n",
      " 21  tweet_sentiment5         710 non-null    float64\n",
      " 22  tweet_sentiment_impact1  710 non-null    float64\n",
      " 23  tweet_sentiment_impact2  710 non-null    float64\n",
      " 24  tweet_sentiment_impact3  710 non-null    float64\n",
      " 25  tweet_sentiment_impact4  710 non-null    float64\n",
      " 26  tweet_sentiment_impact5  710 non-null    float64\n",
      " 27  social_score             710 non-null    float64\n",
      " 28  average_sentiment        710 non-null    float64\n",
      " 29  sentiment_relative       698 non-null    float64\n",
      " 30  news                     718 non-null    float64\n",
      " 31  price_score              697 non-null    float64\n",
      " 32  social_impact_score      697 non-null    float64\n",
      " 33  correlation_rank         697 non-null    float64\n",
      " 34  galaxy_score             697 non-null    float64\n",
      " 35  volatility               709 non-null    float64\n",
      " 36  alt_rank                 687 non-null    float64\n",
      " 37  alt_rank_30d             687 non-null    float64\n",
      " 38  market_cap_rank          682 non-null    float64\n",
      " 39  percent_change_24h_rank  669 non-null    float64\n",
      " 40  volume_24h_rank          669 non-null    float64\n",
      " 41  social_volume_24h_rank   669 non-null    float64\n",
      " 42  social_score_24h_rank    669 non-null    float64\n",
      " 43  medium                   718 non-null    float64\n",
      " 44  youtube                  718 non-null    float64\n",
      " 45  social_contributors      718 non-null    int64  \n",
      " 46  social_volume            718 non-null    int64  \n",
      " 47  price_btc                718 non-null    int64  \n",
      " 48  social_volume_global     718 non-null    float64\n",
      " 49  percent_change_24h       718 non-null    float64\n",
      " 50  market_cap_global        696 non-null    float64\n",
      " 51  market_dominance         696 non-null    float64\n",
      " 52  name                     718 non-null    object \n",
      " 53  symbol                   718 non-null    object \n",
      " 54  close_end_1d             717 non-null    float64\n",
      " 55  close_percent_change_1d  717 non-null    float64\n",
      " 56  close_end_7d             711 non-null    float64\n",
      " 57  close_min_7d             718 non-null    float64\n",
      " 58  close_max_7d             718 non-null    float64\n",
      " 59  close_loss_7d            718 non-null    float64\n",
      " 60  close_gain_7d            718 non-null    float64\n",
      " 61  close_change_7d          711 non-null    float64\n",
      " 62  close_percent_change_7d  711 non-null    float64\n",
      " 63  decision                 711 non-null    object \n",
      " 64  color                    711 non-null    object \n",
      "dtypes: float64(56), int64(5), object(4)\n",
      "memory usage: 370.2+ KB\n"
     ]
    }
   ],
   "source": [
    "# Read in Bitcoin data from interim data directory\n",
    "btc = pd.read_csv(os.path.join(data_interim_dir, 'btc.csv'), parse_dates=['date'])\n",
    "btc = btc.set_index('date')\n",
    "btc.info()"
   ]
  },
  {
   "cell_type": "code",
   "execution_count": 5,
   "id": "5881cd21",
   "metadata": {},
   "outputs": [
    {
     "name": "stdout",
     "output_type": "stream",
     "text": [
      "<class 'pandas.core.frame.DataFrame'>\n",
      "DatetimeIndex: 718 entries, 2019-08-20 to 2021-08-06\n",
      "Data columns (total 66 columns):\n",
      " #   Column                   Non-Null Count  Dtype  \n",
      "---  ------                   --------------  -----  \n",
      " 0   asset_id                 718 non-null    int64  \n",
      " 1   time                     718 non-null    int64  \n",
      " 2   open                     718 non-null    float64\n",
      " 3   close                    718 non-null    float64\n",
      " 4   high                     718 non-null    float64\n",
      " 5   low                      718 non-null    float64\n",
      " 6   volume                   718 non-null    float64\n",
      " 7   market_cap               696 non-null    float64\n",
      " 8   url_shares               704 non-null    float64\n",
      " 9   unique_url_shares        704 non-null    float64\n",
      " 10  tweets                   710 non-null    float64\n",
      " 11  tweet_spam               710 non-null    float64\n",
      " 12  tweet_followers          698 non-null    float64\n",
      " 13  tweet_quotes             698 non-null    float64\n",
      " 14  tweet_retweets           698 non-null    float64\n",
      " 15  tweet_replies            698 non-null    float64\n",
      " 16  tweet_favorites          698 non-null    float64\n",
      " 17  tweet_sentiment1         708 non-null    float64\n",
      " 18  tweet_sentiment2         710 non-null    float64\n",
      " 19  tweet_sentiment3         710 non-null    float64\n",
      " 20  tweet_sentiment4         710 non-null    float64\n",
      " 21  tweet_sentiment5         710 non-null    float64\n",
      " 22  tweet_sentiment_impact1  708 non-null    float64\n",
      " 23  tweet_sentiment_impact2  710 non-null    float64\n",
      " 24  tweet_sentiment_impact3  710 non-null    float64\n",
      " 25  tweet_sentiment_impact4  710 non-null    float64\n",
      " 26  tweet_sentiment_impact5  710 non-null    float64\n",
      " 27  social_score             710 non-null    float64\n",
      " 28  average_sentiment        710 non-null    float64\n",
      " 29  sentiment_relative       698 non-null    float64\n",
      " 30  news                     718 non-null    float64\n",
      " 31  price_score              697 non-null    float64\n",
      " 32  social_impact_score      697 non-null    float64\n",
      " 33  correlation_rank         697 non-null    float64\n",
      " 34  galaxy_score             697 non-null    float64\n",
      " 35  volatility               709 non-null    float64\n",
      " 36  alt_rank                 687 non-null    float64\n",
      " 37  alt_rank_30d             687 non-null    float64\n",
      " 38  market_cap_rank          682 non-null    float64\n",
      " 39  percent_change_24h_rank  669 non-null    float64\n",
      " 40  volume_24h_rank          669 non-null    float64\n",
      " 41  social_volume_24h_rank   669 non-null    float64\n",
      " 42  social_score_24h_rank    669 non-null    float64\n",
      " 43  medium                   718 non-null    float64\n",
      " 44  youtube                  718 non-null    float64\n",
      " 45  social_contributors      718 non-null    int64  \n",
      " 46  social_volume            718 non-null    int64  \n",
      " 47  price_btc                718 non-null    float64\n",
      " 48  social_volume_global     718 non-null    int64  \n",
      " 49  percent_change_24h       718 non-null    float64\n",
      " 50  market_cap_global        696 non-null    float64\n",
      " 51  market_dominance         696 non-null    float64\n",
      " 52  name                     718 non-null    object \n",
      " 53  symbol                   718 non-null    object \n",
      " 54  close_end_1d             717 non-null    float64\n",
      " 55  close_percent_change_1d  717 non-null    float64\n",
      " 56  close_end_7d             711 non-null    float64\n",
      " 57  close_min_7d             718 non-null    float64\n",
      " 58  close_max_7d             718 non-null    float64\n",
      " 59  close_loss_7d            718 non-null    float64\n",
      " 60  close_gain_7d            718 non-null    float64\n",
      " 61  close_change_7d          711 non-null    float64\n",
      " 62  close_percent_change_7d  711 non-null    float64\n",
      " 63  decision                 711 non-null    object \n",
      " 64  color                    711 non-null    object \n",
      " 65  close_btc                718 non-null    float64\n",
      "dtypes: float64(57), int64(5), object(4)\n",
      "memory usage: 375.8+ KB\n"
     ]
    }
   ],
   "source": [
    "# Read in Dogecoin data from interim data directory\n",
    "doge = pd.read_csv(os.path.join(data_interim_dir, 'doge.csv'), parse_dates=['date'])\n",
    "doge = doge.set_index('date')\n",
    "# Add in Bitcoin close price\n",
    "doge['close_btc'] = btc['close']\n",
    "doge.info()"
   ]
  },
  {
   "cell_type": "markdown",
   "id": "69a4a71b",
   "metadata": {},
   "source": [
    "# 3.2 Feature Engineering"
   ]
  },
  {
   "cell_type": "markdown",
   "id": "503f9844",
   "metadata": {},
   "source": [
    "In this section I will add in some custom time period merics for designated columns based on observations in the EDA phase."
   ]
  },
  {
   "cell_type": "markdown",
   "id": "1264f4b6",
   "metadata": {},
   "source": [
    "###### Bitcoin"
   ]
  },
  {
   "cell_type": "code",
   "execution_count": 6,
   "id": "9c4f980d",
   "metadata": {},
   "outputs": [],
   "source": [
    "# Add technical anaysis single period metrics\n",
    "btc = create_single_tp_metrics(btc, 14)\n",
    "# Add technical analysis multi-period metrics\n",
    "btc = create_multi_tp_metrics(btc, 12, 26, 9)\n",
    "# Custom social transformations\n",
    "custom_transform = [(['tweets', 'tweet_followers', 'tweet_sentiment_impact_net'], 'mean', 20),\n",
    "                    (['news', 'volatility', 'social_volume_global'], 'mean', 14),\n",
    "                    (['tweet_sentiment1', 'tweet_sentiment_impact_bearish'], 'stdev', 7),\n",
    "                    (['market_dominance'], 'stdev', 14),\n",
    "                   (['market_cap_global'], 'pct_change', 20)\n",
    "                   ]\n",
    "# Add social metrics\n",
    "btc = create_social_metrics(btc, custom_transform)\n",
    "\n",
    "# Save data to final data directory\n",
    "btc.to_csv(os.path.join(data_final_dir, 'btc.csv'))"
   ]
  },
  {
   "cell_type": "markdown",
   "id": "b5f7fa91",
   "metadata": {},
   "source": [
    "###### Dogecoin"
   ]
  },
  {
   "cell_type": "code",
   "execution_count": 7,
   "id": "1242bcaa",
   "metadata": {},
   "outputs": [],
   "source": [
    "# Add technical anaysis single period metrics\n",
    "doge = create_single_tp_metrics(doge, 14)\n",
    "# Add technical analysis multi-period metrics\n",
    "doge = create_multi_tp_metrics(doge, 12, 26, 9)\n",
    "# Custom social transformations\n",
    "custom_transform = [(['tweets', 'tweet_followers', 'tweet_sentiment_impact_net'], 'mean', 20),\n",
    "                    (['news', 'volatility', 'social_volume_global'], 'mean', 14),\n",
    "                    (['tweet_sentiment1', 'tweet_sentiment_impact_bearish'], 'stdev', 7),\n",
    "                    (['market_dominance'], 'stdev', 14),\n",
    "                   (['market_cap_global'], 'pct_change', 20)\n",
    "                   ]\n",
    "# Add social metrics\n",
    "doge = create_social_metrics(doge, custom_transform)\n",
    "\n",
    "# Save data to final data directory\n",
    "doge.to_csv(os.path.join(data_final_dir, 'doge.csv'))"
   ]
  },
  {
   "cell_type": "markdown",
   "id": "087b2415",
   "metadata": {},
   "source": [
    "# 3.3 Preprocessing"
   ]
  },
  {
   "cell_type": "markdown",
   "id": "b4ca67c0",
   "metadata": {},
   "source": [
    "In this section I'm defining several key variables.  I will be making price predictions 1 day ahead for a total sequence of 7 days.  The total sequence length is 50 days.  This is a somewhat arbitrary choice and can be evaluated further later in the project."
   ]
  },
  {
   "cell_type": "code",
   "execution_count": 8,
   "id": "caa352cf",
   "metadata": {},
   "outputs": [],
   "source": [
    "# Define column for targets\n",
    "target_col = 'close'\n",
    "# Number of steps ahead to make prediction\n",
    "steps_ahead = 1\n",
    "# Input length for each sample\n",
    "input_len = 49\n",
    "# Total length for normalization window\n",
    "total_len = input_len + steps_ahead\n",
    "# Number of steps for regressive prediction sequences\n",
    "prediction_len = 7\n",
    "# Set number of periods for test data\n",
    "test_periods = prediction_len * 10 + total_len"
   ]
  },
  {
   "cell_type": "markdown",
   "id": "595bde47",
   "metadata": {},
   "source": [
    "### 3.3.1 Normalization Methods"
   ]
  },
  {
   "cell_type": "markdown",
   "id": "b379308a",
   "metadata": {},
   "source": [
    "In this section I will create functions to perform preprocessing on the dataset and split into train, validation and test sets.  The preprocessing techniques that I will evaluate are:\n",
    "\n",
    "1. Min-Max normalization (globally across entire dataset)\n",
    "2. Standardization by removing the mean and scaling to unit variance (globally and across a defined window)\n",
    "3. % Change normalization (globally and across a defined window)"
   ]
  },
  {
   "cell_type": "markdown",
   "id": "20159104",
   "metadata": {},
   "source": [
    "Let's first visualize the distribution of the output data for the one dimensional dataset for each preprocessing methods"
   ]
  },
  {
   "cell_type": "code",
   "execution_count": 9,
   "id": "dc18907f",
   "metadata": {},
   "outputs": [
    {
     "data": {
      "image/png": "[encoded data removed]",
      "text/plain": [
       "<Figure size 1080x360 with 2 Axes>"
      ]
     },
     "metadata": {
      "needs_background": "light"
     },
     "output_type": "display_data"
    }
   ],
   "source": [
    "from sklearn.preprocessing import MinMaxScaler\n",
    "minmax_scaler = MinMaxScaler()\n",
    "\n",
    "cols = [target_col]\n",
    "btc_data, btc_train_scaled_mm, btc_test_scaled_mm, btc_scaler_mm = data_preprocessing_scaling(minmax_scaler, btc, \n",
    "                                                                                     cols, test_periods)\n",
    "doge_data, doge_train_scaled_mm, doge_test_scaled_mm, doge_scaler_mm = data_preprocessing_scaling(minmax_scaler, doge, \n",
    "                                                                                         cols, test_periods)\n",
    "\n",
    "normalization_hist_plot((btc_train_scaled_mm, 'Bitcoin'), \n",
    "                        (doge_train_scaled_mm, 'Dogecoin'), 'Min-Max Global Scaling')"
   ]
  },
  {
   "cell_type": "code",
   "execution_count": 10,
   "id": "fbe814b9",
   "metadata": {},
   "outputs": [
    {
     "data": {
      "image/png": "[encoded data removed]",
      "text/plain": [
       "<Figure size 1080x360 with 2 Axes>"
      ]
     },
     "metadata": {
      "needs_background": "light"
     },
     "output_type": "display_data"
    }
   ],
   "source": [
    "from sklearn.preprocessing import StandardScaler\n",
    "standard_scaler = StandardScaler()\n",
    "\n",
    "btc_data, btc_train_scaled_sg, btc_test_scaled_sg, btc_scaler_sg = data_preprocessing_standardize(standard_scaler, btc, cols,\n",
    "                                                                                         test_periods, -1)\n",
    "\n",
    "doge_data, doge_train_scaled_sg, doge_test_scaled_sg, doge_scaler_sg = data_preprocessing_standardize(standard_scaler, doge, cols,\n",
    "                                                                                         test_periods, -1)\n",
    "\n",
    "normalization_hist_plot((btc_train_scaled_sg, 'Bitcoin'), \n",
    "                        (doge_train_scaled_sg, 'Dogecoin'), 'Standard Global Scaling')"
   ]
  },
  {
   "cell_type": "code",
   "execution_count": 11,
   "id": "6bedbc0c",
   "metadata": {},
   "outputs": [
    {
     "data": {
      "image/png": "[encoded data removed]",
      "text/plain": [
       "<Figure size 1080x360 with 2 Axes>"
      ]
     },
     "metadata": {
      "needs_background": "light"
     },
     "output_type": "display_data"
    }
   ],
   "source": [
    "btc_data, btc_train_scaled_sw, btc_test_scaled_sw, btc_scaler_sw = data_preprocessing_standardize(standard_scaler, btc, cols,\n",
    "                                                                                         test_periods, total_len)\n",
    "\n",
    "doge_data, doge_train_scaled_sw, doge_test_scaled_sw, doge_scaler_sw = data_preprocessing_standardize(standard_scaler, doge, cols,\n",
    "                                                                                         test_periods, total_len)\n",
    "\n",
    "normalization_hist_plot((btc_train_scaled_sw, 'Bitcoin'), \n",
    "                        (doge_train_scaled_sw, 'Dogecoin'), 'Standard Window Scaling')"
   ]
  },
  {
   "cell_type": "code",
   "execution_count": 12,
   "id": "92e9f00e",
   "metadata": {},
   "outputs": [
    {
     "data": {
      "image/png": "[encoded data removed]",
      "text/plain": [
       "<Figure size 1080x360 with 2 Axes>"
      ]
     },
     "metadata": {
      "needs_background": "light"
     },
     "output_type": "display_data"
    }
   ],
   "source": [
    "btc_data, btc_train_scaled_pg, btc_test_scaled_pg = data_preprocessing_pct_change(btc, cols, test_periods, -1)\n",
    "\n",
    "doge_data, doge_train_scaled_pg, doge_test_scaled_pg = data_preprocessing_pct_change(doge, cols, test_periods, -1)\n",
    "\n",
    "normalization_hist_plot((btc_train_scaled_pg, 'Bitcoin'), \n",
    "                        (doge_train_scaled_pg, 'Dogecoin'), '% Change Global Scaling')"
   ]
  },
  {
   "cell_type": "code",
   "execution_count": 13,
   "id": "4722cd4f",
   "metadata": {},
   "outputs": [
    {
     "data": {
      "image/png": "[encoded data removed]",
      "text/plain": [
       "<Figure size 1080x360 with 2 Axes>"
      ]
     },
     "metadata": {
      "needs_background": "light"
     },
     "output_type": "display_data"
    }
   ],
   "source": [
    "btc_data, btc_train_scaled_pw, btc_test_scaled_pw = data_preprocessing_pct_change(btc, cols, test_periods, total_len)\n",
    "\n",
    "doge_data, doge_train_scaled_pw, doge_test_scaled_pw = data_preprocessing_pct_change(doge, cols, test_periods, total_len)\n",
    "\n",
    "normalization_hist_plot((btc_train_scaled_pw, 'Bitcoin'), \n",
    "                        (doge_train_scaled_pw, 'Dogecoin'), '% Change Window Scaling')"
   ]
  },
  {
   "cell_type": "markdown",
   "id": "db14411b",
   "metadata": {},
   "source": [
    "Standard window scaling normalizes the data the best for both coins.  % Change window scaling normalizes the data very well for Bitcoin but since Dogecoin did not really have large changes in price until 2021 this scaling method is not as effective for Dogecoin."
   ]
  },
  {
   "cell_type": "markdown",
   "id": "0fa8c0a1",
   "metadata": {},
   "source": [
    "# 4 Modeling<a id='4_modeling'></a>"
   ]
  },
  {
   "cell_type": "markdown",
   "id": "70efafd0",
   "metadata": {},
   "source": [
    "## 4.1 Sequence Modeling"
   ]
  },
  {
   "cell_type": "markdown",
   "id": "56626e53",
   "metadata": {},
   "source": [
    "The first modeling task for this project is to utilize a Long short-term memory (LSTM) recurrent neural network to make sequence predictions for a future sequence of time steps.  In this case I'm focusing on the ending daily `close` price for each coin.  I'm not as concerned with being able to accurately predict the future `close` price but to be able to identify the directional trend.\n",
    "\n",
    "In the first stage I will create several univariate LSTM models for Bitcoin and Dogecoin to determine the most effective normalization method and set baseline model performance.\n",
    "\n",
    "The 4 evaluation metrics I will be using are:\n",
    "\n",
    "1. `mean directional accuracy` - MDA utilizes the change in value (positive or negative) and averages if the predictions had the same directional change.  Higher is better.\n",
    "2. `mean absolute error` - MAE averages the absolute value of the prediction error.  I will use this as the loss metric in the model.  Lower is better.\n",
    "3. `mean absolute scaled error` - MASE uses MAE but scales the result by dividing by the MAE of actual data and a shifted forward naive forecast.  This metric will be scale invariant and allow me to compare the normalization methods across models.  Lower is better.\n",
    "4. `accuracy` - This will be a sequence accuracy metric using a custom evaluation metric based on directional trend analysis.  The objective is to be able to predict the correct directional change while also being able to identify large % increase or decreases."
   ]
  },
  {
   "cell_type": "markdown",
   "id": "934d6f74",
   "metadata": {},
   "source": [
    "### 4.1.1 One-Dimensional LSTM Model"
   ]
  },
  {
   "cell_type": "markdown",
   "id": "b7b5ced4",
   "metadata": {},
   "source": [
    "##### Bitcoin"
   ]
  },
  {
   "cell_type": "markdown",
   "id": "00219a00",
   "metadata": {},
   "source": [
    "Set some default configurations for the LSTM modeling process."
   ]
  },
  {
   "cell_type": "code",
   "execution_count": 14,
   "id": "3e9c22aa",
   "metadata": {},
   "outputs": [
    {
     "data": {
      "text/plain": [
       "{'model': {'loss': 'mae',\n",
       "  'optimizer': {'learning_rate': 0.001,\n",
       "   'beta_1': 0.9,\n",
       "   'beta_2': 0.999,\n",
       "   'epsilon': 1e-07},\n",
       "  'layers': [{'type': 'lstm', 'neurons': 100, 'return_seq': True},\n",
       "   {'type': 'dropout', 'rate': 0.2},\n",
       "   {'type': 'lstm', 'neurons': 100, 'return_seq': True},\n",
       "   {'type': 'lstm', 'neurons': 100, 'return_seq': False},\n",
       "   {'type': 'dropout', 'rate': 0.2},\n",
       "   {'type': 'dense', 'neurons': 1, 'activation': 'linear'}]}}"
      ]
     },
     "execution_count": 14,
     "metadata": {},
     "output_type": "execute_result"
    }
   ],
   "source": [
    "# Load LSTM model configuration params\n",
    "lstm_config = json.load(open('lstm_config.json', 'r'))\n",
    "lstm_config"
   ]
  },
  {
   "cell_type": "code",
   "execution_count": 15,
   "id": "2b0661ca",
   "metadata": {},
   "outputs": [
    {
     "data": {
      "text/plain": [
       "{'epochs': 40,\n",
       " 'batch_size': 32,\n",
       " 'validation_split': 0.15,\n",
       " 'verbose': 1,\n",
       " 'patience': 3,\n",
       " 'model_checkpoint': True,\n",
       " 'save_fname': '..\\\\models\\\\btc_lstm.h5'}"
      ]
     },
     "execution_count": 15,
     "metadata": {},
     "output_type": "execute_result"
    }
   ],
   "source": [
    "btc_model_save_fname = os.path.join(model_save_dir, 'btc_lstm.h5')\n",
    "# Create LSTM model training configuration params for Bitcoin\n",
    "btc_train_config = dict(epochs=40,\n",
    "                        batch_size=32,\n",
    "                        validation_split=0.15,\n",
    "                        verbose=1,\n",
    "                        patience=3,\n",
    "                        model_checkpoint=True,\n",
    "                        save_fname=btc_model_save_fname\n",
    "                       )\n",
    "btc_train_config"
   ]
  },
  {
   "cell_type": "markdown",
   "id": "15bb3e9f",
   "metadata": {},
   "source": [
    "#### 4.1.1.1 MinMax Scaling Global"
   ]
  },
  {
   "cell_type": "code",
   "execution_count": 16,
   "id": "427edc15",
   "metadata": {},
   "outputs": [
    {
     "name": "stdout",
     "output_type": "stream",
     "text": [
      "Train X data shape: (549, 49, 1)\n",
      "Train y data shape: (549, 1)\n",
      "Epoch 1/40\n",
      "15/15 [==============================] - 6s 151ms/step - loss: 0.0370 - val_loss: 0.4041\n",
      "Epoch 2/40\n",
      "15/15 [==============================] - 1s 72ms/step - loss: 0.0188 - val_loss: 0.2262\n",
      "Epoch 3/40\n",
      "15/15 [==============================] - 1s 79ms/step - loss: 0.0179 - val_loss: 0.3997\n",
      "Epoch 4/40\n",
      "15/15 [==============================] - 1s 70ms/step - loss: 0.0163 - val_loss: 0.2203\n",
      "Epoch 5/40\n",
      "15/15 [==============================] - 1s 70ms/step - loss: 0.0163 - val_loss: 0.4774\n",
      "Epoch 6/40\n",
      "15/15 [==============================] - 1s 70ms/step - loss: 0.0170 - val_loss: 0.2375\n",
      "Epoch 7/40\n",
      "15/15 [==============================] - 1s 70ms/step - loss: 0.0151 - val_loss: 0.1336\n",
      "Epoch 8/40\n",
      "15/15 [==============================] - 1s 79ms/step - loss: 0.0182 - val_loss: 0.2564\n",
      "Epoch 9/40\n",
      "15/15 [==============================] - 1s 70ms/step - loss: 0.0171 - val_loss: 0.1451\n",
      "Epoch 10/40\n",
      "15/15 [==============================] - 1s 69ms/step - loss: 0.0128 - val_loss: 0.1134\n",
      "Epoch 11/40\n",
      "15/15 [==============================] - 1s 72ms/step - loss: 0.0141 - val_loss: 0.1800\n",
      "Epoch 12/40\n",
      "15/15 [==============================] - 1s 72ms/step - loss: 0.0136 - val_loss: 0.2200\n",
      "Epoch 13/40\n",
      "15/15 [==============================] - 1s 76ms/step - loss: 0.0147 - val_loss: 0.1472\n"
     ]
    }
   ],
   "source": [
    "from src.models.rnn_model import Model\n",
    "\n",
    "btc_train_X, btc_train_y, btc_train_targets = create_timeseries_data(btc_train_scaled_mm, target_col, \n",
    "                                                                     input_len, steps_ahead)\n",
    "btc_test_X, btc_test_y, btc_test_targets = create_timeseries_data(btc_test_scaled_mm, target_col, \n",
    "                                                                  input_len, steps_ahead)\n",
    "\n",
    "print('Train X data shape:', btc_train_X.shape)\n",
    "print('Train y data shape:', btc_train_y.shape)\n",
    "\n",
    "# The input_timesteps and dim will vary depending on the data so add this to the configs based on the data\n",
    "btc_model_config = update_model_input_dim(lstm_config, btc_train_X.shape, btc_train_y.shape)\n",
    "\n",
    "# Instantiate model class\n",
    "btc_lstm_model = Model()\n",
    "\n",
    "# Build model\n",
    "btc_lstm_model.build_model(btc_model_config)\n",
    "\n",
    "btc_lstm_model.train(btc_train_X, btc_train_y, btc_train_config)"
   ]
  },
  {
   "cell_type": "code",
   "execution_count": 17,
   "id": "93f27e41",
   "metadata": {},
   "outputs": [
    {
     "data": {
      "image/png": "[encoded data removed]",
      "text/plain": [
       "<Figure size 720x360 with 1 Axes>"
      ]
     },
     "metadata": {
      "needs_background": "light"
     },
     "output_type": "display_data"
    }
   ],
   "source": [
    "btc_predictions, btc_seq_metrics = evaluate_model(btc_lstm_model, btc_test_X, btc_test_y, \n",
    "                                                  total_len, prediction_len, steps_ahead)\n",
    "\n",
    "# Capture baseline metrics for min-max scaler\n",
    "btc_base_mm_mda = mean_metric_results(btc_seq_metrics, 'mda')\n",
    "btc_base_mm_mase = mean_metric_results(btc_seq_metrics, 'mase')\n",
    "btc_base_mm_acc = mean_accuracy(btc_seq_metrics)\n",
    "\n",
    "title = 'Bitcoin Min-Max Scaling Global LSTM Model MDA: {:.3}, MASE: {:.3}, Accuracy: {:.3}'.format(btc_base_mm_mda, \n",
    "                                                                                                    btc_base_mm_mase, \n",
    "                                                                                                    btc_base_mm_acc)\n",
    "\n",
    "plot_results_multiple(btc_predictions, btc_test_y, prediction_len, title)"
   ]
  },
  {
   "cell_type": "markdown",
   "id": "3b8ff6b9",
   "metadata": {},
   "source": [
    "Performance is generally very poor using Min-Max scaling with the predictions being completely off the mark but the trend detection is correct on several sequences."
   ]
  },
  {
   "cell_type": "markdown",
   "id": "5e8de621",
   "metadata": {},
   "source": [
    "#### 4.1.1.2 Standard Scaler Global"
   ]
  },
  {
   "cell_type": "code",
   "execution_count": 18,
   "id": "3cde5eee",
   "metadata": {},
   "outputs": [
    {
     "name": "stdout",
     "output_type": "stream",
     "text": [
      "Train X data shape: (549, 49, 1)\n",
      "Train y data shape: (549, 1)\n",
      "Epoch 1/40\n",
      "15/15 [==============================] - 6s 128ms/step - loss: 0.1418 - val_loss: 0.3110\n",
      "Epoch 2/40\n",
      "15/15 [==============================] - 1s 75ms/step - loss: 0.0752 - val_loss: 0.4877\n",
      "Epoch 3/40\n",
      "15/15 [==============================] - 1s 80ms/step - loss: 0.0661 - val_loss: 0.3947\n",
      "Epoch 4/40\n",
      "15/15 [==============================] - 1s 73ms/step - loss: 0.0615 - val_loss: 0.3707\n"
     ]
    }
   ],
   "source": [
    "btc_train_X, btc_train_y, btc_train_targets = create_timeseries_data(btc_train_scaled_sg, target_col, \n",
    "                                                                     input_len, steps_ahead)\n",
    "btc_test_X, btc_test_y, btc_test_targets = create_timeseries_data(btc_test_scaled_sg, target_col, \n",
    "                                                                  input_len, steps_ahead)\n",
    "\n",
    "print('Train X data shape:', btc_train_X.shape)\n",
    "print('Train y data shape:', btc_train_y.shape)\n",
    "\n",
    "# The input_timesteps and dim will vary depending on the data so add this to the configs based on the data\n",
    "btc_model_config = update_model_input_dim(lstm_config, btc_train_X.shape, btc_train_y.shape)\n",
    "\n",
    "# Instantiate model class\n",
    "btc_lstm_model = Model()\n",
    "\n",
    "# Build model\n",
    "btc_lstm_model.build_model(btc_model_config)\n",
    "\n",
    "btc_lstm_model.train(btc_train_X, btc_train_y, btc_train_config)"
   ]
  },
  {
   "cell_type": "code",
   "execution_count": 19,
   "id": "7e84bc1a",
   "metadata": {},
   "outputs": [
    {
     "data": {
      "image/png": "[encoded data removed]",
      "text/plain": [
       "<Figure size 720x360 with 1 Axes>"
      ]
     },
     "metadata": {
      "needs_background": "light"
     },
     "output_type": "display_data"
    }
   ],
   "source": [
    "btc_predictions, btc_seq_metrics = evaluate_model(btc_lstm_model, btc_test_X, btc_test_y, \n",
    "                                                  total_len, prediction_len, steps_ahead)\n",
    "\n",
    "btc_base_sg_mda = mean_metric_results(btc_seq_metrics, 'mda')\n",
    "btc_base_sg_mase = mean_metric_results(btc_seq_metrics, 'mase')\n",
    "btc_base_sg_acc = mean_accuracy(btc_seq_metrics)\n",
    "\n",
    "title = 'Bitcoin Standard Scaling Global LSTM Model MDA: {:.3}, MASE: {:.3}, Accuracy: {:.3}'.format(btc_base_sg_mda, \n",
    "                                                                                                     btc_base_sg_mase,\n",
    "                                                                                                     btc_base_sg_acc)\n",
    "plot_results_multiple(btc_predictions, btc_test_y, prediction_len, title)"
   ]
  },
  {
   "cell_type": "markdown",
   "id": "b5bce1e8",
   "metadata": {},
   "source": [
    "The predictions for standard scaling global are quite similar to Min-Max scaling."
   ]
  },
  {
   "cell_type": "markdown",
   "id": "aee89dbd",
   "metadata": {},
   "source": [
    "#### 4.1.1.3 Standard Scaler Window"
   ]
  },
  {
   "cell_type": "code",
   "execution_count": 20,
   "id": "e11ec4af",
   "metadata": {},
   "outputs": [
    {
     "name": "stdout",
     "output_type": "stream",
     "text": [
      "Train X data shape: (549, 49, 1)\n",
      "Train y data shape: (549, 1)\n",
      "Epoch 1/40\n",
      "15/15 [==============================] - 6s 134ms/step - loss: 0.7203 - val_loss: 0.7427\n",
      "Epoch 2/40\n",
      "15/15 [==============================] - 1s 98ms/step - loss: 0.6736 - val_loss: 0.7735\n",
      "Epoch 3/40\n",
      "15/15 [==============================] - 2s 157ms/step - loss: 0.6314 - val_loss: 0.6530\n",
      "Epoch 4/40\n",
      "15/15 [==============================] - 2s 141ms/step - loss: 0.5813 - val_loss: 0.5785\n",
      "Epoch 5/40\n",
      "15/15 [==============================] - 2s 141ms/step - loss: 0.5538 - val_loss: 0.5453\n",
      "Epoch 6/40\n",
      "15/15 [==============================] - 2s 144ms/step - loss: 0.5361 - val_loss: 0.4907\n",
      "Epoch 7/40\n",
      "15/15 [==============================] - 2s 137ms/step - loss: 0.4977 - val_loss: 0.4597\n",
      "Epoch 8/40\n",
      "15/15 [==============================] - 2s 149ms/step - loss: 0.4736 - val_loss: 0.4649\n",
      "Epoch 9/40\n",
      "15/15 [==============================] - 2s 155ms/step - loss: 0.4269 - val_loss: 0.3899\n",
      "Epoch 10/40\n",
      "15/15 [==============================] - 3s 172ms/step - loss: 0.3978 - val_loss: 0.3831\n",
      "Epoch 11/40\n",
      "15/15 [==============================] - 3s 194ms/step - loss: 0.3912 - val_loss: 0.3446\n",
      "Epoch 12/40\n",
      "15/15 [==============================] - 3s 174ms/step - loss: 0.3757 - val_loss: 0.3488\n",
      "Epoch 13/40\n",
      "15/15 [==============================] - 3s 189ms/step - loss: 0.3727 - val_loss: 0.3625\n",
      "Epoch 14/40\n",
      "15/15 [==============================] - 3s 183ms/step - loss: 0.3811 - val_loss: 0.3351\n",
      "Epoch 15/40\n",
      "15/15 [==============================] - 3s 201ms/step - loss: 0.3634 - val_loss: 0.3572\n",
      "Epoch 16/40\n",
      "15/15 [==============================] - 3s 206ms/step - loss: 0.3662 - val_loss: 0.3278\n",
      "Epoch 17/40\n",
      "15/15 [==============================] - 3s 178ms/step - loss: 0.3560 - val_loss: 0.3186\n",
      "Epoch 18/40\n",
      "15/15 [==============================] - 3s 229ms/step - loss: 0.3512 - val_loss: 0.3300\n",
      "Epoch 19/40\n",
      "15/15 [==============================] - 3s 192ms/step - loss: 0.3581 - val_loss: 0.3274\n",
      "Epoch 20/40\n",
      "15/15 [==============================] - 3s 197ms/step - loss: 0.3442 - val_loss: 0.3152\n",
      "Epoch 21/40\n",
      "15/15 [==============================] - 3s 169ms/step - loss: 0.3442 - val_loss: 0.3170\n",
      "Epoch 22/40\n",
      "15/15 [==============================] - 3s 207ms/step - loss: 0.3575 - val_loss: 0.3228\n",
      "Epoch 23/40\n",
      "15/15 [==============================] - 3s 182ms/step - loss: 0.3362 - val_loss: 0.3197\n"
     ]
    }
   ],
   "source": [
    "btc_train_X, btc_train_y, btc_train_targets = create_timeseries_data(btc_train_scaled_sw, target_col, \n",
    "                                                                     input_len, steps_ahead)\n",
    "btc_test_X, btc_test_y, btc_test_targets = create_timeseries_data(btc_test_scaled_sw, target_col, \n",
    "                                                                  input_len, steps_ahead)\n",
    "\n",
    "print('Train X data shape:', btc_train_X.shape)\n",
    "print('Train y data shape:', btc_train_y.shape)\n",
    "\n",
    "# The input_timesteps and dim will vary depending on the data so add this to the configs based on the data\n",
    "btc_model_config = update_model_input_dim(lstm_config, btc_train_X.shape, btc_train_y.shape)\n",
    "\n",
    "# Instantiate model class\n",
    "btc_lstm_model = Model()\n",
    "\n",
    "# Build model\n",
    "btc_lstm_model.build_model(btc_model_config)\n",
    "\n",
    "btc_lstm_model.train(btc_train_X, btc_train_y, btc_train_config)"
   ]
  },
  {
   "cell_type": "code",
   "execution_count": 21,
   "id": "a4e91e50",
   "metadata": {},
   "outputs": [
    {
     "data": {
      "image/png": "[encoded data removed]",
      "text/plain": [
       "<Figure size 720x360 with 1 Axes>"
      ]
     },
     "metadata": {
      "needs_background": "light"
     },
     "output_type": "display_data"
    }
   ],
   "source": [
    "btc_predictions, btc_seq_metrics = evaluate_model(btc_lstm_model, btc_test_X, btc_test_y, \n",
    "                                                  total_len, prediction_len, steps_ahead)\n",
    "\n",
    "btc_base_sw_mda = mean_metric_results(btc_seq_metrics, 'mda')\n",
    "btc_base_sw_mase = mean_metric_results(btc_seq_metrics, 'mase')\n",
    "btc_base_sw_acc = mean_accuracy(btc_seq_metrics)\n",
    "\n",
    "title = 'Bitcoin Standard Scaling Window LSTM Model MDA: {:.3}, MASE: {:.3}, Accuracy: {:.3}'.format(btc_base_sw_mda, \n",
    "                                                                                                     btc_base_sw_mase,\n",
    "                                                                                                     btc_base_sw_acc)\n",
    "plot_results_multiple(btc_predictions, btc_test_y, prediction_len, title)"
   ]
  },
  {
   "cell_type": "markdown",
   "id": "d274e64c",
   "metadata": {},
   "source": [
    "Standard scaling across a window generally performs much better then the prior 2 methods.  Looking at the predictions these are much more accurate than prior scaling methods and this method had the highest sequence trend accuracy so far.  Window standard scalling will be explored further with Dogecoin."
   ]
  },
  {
   "cell_type": "markdown",
   "id": "5c4461c8",
   "metadata": {},
   "source": [
    "#### 4.1.1.4 Percentage Change Global"
   ]
  },
  {
   "cell_type": "code",
   "execution_count": 22,
   "id": "2f18418e",
   "metadata": {},
   "outputs": [
    {
     "name": "stdout",
     "output_type": "stream",
     "text": [
      "Train X data shape: (548, 49, 1)\n",
      "Train y data shape: (548, 1)\n",
      "Epoch 1/40\n",
      "15/15 [==============================] - 8s 231ms/step - loss: 0.0252 - val_loss: 0.0302\n",
      "Epoch 2/40\n",
      "15/15 [==============================] - 2s 150ms/step - loss: 0.0251 - val_loss: 0.0300\n",
      "Epoch 3/40\n",
      "15/15 [==============================] - 2s 148ms/step - loss: 0.0253 - val_loss: 0.0312\n",
      "Epoch 4/40\n",
      "15/15 [==============================] - 2s 141ms/step - loss: 0.0253 - val_loss: 0.0299\n",
      "Epoch 5/40\n",
      "15/15 [==============================] - 2s 149ms/step - loss: 0.0247 - val_loss: 0.0300\n",
      "Epoch 6/40\n",
      "15/15 [==============================] - 2s 142ms/step - loss: 0.0251 - val_loss: 0.0304\n",
      "Epoch 7/40\n",
      "15/15 [==============================] - 2s 137ms/step - loss: 0.0251 - val_loss: 0.0303\n"
     ]
    }
   ],
   "source": [
    "btc_train_X, btc_train_y, btc_train_targets = create_timeseries_data(btc_train_scaled_pg, target_col, \n",
    "                                                                     input_len, steps_ahead)\n",
    "btc_test_X, btc_test_y, btc_test_targets = create_timeseries_data(btc_test_scaled_pg, target_col, \n",
    "                                                                  input_len, steps_ahead)\n",
    "\n",
    "print('Train X data shape:', btc_train_X.shape)\n",
    "print('Train y data shape:', btc_train_y.shape)\n",
    "\n",
    "# The input_timesteps and dim will vary depending on the data so add this to the configs based on the data\n",
    "btc_model_config = update_model_input_dim(lstm_config, btc_train_X.shape, btc_train_y.shape)\n",
    "\n",
    "# Instantiate model class\n",
    "btc_lstm_model = Model()\n",
    "\n",
    "# Build model\n",
    "btc_lstm_model.build_model(btc_model_config)\n",
    "\n",
    "btc_lstm_model.train(btc_train_X, btc_train_y, btc_train_config)"
   ]
  },
  {
   "cell_type": "code",
   "execution_count": 23,
   "id": "b9586120",
   "metadata": {},
   "outputs": [
    {
     "data": {
      "image/png": "[encoded data removed]",
      "text/plain": [
       "<Figure size 720x360 with 1 Axes>"
      ]
     },
     "metadata": {
      "needs_background": "light"
     },
     "output_type": "display_data"
    }
   ],
   "source": [
    "btc_predictions, btc_seq_metrics = evaluate_model(btc_lstm_model, btc_test_X, btc_test_y, \n",
    "                                                  total_len, prediction_len, steps_ahead)\n",
    "\n",
    "btc_base_pg_mda = mean_metric_results(btc_seq_metrics, 'mda')\n",
    "btc_base_pg_mase = mean_metric_results(btc_seq_metrics, 'mase')\n",
    "btc_base_pg_acc = mean_accuracy(btc_seq_metrics)\n",
    "\n",
    "title = 'Bitcoin % Change Global LSTM Model MDA: {:.3}, MASE: {:.3}, Accuracy: {:.3}'.format(btc_base_pg_mda, \n",
    "                                                                                             btc_base_pg_mase,\n",
    "                                                                                            btc_base_pg_acc)\n",
    "plot_results_multiple(btc_predictions, btc_test_y, prediction_len, title)"
   ]
  },
  {
   "cell_type": "markdown",
   "id": "49f0fe10",
   "metadata": {},
   "source": [
    "% Change globally is clearly the worst performing.  The sequence predictions are almost completely flat.  This also highlights the weakness with all 3 metrics and essentially acts like a naive baseline model to just predict there will be no change in price."
   ]
  },
  {
   "cell_type": "markdown",
   "id": "dc5d5b60",
   "metadata": {},
   "source": [
    "#### 4.1.1.5 Percentage Change Window"
   ]
  },
  {
   "cell_type": "code",
   "execution_count": 24,
   "id": "3e6a84b2",
   "metadata": {},
   "outputs": [
    {
     "name": "stdout",
     "output_type": "stream",
     "text": [
      "Train X data shape: (549, 49, 1)\n",
      "Train y data shape: (549, 1)\n",
      "Epoch 1/40\n",
      "15/15 [==============================] - 7s 206ms/step - loss: 0.1054 - val_loss: 0.1711\n",
      "Epoch 2/40\n",
      "15/15 [==============================] - 2s 145ms/step - loss: 0.0823 - val_loss: 0.1407\n",
      "Epoch 3/40\n",
      "15/15 [==============================] - 2s 141ms/step - loss: 0.0786 - val_loss: 0.1284\n",
      "Epoch 4/40\n",
      "15/15 [==============================] - 2s 136ms/step - loss: 0.0735 - val_loss: 0.1071\n",
      "Epoch 5/40\n",
      "15/15 [==============================] - 2s 145ms/step - loss: 0.0680 - val_loss: 0.1011\n",
      "Epoch 6/40\n",
      "15/15 [==============================] - 2s 126ms/step - loss: 0.0627 - val_loss: 0.0876\n",
      "Epoch 7/40\n",
      "15/15 [==============================] - 2s 126ms/step - loss: 0.0613 - val_loss: 0.0816\n",
      "Epoch 8/40\n",
      "15/15 [==============================] - 2s 142ms/step - loss: 0.0585 - val_loss: 0.0795\n",
      "Epoch 9/40\n",
      "15/15 [==============================] - 2s 127ms/step - loss: 0.0534 - val_loss: 0.0781\n",
      "Epoch 10/40\n",
      "15/15 [==============================] - 2s 132ms/step - loss: 0.0533 - val_loss: 0.0789\n",
      "Epoch 11/40\n",
      "15/15 [==============================] - 2s 141ms/step - loss: 0.0516 - val_loss: 0.0686\n",
      "Epoch 12/40\n",
      "15/15 [==============================] - 2s 136ms/step - loss: 0.0490 - val_loss: 0.0661\n",
      "Epoch 13/40\n",
      "15/15 [==============================] - 2s 136ms/step - loss: 0.0462 - val_loss: 0.0647\n",
      "Epoch 14/40\n",
      "15/15 [==============================] - 2s 124ms/step - loss: 0.0434 - val_loss: 0.0607\n",
      "Epoch 15/40\n",
      "15/15 [==============================] - 2s 123ms/step - loss: 0.0420 - val_loss: 0.0615\n",
      "Epoch 16/40\n",
      "15/15 [==============================] - 2s 124ms/step - loss: 0.0405 - val_loss: 0.0604\n",
      "Epoch 17/40\n",
      "15/15 [==============================] - 2s 125ms/step - loss: 0.0404 - val_loss: 0.0546\n",
      "Epoch 18/40\n",
      "15/15 [==============================] - 2s 122ms/step - loss: 0.0404 - val_loss: 0.0571\n",
      "Epoch 19/40\n",
      "15/15 [==============================] - 2s 123ms/step - loss: 0.0378 - val_loss: 0.0541\n",
      "Epoch 20/40\n",
      "15/15 [==============================] - 2s 125ms/step - loss: 0.0371 - val_loss: 0.0544\n",
      "Epoch 21/40\n",
      "15/15 [==============================] - 2s 124ms/step - loss: 0.0367 - val_loss: 0.0562\n",
      "Epoch 22/40\n",
      "15/15 [==============================] - 2s 130ms/step - loss: 0.0373 - val_loss: 0.0533\n",
      "Epoch 23/40\n",
      "15/15 [==============================] - 2s 119ms/step - loss: 0.0362 - val_loss: 0.0503\n",
      "Epoch 24/40\n",
      "15/15 [==============================] - 2s 128ms/step - loss: 0.0345 - val_loss: 0.0551\n",
      "Epoch 25/40\n",
      "15/15 [==============================] - 2s 132ms/step - loss: 0.0364 - val_loss: 0.0531\n",
      "Epoch 26/40\n",
      "15/15 [==============================] - 2s 131ms/step - loss: 0.0367 - val_loss: 0.0503\n",
      "Epoch 27/40\n",
      "15/15 [==============================] - 2s 125ms/step - loss: 0.0363 - val_loss: 0.0520\n",
      "Epoch 28/40\n",
      "15/15 [==============================] - 2s 133ms/step - loss: 0.0366 - val_loss: 0.0492\n",
      "Epoch 29/40\n",
      "15/15 [==============================] - 2s 123ms/step - loss: 0.0364 - val_loss: 0.0499\n",
      "Epoch 30/40\n",
      "15/15 [==============================] - 2s 122ms/step - loss: 0.0359 - val_loss: 0.0492\n",
      "Epoch 31/40\n",
      "15/15 [==============================] - 2s 125ms/step - loss: 0.0352 - val_loss: 0.0514\n",
      "Epoch 32/40\n",
      "15/15 [==============================] - 2s 123ms/step - loss: 0.0351 - val_loss: 0.0491\n",
      "Epoch 33/40\n",
      "15/15 [==============================] - 2s 131ms/step - loss: 0.0340 - val_loss: 0.0480\n",
      "Epoch 34/40\n",
      "15/15 [==============================] - 2s 127ms/step - loss: 0.0346 - val_loss: 0.0509\n",
      "Epoch 35/40\n",
      "15/15 [==============================] - 2s 120ms/step - loss: 0.0355 - val_loss: 0.0498\n",
      "Epoch 36/40\n",
      "15/15 [==============================] - 2s 125ms/step - loss: 0.0356 - val_loss: 0.0463\n",
      "Epoch 37/40\n",
      "15/15 [==============================] - 2s 125ms/step - loss: 0.0345 - val_loss: 0.0502\n",
      "Epoch 38/40\n",
      "15/15 [==============================] - 2s 121ms/step - loss: 0.0330 - val_loss: 0.0492\n",
      "Epoch 39/40\n",
      "15/15 [==============================] - 2s 117ms/step - loss: 0.0341 - val_loss: 0.0505\n"
     ]
    }
   ],
   "source": [
    "btc_train_X, btc_train_y, btc_train_targets = create_timeseries_data(btc_train_scaled_pw, target_col, \n",
    "                                                                     input_len, steps_ahead)\n",
    "btc_test_X, btc_test_y, btc_test_targets = create_timeseries_data(btc_test_scaled_pw, target_col, \n",
    "                                                                  input_len, steps_ahead)\n",
    "\n",
    "print('Train X data shape:', btc_train_X.shape)\n",
    "print('Train y data shape:', btc_train_y.shape)\n",
    "\n",
    "# The input_timesteps and dim will vary depending on the data so add this to the configs based on the data\n",
    "btc_model_config = update_model_input_dim(lstm_config, btc_train_X.shape, btc_train_y.shape)\n",
    "\n",
    "\n",
    "# Instantiate model class\n",
    "btc_lstm_model = Model()\n",
    "\n",
    "# Build model\n",
    "btc_lstm_model.build_model(btc_model_config)\n",
    "\n",
    "btc_lstm_model.train(btc_train_X, btc_train_y, btc_train_config)"
   ]
  },
  {
   "cell_type": "code",
   "execution_count": 25,
   "id": "cfeeaf75",
   "metadata": {},
   "outputs": [
    {
     "data": {
      "image/png": "[encoded data removed]",
      "text/plain": [
       "<Figure size 720x360 with 1 Axes>"
      ]
     },
     "metadata": {
      "needs_background": "light"
     },
     "output_type": "display_data"
    }
   ],
   "source": [
    "btc_predictions, btc_seq_metrics = evaluate_model(btc_lstm_model, btc_test_X, btc_test_y, \n",
    "                                                  total_len, prediction_len, steps_ahead)\n",
    "\n",
    "btc_base_pw_mda = mean_metric_results(btc_seq_metrics, 'mda')\n",
    "btc_base_pw_mase = mean_metric_results(btc_seq_metrics, 'mase')\n",
    "btc_base_pw_acc = mean_accuracy(btc_seq_metrics)\n",
    "\n",
    "title = 'Bitcoin % Change Window LSTM Model MDA: {:.3}, MASE: {:.3}, Accuracy: {:.3}'.format(btc_base_pw_mda, \n",
    "                                                                                             btc_base_pw_mase,\n",
    "                                                                                            btc_base_pw_acc)\n",
    "plot_results_multiple(btc_predictions, btc_test_y, prediction_len, title)"
   ]
  },
  {
   "cell_type": "markdown",
   "id": "874b81b7",
   "metadata": {},
   "source": [
    "##### Training Runs"
   ]
  },
  {
   "cell_type": "markdown",
   "id": "dd0ccc36",
   "metadata": {},
   "source": [
    "Due to stochastic nature of a rnn model training, the results can vary for each run so next I will train a model for Standard and % Change window scalling multiple times and then average the evaluation metrics."
   ]
  },
  {
   "cell_type": "markdown",
   "id": "dde43fdc",
   "metadata": {},
   "source": [
    "##### Bitcoin"
   ]
  },
  {
   "cell_type": "code",
   "execution_count": 26,
   "id": "a4e9fa7e",
   "metadata": {},
   "outputs": [],
   "source": [
    "# Train and evaluate model for specified training runs\n",
    "def model_training_runs(training_runs, model_config, train_config, train_X, train_y, test_X, test_y, \n",
    "                        total_len, prediction_len, steps_ahead, verbose=True):\n",
    "    training_run_results = []\n",
    "    for i in range(training_runs):\n",
    "        # Instantiate model class\n",
    "        lstm_model = Model()\n",
    "        # Build model\n",
    "        lstm_model.build_model(model_config)\n",
    "        if verbose:\n",
    "            print('Model Training started for instance {}'.format(i+1))\n",
    "        # Train model\n",
    "        lstm_model.train(train_X, train_y, train_config)\n",
    "        # Evaluate model\n",
    "        predictions, seq_metrics = evaluate_model(lstm_model, test_X, test_y, total_len, prediction_len, steps_ahead)\n",
    "        # Append results\n",
    "        training_run_results.append(seq_metrics)\n",
    "    return training_run_results"
   ]
  },
  {
   "cell_type": "code",
   "execution_count": 27,
   "id": "1c3935cf",
   "metadata": {},
   "outputs": [
    {
     "name": "stdout",
     "output_type": "stream",
     "text": [
      "Model Training started for instance 1\n",
      "Model Training started for instance 2\n",
      "Model Training started for instance 3\n",
      "Model Training started for instance 4\n",
      "Model Training started for instance 5\n",
      "Model Training started for instance 6\n",
      "Model Training started for instance 7\n",
      "Model Training started for instance 8\n",
      "Model Training started for instance 9\n",
      "Model Training started for instance 10\n"
     ]
    }
   ],
   "source": [
    "training_runs = 10\n",
    "\n",
    "# Recreate train/test data with standard window scaled data\n",
    "btc_train_X, btc_train_y, btc_train_targets = create_timeseries_data(btc_train_scaled_sw, target_col, \n",
    "                                                                     input_len, steps_ahead)\n",
    "btc_test_X, btc_test_y, btc_test_targets = create_timeseries_data(btc_test_scaled_sw, target_col, \n",
    "                                                                  input_len, steps_ahead)\n",
    "\n",
    "# Turn off verbose since training multiple models\n",
    "btc_train_config['verbose'] = 0\n",
    "\n",
    "btc_model_config = update_model_input_dim(lstm_config, btc_train_X.shape, btc_train_y.shape)\n",
    "\n",
    "btc_sw_results = model_training_runs(training_runs, btc_model_config, btc_train_config, \n",
    "                                     btc_train_X, btc_train_y, \n",
    "                                     btc_test_X, btc_test_y, \n",
    "                                     total_len, prediction_len, steps_ahead)"
   ]
  },
  {
   "cell_type": "code",
   "execution_count": 28,
   "id": "cd07dc19",
   "metadata": {},
   "outputs": [
    {
     "name": "stdout",
     "output_type": "stream",
     "text": [
      "Bitcoin Standard Scaling Window Baseline Metrics MDA: 0.547, MASE: 1.87, Accuracy: 0.48.\n"
     ]
    }
   ],
   "source": [
    "btc_base_sw_mda = mean_metric_seq_results(btc_sw_results, 'mda')\n",
    "btc_base_sw_mase = mean_metric_seq_results(btc_sw_results, 'mase')\n",
    "btc_base_sw_acc = mean_accuracy_seq(btc_sw_results)\n",
    "print('Bitcoin Standard Scaling Window Baseline Metrics MDA: {:.3}, MASE: {:.3}, Accuracy: {:.3}.'.\\\n",
    "format(btc_base_sw_mda, btc_base_sw_mase, btc_base_sw_acc))"
   ]
  },
  {
   "cell_type": "code",
   "execution_count": 29,
   "id": "7bc05143",
   "metadata": {},
   "outputs": [
    {
     "name": "stdout",
     "output_type": "stream",
     "text": [
      "Model Training started for instance 1\n",
      "Model Training started for instance 2\n",
      "Model Training started for instance 3\n",
      "Model Training started for instance 4\n",
      "Model Training started for instance 5\n",
      "Model Training started for instance 6\n",
      "Model Training started for instance 7\n",
      "Model Training started for instance 8\n",
      "Model Training started for instance 9\n",
      "Model Training started for instance 10\n"
     ]
    }
   ],
   "source": [
    "# Recreate train/test data with % change window scaled data\n",
    "btc_train_X, btc_train_y, btc_train_targets = create_timeseries_data(btc_train_scaled_pw, target_col, \n",
    "                                                                     input_len, steps_ahead)\n",
    "btc_test_X, btc_test_y, btc_test_targets = create_timeseries_data(btc_test_scaled_pw, target_col, \n",
    "                                                                  input_len, steps_ahead)\n",
    "\n",
    "# Turn off verbose since training multiple models\n",
    "btc_train_config['verbose'] = 0\n",
    "\n",
    "btc_model_config = update_model_input_dim(lstm_config, btc_train_X.shape, btc_train_y.shape)\n",
    "\n",
    "btc_pw_results = model_training_runs(training_runs, btc_model_config, btc_train_config, \n",
    "                                     btc_train_X, btc_train_y, \n",
    "                                     btc_test_X, btc_test_y, \n",
    "                                     total_len, prediction_len, steps_ahead)"
   ]
  },
  {
   "cell_type": "code",
   "execution_count": 30,
   "id": "03fc9dba",
   "metadata": {},
   "outputs": [
    {
     "name": "stdout",
     "output_type": "stream",
     "text": [
      "Bitcoin % Change Scaling Window Baseline Metrics MDA: 0.537, MASE: 1.98, Accuracy: 0.49.\n"
     ]
    }
   ],
   "source": [
    "btc_base_pw_mda = mean_metric_seq_results(btc_pw_results, 'mda')\n",
    "btc_base_pw_mase = mean_metric_seq_results(btc_pw_results, 'mase')\n",
    "btc_base_pw_acc = mean_accuracy_seq(btc_pw_results)\n",
    "print('Bitcoin % Change Scaling Window Baseline Metrics MDA: {:.3}, MASE: {:.3}, Accuracy: {:.3}.'.\\\n",
    "format(btc_base_pw_mda, btc_base_pw_mase, btc_base_pw_acc))"
   ]
  },
  {
   "cell_type": "markdown",
   "id": "fede2d78",
   "metadata": {},
   "source": [
    "##### Dogecoin"
   ]
  },
  {
   "cell_type": "markdown",
   "id": "ed3ed8b2",
   "metadata": {},
   "source": [
    "This will be the first time creating a model for Dogecoin so need to create the datasets and configs."
   ]
  },
  {
   "cell_type": "code",
   "execution_count": 31,
   "id": "d637e104",
   "metadata": {},
   "outputs": [
    {
     "name": "stdout",
     "output_type": "stream",
     "text": [
      "Train data shape: (549, 49, 1)\n",
      "Train y shape: (71, 1)\n"
     ]
    }
   ],
   "source": [
    "# Create train/test data for doge\n",
    "doge_train_X, doge_train_y, doge_train_targets = create_timeseries_data(doge_train_scaled_sw, target_col, \n",
    "                                                                        input_len, steps_ahead)\n",
    "doge_test_X, doge_test_y, doge_test_targets = create_timeseries_data(doge_test_scaled_sw, target_col, \n",
    "                                                  input_len, steps_ahead)\n",
    "\n",
    "print('Train data shape:', doge_train_X.shape)\n",
    "print('Train y shape:', doge_test_y.shape)"
   ]
  },
  {
   "cell_type": "code",
   "execution_count": 32,
   "id": "a57bcda7",
   "metadata": {},
   "outputs": [
    {
     "data": {
      "text/plain": [
       "{'model': {'loss': 'mae',\n",
       "  'optimizer': {'learning_rate': 0.001,\n",
       "   'beta_1': 0.9,\n",
       "   'beta_2': 0.999,\n",
       "   'epsilon': 1e-07},\n",
       "  'layers': [{'type': 'lstm',\n",
       "    'neurons': 100,\n",
       "    'return_seq': True,\n",
       "    'input_timesteps': 49,\n",
       "    'input_dim': 1},\n",
       "   {'type': 'dropout', 'rate': 0.2},\n",
       "   {'type': 'lstm', 'neurons': 100, 'return_seq': True},\n",
       "   {'type': 'lstm', 'neurons': 100, 'return_seq': False},\n",
       "   {'type': 'dropout', 'rate': 0.2},\n",
       "   {'type': 'dense', 'neurons': 1, 'activation': 'linear'}]}}"
      ]
     },
     "execution_count": 32,
     "metadata": {},
     "output_type": "execute_result"
    }
   ],
   "source": [
    "# The input_timesteps and dim will vary depending on the data so add this to the configs based on the data\n",
    "doge_model_config = update_model_input_dim(lstm_config, doge_train_X.shape, doge_test_y.shape)\n",
    "doge_model_config"
   ]
  },
  {
   "cell_type": "code",
   "execution_count": 33,
   "id": "b502ec29",
   "metadata": {},
   "outputs": [
    {
     "data": {
      "text/plain": [
       "{'epochs': 40,\n",
       " 'batch_size': 32,\n",
       " 'validation_split': 0.15,\n",
       " 'verbose': 0,\n",
       " 'patience': 3,\n",
       " 'model_checkpoint': True,\n",
       " 'save_fname': '..\\\\models\\\\doge_lstm.h5'}"
      ]
     },
     "execution_count": 33,
     "metadata": {},
     "output_type": "execute_result"
    }
   ],
   "source": [
    "doge_model_save_fname = os.path.join(model_save_dir, 'doge_lstm.h5')\n",
    "# Create LSTM model training configuration params for Dogecoin\n",
    "doge_train_config = dict(epochs=40,\n",
    "                        batch_size=32,\n",
    "                        validation_split=0.15,\n",
    "                        verbose=0,\n",
    "                        patience=3,\n",
    "                        model_checkpoint=True,\n",
    "                        save_fname=doge_model_save_fname\n",
    "                       )\n",
    "doge_train_config"
   ]
  },
  {
   "cell_type": "code",
   "execution_count": 34,
   "id": "c59127bf",
   "metadata": {},
   "outputs": [
    {
     "name": "stdout",
     "output_type": "stream",
     "text": [
      "Model Training started for instance 1\n",
      "Model Training started for instance 2\n",
      "Model Training started for instance 3\n",
      "Model Training started for instance 4\n",
      "Model Training started for instance 5\n",
      "Model Training started for instance 6\n",
      "Model Training started for instance 7\n",
      "Model Training started for instance 8\n",
      "Model Training started for instance 9\n",
      "Model Training started for instance 10\n"
     ]
    }
   ],
   "source": [
    "doge_sw_results = model_training_runs(training_runs, doge_model_config, doge_train_config, \n",
    "                                     doge_train_X, doge_train_y, \n",
    "                                     doge_test_X, doge_test_y, \n",
    "                                     total_len, prediction_len, steps_ahead)"
   ]
  },
  {
   "cell_type": "code",
   "execution_count": 37,
   "id": "27d66777",
   "metadata": {},
   "outputs": [
    {
     "name": "stdout",
     "output_type": "stream",
     "text": [
      "Dogecoin Standard Scaling Window Baseline Metrics MDA: 0.5, MASE: 5.22, Accuracy: 0.62.\n"
     ]
    }
   ],
   "source": [
    "doge_base_sw_mda = mean_metric_seq_results(doge_sw_results, 'mda')\n",
    "doge_base_sw_mase = mean_metric_seq_results(doge_sw_results, 'mase')\n",
    "doge_base_sw_acc = mean_accuracy_seq(doge_sw_results)\n",
    "print('Dogecoin Standard Scaling Window Baseline Metrics MDA: {:.3}, MASE: {:.3}, Accuracy: {:.3}.'.\\\n",
    "format(doge_base_sw_mda, doge_base_sw_mase, doge_base_sw_acc))"
   ]
  },
  {
   "cell_type": "code",
   "execution_count": 36,
   "id": "ff4b2954",
   "metadata": {},
   "outputs": [
    {
     "name": "stdout",
     "output_type": "stream",
     "text": [
      "Train data shape: (549, 49, 1)\n",
      "Train y shape: (71, 1)\n",
      "Model Training started for instance 1\n",
      "Model Training started for instance 2\n",
      "Model Training started for instance 3\n",
      "Model Training started for instance 4\n",
      "Model Training started for instance 5\n",
      "Model Training started for instance 6\n",
      "Model Training started for instance 7\n",
      "Model Training started for instance 8\n",
      "Model Training started for instance 9\n",
      "Model Training started for instance 10\n"
     ]
    }
   ],
   "source": [
    "# Create train/test data for doge\n",
    "doge_train_X, doge_train_y, doge_train_targets = create_timeseries_data(doge_train_scaled_pw, target_col, \n",
    "                                                                        input_len, steps_ahead)\n",
    "doge_test_X, doge_test_y, doge_test_targets = create_timeseries_data(doge_test_scaled_pw, target_col, \n",
    "                                                  input_len, steps_ahead)\n",
    "\n",
    "print('Train data shape:', doge_train_X.shape)\n",
    "print('Train y shape:', doge_test_y.shape)\n",
    "\n",
    "# Turn off verbose since training multiple models\n",
    "doge_train_config['verbose'] = 0\n",
    "doge_model_config = update_model_input_dim(lstm_config, doge_train_X.shape, doge_test_y.shape)\n",
    "\n",
    "doge_pw_results = model_training_runs(training_runs, doge_model_config, doge_train_config, \n",
    "                                     doge_train_X, doge_train_y, \n",
    "                                     doge_test_X, doge_test_y, \n",
    "                                     total_len, prediction_len, steps_ahead)"
   ]
  },
  {
   "cell_type": "code",
   "execution_count": 38,
   "id": "9f442887",
   "metadata": {},
   "outputs": [
    {
     "name": "stdout",
     "output_type": "stream",
     "text": [
      "Dogecoin % Change Scaling Window Baseline Metrics MDA: 0.528, MASE: 7.88, Accuracy: 0.62.\n"
     ]
    }
   ],
   "source": [
    "doge_base_pw_mda = mean_metric_seq_results(doge_pw_results, 'mda')\n",
    "doge_base_pw_mase = mean_metric_seq_results(doge_pw_results, 'mase')\n",
    "doge_base_pw_acc = mean_accuracy_seq(doge_sw_results)\n",
    "print('Dogecoin % Change Scaling Window Baseline Metrics MDA: {:.3}, MASE: {:.3}, Accuracy: {:.3}.'.\\\n",
    "format(doge_base_pw_mda, doge_base_pw_mase, doge_base_pw_acc))"
   ]
  },
  {
   "cell_type": "markdown",
   "id": "4ec374a2",
   "metadata": {},
   "source": [
    "I will utilize Standard scaling windows moving forward.  Standard scaling normalized the data better for Dogecoin so appears to be a more generalized approach to be applied to future coins.  The difference between Standard and % Change window scaling is pretty minimal so may consider using % Change window scaling in the future depending on the coin."
   ]
  },
  {
   "cell_type": "markdown",
   "id": "748f0ef9",
   "metadata": {},
   "source": [
    "### 4.1.2 Multi-Dimensional LSTM Model"
   ]
  },
  {
   "cell_type": "markdown",
   "id": "3107a73c",
   "metadata": {},
   "source": [
    "I have over 100 features so instead of using all in a multi-dimensional model I will train a model with each incrementally added to `close` and then evaluate if the feature improves from the baseline one-dimensional model.  I will then select the features for each Bitcoin and Dogecoin model."
   ]
  },
  {
   "cell_type": "markdown",
   "id": "72f34a1b",
   "metadata": {},
   "source": [
    "##### Bitcoin"
   ]
  },
  {
   "cell_type": "code",
   "execution_count": 39,
   "id": "59b7afb1",
   "metadata": {},
   "outputs": [],
   "source": [
    "btc_search_cols = list(btc.drop(['asset_id', 'time', 'open', 'close', 'name', 'symbol', 'price_btc',\n",
    "                             'close_end_1d', 'close_percent_change_1d', 'close_end_7d', 'close_min_7d', \n",
    "                             'close_max_7d', 'close_loss_7d', 'close_gain_7d', 'close_change_7d', \n",
    "                             'close_percent_change_7d', 'decision','color','angle', 'intercept']\n",
    "                            , axis=1).columns)"
   ]
  },
  {
   "cell_type": "code",
   "execution_count": 41,
   "id": "a5abf502",
   "metadata": {},
   "outputs": [],
   "source": [
    "def model_training_search_cols(search_cols, training_runs, target_col, scaler, df, \n",
    "                               test_periods, input_len, total_len, prediction_len, steps_ahead,\n",
    "                              train_config, baseline, verbose=False):\n",
    "    search_results = {}\n",
    "    for col in search_cols:\n",
    "        cols = [*[target_col], *[col]]\n",
    "        try:\n",
    "            # Scale data based on new cols list\n",
    "            data, train_scaled, test_scaled, scalers = data_preprocessing_standardize(scaler, df, cols, test_periods, \n",
    "                                                                                      total_len)\n",
    "\n",
    "            # Create train/test datasets\n",
    "            train_X, train_y, train_targets = create_timeseries_data(train_scaled, target_col, input_len, steps_ahead)\n",
    "            test_X, test_y, test_targets = create_timeseries_data(test_scaled, target_col, input_len, steps_ahead)\n",
    "\n",
    "            model_config = update_model_input_dim(lstm_config, train_X.shape, train_y.shape)\n",
    "\n",
    "            run_results = model_training_runs(training_runs, model_config, train_config, \n",
    "                                              train_X, train_y,\n",
    "                                              test_X, test_y,\n",
    "                                              total_len, prediction_len, steps_ahead,\n",
    "                                              verbose=False) # Always False for training runs due # of lines in output\n",
    "\n",
    "            mda = mean_metric_seq_results(run_results, 'mda')\n",
    "            mase = mean_metric_seq_results(run_results, 'mase')\n",
    "            acc = mean_accuracy_seq(run_results)\n",
    "\n",
    "            # Save results\n",
    "            search_results[col] = {'mda': mda, 'mase': mase, 'accuracy': acc}\n",
    "\n",
    "            if acc > baseline or verbose:\n",
    "                print('LSTM model trained with \"' + \n",
    "                      col + '\". {} training run(s) trend accuracy of {:.3}.'.format(training_runs, acc))\n",
    "        except:\n",
    "            print('Unable to train model for \"' + col + '\".')\n",
    "    return search_results"
   ]
  },
  {
   "cell_type": "code",
   "execution_count": 42,
   "id": "14f33851",
   "metadata": {},
   "outputs": [
    {
     "name": "stdout",
     "output_type": "stream",
     "text": [
      "LSTM model trained with \"high\". 1 training run(s) trend accuracy of 0.5.\n",
      "LSTM model trained with \"volume\". 1 training run(s) trend accuracy of 0.5.\n",
      "LSTM model trained with \"url_shares\". 1 training run(s) trend accuracy of 0.6.\n",
      "LSTM model trained with \"tweets\". 1 training run(s) trend accuracy of 0.5.\n",
      "LSTM model trained with \"tweet_spam\". 1 training run(s) trend accuracy of 0.6.\n",
      "LSTM model trained with \"tweet_sentiment2\". 1 training run(s) trend accuracy of 0.6.\n",
      "LSTM model trained with \"tweet_sentiment3\". 1 training run(s) trend accuracy of 0.6.\n",
      "LSTM model trained with \"tweet_sentiment4\". 1 training run(s) trend accuracy of 0.5.\n",
      "LSTM model trained with \"tweet_sentiment5\". 1 training run(s) trend accuracy of 0.5.\n",
      "LSTM model trained with \"tweet_sentiment_impact1\". 1 training run(s) trend accuracy of 0.5.\n",
      "LSTM model trained with \"tweet_sentiment_impact2\". 1 training run(s) trend accuracy of 0.5.\n",
      "LSTM model trained with \"tweet_sentiment_impact3\". 1 training run(s) trend accuracy of 0.5.\n",
      "LSTM model trained with \"tweet_sentiment_impact4\". 1 training run(s) trend accuracy of 0.6.\n",
      "LSTM model trained with \"social_score\". 1 training run(s) trend accuracy of 0.5.\n",
      "LSTM model trained with \"news\". 1 training run(s) trend accuracy of 0.6.\n",
      "LSTM model trained with \"social_impact_score\". 1 training run(s) trend accuracy of 0.5.\n",
      "LSTM model trained with \"volatility\". 1 training run(s) trend accuracy of 0.5.\n",
      "LSTM model trained with \"alt_rank\". 1 training run(s) trend accuracy of 0.6.\n",
      "LSTM model trained with \"percent_change_24h_rank\". 1 training run(s) trend accuracy of 0.7.\n",
      "LSTM model trained with \"volume_24h_rank\". 1 training run(s) trend accuracy of 0.7.\n",
      "LSTM model trained with \"social_volume_24h_rank\". 1 training run(s) trend accuracy of 0.7.\n",
      "LSTM model trained with \"social_score_24h_rank\". 1 training run(s) trend accuracy of 0.5.\n",
      "LSTM model trained with \"medium\". 1 training run(s) trend accuracy of 0.6.\n",
      "LSTM model trained with \"youtube\". 1 training run(s) trend accuracy of 0.7.\n",
      "LSTM model trained with \"social_volume\". 1 training run(s) trend accuracy of 0.6.\n",
      "LSTM model trained with \"social_volume_global\". 1 training run(s) trend accuracy of 0.5.\n",
      "LSTM model trained with \"market_dominance\". 1 training run(s) trend accuracy of 0.5.\n",
      "LSTM model trained with \"adx\". 1 training run(s) trend accuracy of 0.5.\n",
      "LSTM model trained with \"cmo\". 1 training run(s) trend accuracy of 0.5.\n",
      "LSTM model trained with \"dx\". 1 training run(s) trend accuracy of 0.7.\n",
      "LSTM model trained with \"roc\". 1 training run(s) trend accuracy of 0.5.\n",
      "LSTM model trained with \"willr\". 1 training run(s) trend accuracy of 0.5.\n",
      "LSTM model trained with \"corr\". 1 training run(s) trend accuracy of 0.6.\n",
      "LSTM model trained with \"slope\". 1 training run(s) trend accuracy of 0.5.\n",
      "LSTM model trained with \"stdev\". 1 training run(s) trend accuracy of 0.5.\n",
      "LSTM model trained with \"tsf\". 1 training run(s) trend accuracy of 0.6.\n",
      "LSTM model trained with \"bband_middle\". 1 training run(s) trend accuracy of 0.6.\n",
      "LSTM model trained with \"macdsignal\". 1 training run(s) trend accuracy of 0.6.\n",
      "LSTM model trained with \"macdhist\". 1 training run(s) trend accuracy of 0.5.\n",
      "LSTM model trained with \"ppo\". 1 training run(s) trend accuracy of 0.5.\n",
      "LSTM model trained with \"tweet_sentiment_net\". 1 training run(s) trend accuracy of 0.5.\n",
      "LSTM model trained with \"tweet_sentiment_impact_bullish\". 1 training run(s) trend accuracy of 0.6.\n",
      "LSTM model trained with \"tweet_sentiment_impact_net\". 1 training run(s) trend accuracy of 0.5.\n",
      "LSTM model trained with \"tweets_mean\". 1 training run(s) trend accuracy of 0.7.\n",
      "LSTM model trained with \"news_mean\". 1 training run(s) trend accuracy of 0.6.\n",
      "LSTM model trained with \"social_volume_global_mean\". 1 training run(s) trend accuracy of 0.6.\n",
      "LSTM model trained with \"tweet_sentiment1_stdev\". 1 training run(s) trend accuracy of 0.6.\n",
      "LSTM model trained with \"tweet_sentiment_impact_bearish_stdev\". 1 training run(s) trend accuracy of 0.6.\n",
      "LSTM model trained with \"market_dominance_stdev\". 1 training run(s) trend accuracy of 0.5.\n",
      "LSTM model trained with \"market_cap_global_pct_change\". 1 training run(s) trend accuracy of 0.5.\n"
     ]
    }
   ],
   "source": [
    "# Set verbose to off since training many models\n",
    "btc_train_config['verbose'] = 0\n",
    "# For the first run for all columns set training runs to 1\n",
    "training_runs = 1\n",
    "btc_search_results = model_training_search_cols(btc_search_cols, training_runs, target_col, standard_scaler, btc, \n",
    "                                                test_periods, input_len, total_len, prediction_len, steps_ahead,\n",
    "                                                btc_train_config, btc_base_sw_acc)"
   ]
  },
  {
   "cell_type": "code",
   "execution_count": 43,
   "id": "0a2d1d10",
   "metadata": {},
   "outputs": [
    {
     "data": {
      "text/html": [
       "<div>\n",
       "<style scoped>\n",
       "    .dataframe tbody tr th:only-of-type {\n",
       "        vertical-align: middle;\n",
       "    }\n",
       "\n",
       "    .dataframe tbody tr th {\n",
       "        vertical-align: top;\n",
       "    }\n",
       "\n",
       "    .dataframe thead th {\n",
       "        text-align: right;\n",
       "    }\n",
       "</style>\n",
       "<table border=\"1\" class=\"dataframe\">\n",
       "  <thead>\n",
       "    <tr style=\"text-align: right;\">\n",
       "      <th></th>\n",
       "      <th>mda</th>\n",
       "      <th>mase</th>\n",
       "      <th>accuracy</th>\n",
       "    </tr>\n",
       "  </thead>\n",
       "  <tbody>\n",
       "    <tr>\n",
       "      <th>social_volume_24h_rank</th>\n",
       "      <td>0.550000</td>\n",
       "      <td>2.169999</td>\n",
       "      <td>0.7</td>\n",
       "    </tr>\n",
       "    <tr>\n",
       "      <th>volume_24h_rank</th>\n",
       "      <td>0.633333</td>\n",
       "      <td>1.969215</td>\n",
       "      <td>0.7</td>\n",
       "    </tr>\n",
       "    <tr>\n",
       "      <th>percent_change_24h_rank</th>\n",
       "      <td>0.583333</td>\n",
       "      <td>1.986021</td>\n",
       "      <td>0.7</td>\n",
       "    </tr>\n",
       "    <tr>\n",
       "      <th>youtube</th>\n",
       "      <td>0.566667</td>\n",
       "      <td>1.940532</td>\n",
       "      <td>0.7</td>\n",
       "    </tr>\n",
       "    <tr>\n",
       "      <th>dx</th>\n",
       "      <td>0.633333</td>\n",
       "      <td>1.700796</td>\n",
       "      <td>0.7</td>\n",
       "    </tr>\n",
       "    <tr>\n",
       "      <th>tweets_mean</th>\n",
       "      <td>0.700000</td>\n",
       "      <td>1.726347</td>\n",
       "      <td>0.7</td>\n",
       "    </tr>\n",
       "    <tr>\n",
       "      <th>tweet_sentiment3</th>\n",
       "      <td>0.633333</td>\n",
       "      <td>1.799785</td>\n",
       "      <td>0.6</td>\n",
       "    </tr>\n",
       "    <tr>\n",
       "      <th>medium</th>\n",
       "      <td>0.650000</td>\n",
       "      <td>1.889134</td>\n",
       "      <td>0.6</td>\n",
       "    </tr>\n",
       "    <tr>\n",
       "      <th>alt_rank</th>\n",
       "      <td>0.483333</td>\n",
       "      <td>1.887370</td>\n",
       "      <td>0.6</td>\n",
       "    </tr>\n",
       "    <tr>\n",
       "      <th>social_volume</th>\n",
       "      <td>0.583333</td>\n",
       "      <td>2.099818</td>\n",
       "      <td>0.6</td>\n",
       "    </tr>\n",
       "  </tbody>\n",
       "</table>\n",
       "</div>"
      ],
      "text/plain": [
       "                              mda      mase  accuracy\n",
       "social_volume_24h_rank   0.550000  2.169999       0.7\n",
       "volume_24h_rank          0.633333  1.969215       0.7\n",
       "percent_change_24h_rank  0.583333  1.986021       0.7\n",
       "youtube                  0.566667  1.940532       0.7\n",
       "dx                       0.633333  1.700796       0.7\n",
       "tweets_mean              0.700000  1.726347       0.7\n",
       "tweet_sentiment3         0.633333  1.799785       0.6\n",
       "medium                   0.650000  1.889134       0.6\n",
       "alt_rank                 0.483333  1.887370       0.6\n",
       "social_volume            0.583333  2.099818       0.6"
      ]
     },
     "execution_count": 43,
     "metadata": {},
     "output_type": "execute_result"
    }
   ],
   "source": [
    "btc_search_results_df = pd.DataFrame(btc_search_results).T\n",
    "\n",
    "# Top 10 by accuracy\n",
    "btc_search_results_df.sort_values(by='accuracy', ascending=False).head(10)"
   ]
  },
  {
   "cell_type": "code",
   "execution_count": 44,
   "id": "5fa10680",
   "metadata": {},
   "outputs": [
    {
     "data": {
      "text/html": [
       "<div>\n",
       "<style scoped>\n",
       "    .dataframe tbody tr th:only-of-type {\n",
       "        vertical-align: middle;\n",
       "    }\n",
       "\n",
       "    .dataframe tbody tr th {\n",
       "        vertical-align: top;\n",
       "    }\n",
       "\n",
       "    .dataframe thead th {\n",
       "        text-align: right;\n",
       "    }\n",
       "</style>\n",
       "<table border=\"1\" class=\"dataframe\">\n",
       "  <thead>\n",
       "    <tr style=\"text-align: right;\">\n",
       "      <th></th>\n",
       "      <th>mda</th>\n",
       "      <th>mase</th>\n",
       "      <th>accuracy</th>\n",
       "    </tr>\n",
       "  </thead>\n",
       "  <tbody>\n",
       "    <tr>\n",
       "      <th>tweets_mean</th>\n",
       "      <td>0.700000</td>\n",
       "      <td>1.726347</td>\n",
       "      <td>0.7</td>\n",
       "    </tr>\n",
       "    <tr>\n",
       "      <th>volatility_mean</th>\n",
       "      <td>0.666667</td>\n",
       "      <td>1.889638</td>\n",
       "      <td>0.4</td>\n",
       "    </tr>\n",
       "    <tr>\n",
       "      <th>medium</th>\n",
       "      <td>0.650000</td>\n",
       "      <td>1.889134</td>\n",
       "      <td>0.6</td>\n",
       "    </tr>\n",
       "    <tr>\n",
       "      <th>tweets</th>\n",
       "      <td>0.650000</td>\n",
       "      <td>1.653568</td>\n",
       "      <td>0.5</td>\n",
       "    </tr>\n",
       "    <tr>\n",
       "      <th>tweet_sentiment3</th>\n",
       "      <td>0.633333</td>\n",
       "      <td>1.799785</td>\n",
       "      <td>0.6</td>\n",
       "    </tr>\n",
       "    <tr>\n",
       "      <th>volume_24h_rank</th>\n",
       "      <td>0.633333</td>\n",
       "      <td>1.969215</td>\n",
       "      <td>0.7</td>\n",
       "    </tr>\n",
       "    <tr>\n",
       "      <th>tweet_sentiment_net</th>\n",
       "      <td>0.633333</td>\n",
       "      <td>1.707847</td>\n",
       "      <td>0.5</td>\n",
       "    </tr>\n",
       "    <tr>\n",
       "      <th>market_dominance_stdev</th>\n",
       "      <td>0.633333</td>\n",
       "      <td>1.784093</td>\n",
       "      <td>0.5</td>\n",
       "    </tr>\n",
       "    <tr>\n",
       "      <th>dx</th>\n",
       "      <td>0.633333</td>\n",
       "      <td>1.700796</td>\n",
       "      <td>0.7</td>\n",
       "    </tr>\n",
       "    <tr>\n",
       "      <th>tweet_sentiment_bearish</th>\n",
       "      <td>0.616667</td>\n",
       "      <td>1.580976</td>\n",
       "      <td>0.4</td>\n",
       "    </tr>\n",
       "  </tbody>\n",
       "</table>\n",
       "</div>"
      ],
      "text/plain": [
       "                              mda      mase  accuracy\n",
       "tweets_mean              0.700000  1.726347       0.7\n",
       "volatility_mean          0.666667  1.889638       0.4\n",
       "medium                   0.650000  1.889134       0.6\n",
       "tweets                   0.650000  1.653568       0.5\n",
       "tweet_sentiment3         0.633333  1.799785       0.6\n",
       "volume_24h_rank          0.633333  1.969215       0.7\n",
       "tweet_sentiment_net      0.633333  1.707847       0.5\n",
       "market_dominance_stdev   0.633333  1.784093       0.5\n",
       "dx                       0.633333  1.700796       0.7\n",
       "tweet_sentiment_bearish  0.616667  1.580976       0.4"
      ]
     },
     "execution_count": 44,
     "metadata": {},
     "output_type": "execute_result"
    }
   ],
   "source": [
    "# Top 10 by mda\n",
    "btc_search_results_df.sort_values(by='mda', ascending=False).head(10)"
   ]
  },
  {
   "cell_type": "code",
   "execution_count": 45,
   "id": "275bbc28",
   "metadata": {},
   "outputs": [
    {
     "data": {
      "text/html": [
       "<div>\n",
       "<style scoped>\n",
       "    .dataframe tbody tr th:only-of-type {\n",
       "        vertical-align: middle;\n",
       "    }\n",
       "\n",
       "    .dataframe tbody tr th {\n",
       "        vertical-align: top;\n",
       "    }\n",
       "\n",
       "    .dataframe thead th {\n",
       "        text-align: right;\n",
       "    }\n",
       "</style>\n",
       "<table border=\"1\" class=\"dataframe\">\n",
       "  <thead>\n",
       "    <tr style=\"text-align: right;\">\n",
       "      <th></th>\n",
       "      <th>mda</th>\n",
       "      <th>mase</th>\n",
       "      <th>accuracy</th>\n",
       "    </tr>\n",
       "  </thead>\n",
       "  <tbody>\n",
       "    <tr>\n",
       "      <th>tweet_sentiment_bearish</th>\n",
       "      <td>0.616667</td>\n",
       "      <td>1.580976</td>\n",
       "      <td>0.4</td>\n",
       "    </tr>\n",
       "    <tr>\n",
       "      <th>market_cap_global_pct_change</th>\n",
       "      <td>0.583333</td>\n",
       "      <td>1.623651</td>\n",
       "      <td>0.5</td>\n",
       "    </tr>\n",
       "    <tr>\n",
       "      <th>tweets</th>\n",
       "      <td>0.650000</td>\n",
       "      <td>1.653568</td>\n",
       "      <td>0.5</td>\n",
       "    </tr>\n",
       "    <tr>\n",
       "      <th>social_volume_global</th>\n",
       "      <td>0.583333</td>\n",
       "      <td>1.674126</td>\n",
       "      <td>0.5</td>\n",
       "    </tr>\n",
       "    <tr>\n",
       "      <th>dx</th>\n",
       "      <td>0.633333</td>\n",
       "      <td>1.700796</td>\n",
       "      <td>0.7</td>\n",
       "    </tr>\n",
       "    <tr>\n",
       "      <th>tweet_sentiment_net</th>\n",
       "      <td>0.633333</td>\n",
       "      <td>1.707847</td>\n",
       "      <td>0.5</td>\n",
       "    </tr>\n",
       "    <tr>\n",
       "      <th>tweets_mean</th>\n",
       "      <td>0.700000</td>\n",
       "      <td>1.726347</td>\n",
       "      <td>0.7</td>\n",
       "    </tr>\n",
       "    <tr>\n",
       "      <th>news_mean</th>\n",
       "      <td>0.583333</td>\n",
       "      <td>1.726599</td>\n",
       "      <td>0.6</td>\n",
       "    </tr>\n",
       "    <tr>\n",
       "      <th>tweet_spam</th>\n",
       "      <td>0.600000</td>\n",
       "      <td>1.780938</td>\n",
       "      <td>0.6</td>\n",
       "    </tr>\n",
       "    <tr>\n",
       "      <th>market_dominance_stdev</th>\n",
       "      <td>0.633333</td>\n",
       "      <td>1.784093</td>\n",
       "      <td>0.5</td>\n",
       "    </tr>\n",
       "  </tbody>\n",
       "</table>\n",
       "</div>"
      ],
      "text/plain": [
       "                                   mda      mase  accuracy\n",
       "tweet_sentiment_bearish       0.616667  1.580976       0.4\n",
       "market_cap_global_pct_change  0.583333  1.623651       0.5\n",
       "tweets                        0.650000  1.653568       0.5\n",
       "social_volume_global          0.583333  1.674126       0.5\n",
       "dx                            0.633333  1.700796       0.7\n",
       "tweet_sentiment_net           0.633333  1.707847       0.5\n",
       "tweets_mean                   0.700000  1.726347       0.7\n",
       "news_mean                     0.583333  1.726599       0.6\n",
       "tweet_spam                    0.600000  1.780938       0.6\n",
       "market_dominance_stdev        0.633333  1.784093       0.5"
      ]
     },
     "execution_count": 45,
     "metadata": {},
     "output_type": "execute_result"
    }
   ],
   "source": [
    "# Top 10 by mase\n",
    "btc_search_results_df.sort_values(by='mase', ascending=True).head(10)"
   ]
  },
  {
   "cell_type": "markdown",
   "id": "e0c2197b",
   "metadata": {},
   "source": [
    "Next I will reduce the search space based on the single run results as well as observations in the EDA stage.  I will increase the training runs to identify the features that improve the model from the baseline."
   ]
  },
  {
   "cell_type": "code",
   "execution_count": 48,
   "id": "45e120d1",
   "metadata": {},
   "outputs": [
    {
     "name": "stdout",
     "output_type": "stream",
     "text": [
      "20\n"
     ]
    }
   ],
   "source": [
    "# Manually construct list of columns to search for final\n",
    "btc_search_final_cols = ['linreg', 'dx',\n",
    "                         'market_cap_global', 'market_cap_global_pct_change',\n",
    "                         'market_dominance', 'market_dominance_stdev',\n",
    "                         'percent_change_24h_rank', 'social_volume_24h_rank', 'volume_24h_rank',\n",
    "                         'social_score_24h_rank', 'social_volume_global', 'social_contributors', \n",
    "                         'news_mean', 'volatility_mean', 'tweets_mean',\n",
    "                         'tweet_sentiment_impact_bearish', 'tweet_sentiment_impact_bullish', \n",
    "                         'tweet_sentiment_net', 'tweet_sentiment_bearish', 'tweet_sentiment_bullish'\n",
    "                        ]\n",
    "print(len(btc_search_final_cols))"
   ]
  },
  {
   "cell_type": "code",
   "execution_count": 49,
   "id": "cb87e880",
   "metadata": {},
   "outputs": [
    {
     "name": "stdout",
     "output_type": "stream",
     "text": [
      "LSTM model trained with \"linreg\". 5 training run(s) trend accuracy of 0.58.\n",
      "LSTM model trained with \"dx\". 5 training run(s) trend accuracy of 0.52.\n",
      "LSTM model trained with \"market_cap_global\". 5 training run(s) trend accuracy of 0.52.\n",
      "LSTM model trained with \"market_cap_global_pct_change\". 5 training run(s) trend accuracy of 0.5.\n",
      "LSTM model trained with \"market_dominance\". 5 training run(s) trend accuracy of 0.44.\n",
      "LSTM model trained with \"market_dominance_stdev\". 5 training run(s) trend accuracy of 0.58.\n",
      "LSTM model trained with \"percent_change_24h_rank\". 5 training run(s) trend accuracy of 0.64.\n",
      "LSTM model trained with \"social_volume_24h_rank\". 5 training run(s) trend accuracy of 0.54.\n",
      "LSTM model trained with \"volume_24h_rank\". 5 training run(s) trend accuracy of 0.56.\n",
      "LSTM model trained with \"social_score_24h_rank\". 5 training run(s) trend accuracy of 0.5.\n",
      "LSTM model trained with \"social_volume_global\". 5 training run(s) trend accuracy of 0.58.\n",
      "LSTM model trained with \"social_contributors\". 5 training run(s) trend accuracy of 0.48.\n",
      "LSTM model trained with \"news_mean\". 5 training run(s) trend accuracy of 0.44.\n",
      "LSTM model trained with \"volatility_mean\". 5 training run(s) trend accuracy of 0.56.\n",
      "LSTM model trained with \"tweets_mean\". 5 training run(s) trend accuracy of 0.42.\n",
      "LSTM model trained with \"tweet_sentiment_impact_bearish\". 5 training run(s) trend accuracy of 0.52.\n",
      "LSTM model trained with \"tweet_sentiment_impact_bullish\". 5 training run(s) trend accuracy of 0.42.\n",
      "LSTM model trained with \"tweet_sentiment_net\". 5 training run(s) trend accuracy of 0.44.\n",
      "LSTM model trained with \"tweet_sentiment_bearish\". 5 training run(s) trend accuracy of 0.5.\n",
      "LSTM model trained with \"tweet_sentiment_bullish\". 5 training run(s) trend accuracy of 0.56.\n"
     ]
    }
   ],
   "source": [
    "# Set verbose to off since training many models\n",
    "btc_train_config['verbose'] = 0\n",
    "# Do not run checkpoints\n",
    "btc_train_config['model_checkpoint'] = False\n",
    "# For exhaustive search limit runs to 5\n",
    "training_runs = 5\n",
    "btc_search_results_final = model_training_search_cols(btc_search_final_cols, training_runs, target_col, \n",
    "                                                      standard_scaler, btc, \n",
    "                                                      test_periods, input_len, total_len, prediction_len, steps_ahead,\n",
    "                                                      btc_train_config, btc_base_sw_acc, verbose=True)"
   ]
  },
  {
   "cell_type": "code",
   "execution_count": 59,
   "id": "1df11d18",
   "metadata": {},
   "outputs": [
    {
     "name": "stdout",
     "output_type": "stream",
     "text": [
      "Epoch 1/40\n",
      "14/14 [==============================] - 6s 197ms/step - loss: 0.7409 - val_loss: 0.6186\n",
      "Epoch 2/40\n",
      "14/14 [==============================] - 1s 106ms/step - loss: 0.5504 - val_loss: 0.5038\n",
      "Epoch 3/40\n",
      "14/14 [==============================] - 1s 99ms/step - loss: 0.4597 - val_loss: 0.5138\n",
      "Epoch 4/40\n",
      "14/14 [==============================] - 1s 102ms/step - loss: 0.4131 - val_loss: 0.4280\n",
      "Epoch 5/40\n",
      "14/14 [==============================] - 2s 156ms/step - loss: 0.4017 - val_loss: 0.4221\n",
      "Epoch 6/40\n",
      "14/14 [==============================] - 2s 156ms/step - loss: 0.3943 - val_loss: 0.3960\n",
      "Epoch 7/40\n",
      "14/14 [==============================] - 2s 152ms/step - loss: 0.3530 - val_loss: 0.3913\n",
      "Epoch 8/40\n",
      "14/14 [==============================] - 2s 159ms/step - loss: 0.3740 - val_loss: 0.4029\n",
      "Epoch 9/40\n",
      "14/14 [==============================] - 2s 159ms/step - loss: 0.3790 - val_loss: 0.4395\n",
      "Epoch 10/40\n",
      "14/14 [==============================] - 2s 156ms/step - loss: 0.3530 - val_loss: 0.3983\n"
     ]
    },
    {
     "data": {
      "image/png": "[encoded data removed]",
      "text/plain": [
       "<Figure size 720x360 with 1 Axes>"
      ]
     },
     "metadata": {
      "needs_background": "light"
     },
     "output_type": "display_data"
    }
   ],
   "source": [
    "btc_cols = ['linreg', 'percent_change_24h_rank', 'social_volume_24h_rank', 'tweet_sentiment_bullish']\n",
    "\n",
    "cols = [*[target_col], * btc_cols]\n",
    "# Scale data based on new cols list\n",
    "btc_data, btc_train_scaled, btc_test_scaled, btc_scaler = data_preprocessing_standardize(standard_scaler, btc, cols,\n",
    "                                                                                     test_periods, total_len)\n",
    "# Create train/test datasets\n",
    "btc_train_X, btc_train_y, btc_train_targets = create_timeseries_data(btc_train_scaled, target_col, input_len, steps_ahead)\n",
    "btc_test_X, btc_test_y, btc_test_targets = create_timeseries_data(btc_test_scaled, target_col, input_len, steps_ahead)\n",
    "\n",
    "btc_model_config = update_model_input_dim(lstm_config, btc_train_X.shape, btc_train_y.shape)\n",
    "\n",
    "# Increase learning rate\n",
    "btc_model_config['model']['optimizer']['learning_rate'] = 0.01\n",
    "\n",
    "# Set verbose to on\n",
    "btc_train_config['verbose'] = 1\n",
    "\n",
    "# Run checkpoints\n",
    "btc_train_config['model_checkpoint'] = True\n",
    "\n",
    "# Instantiate model class\n",
    "btc_lstm_model = Model()\n",
    "\n",
    "# Build model\n",
    "btc_lstm_model.build_model(btc_model_config)\n",
    "\n",
    "btc_lstm_model.train(btc_train_X, btc_train_y, btc_train_config)\n",
    "\n",
    "btc_predictions, btc_seq_metrics = evaluate_model(btc_lstm_model, btc_test_X, btc_test_y, \n",
    "                                                  total_len, prediction_len, steps_ahead)\n",
    "\n",
    "btc_mda = mean_metric_results(btc_seq_metrics, 'mda')\n",
    "btc_mase = mean_metric_results(btc_seq_metrics, 'mase')\n",
    "btc_acc = mean_accuracy(btc_seq_metrics)\n",
    "\n",
    "title = 'Bitcoin Multi-Dimensional LSTM Model MDA: {:.3}, MASE: {:.3}, Accuracy: {:.3}'.format(btc_mda, \n",
    "                                                                                        btc_mase,\n",
    "                                                                                        btc_acc)\n",
    "plot_results_multiple(btc_predictions, btc_test_y, prediction_len, title)"
   ]
  },
  {
   "cell_type": "markdown",
   "id": "d46fe73a",
   "metadata": {},
   "source": [
    "Improved sequence prediction accuracy from .48 to .7."
   ]
  },
  {
   "cell_type": "markdown",
   "id": "38cf139a",
   "metadata": {},
   "source": [
    "##### Dogecoin"
   ]
  },
  {
   "cell_type": "code",
   "execution_count": 60,
   "id": "d8440959",
   "metadata": {},
   "outputs": [],
   "source": [
    "doge_search_cols = list(doge.drop(['asset_id', 'time', 'open', 'close', 'name', 'symbol', 'price_btc',\n",
    "                             'close_end_1d', 'close_percent_change_1d', 'close_end_7d', 'close_min_7d', \n",
    "                             'close_max_7d', 'close_loss_7d', 'close_gain_7d', 'close_change_7d', \n",
    "                             'close_percent_change_7d', 'decision','color','angle', 'intercept']\n",
    "                            , axis=1).columns)"
   ]
  },
  {
   "cell_type": "code",
   "execution_count": 61,
   "id": "da49ce07",
   "metadata": {},
   "outputs": [
    {
     "name": "stdout",
     "output_type": "stream",
     "text": [
      "LSTM model trained with \"url_shares\". 1 training run(s) trend accuracy of 0.8.\n",
      "LSTM model trained with \"tweets\". 1 training run(s) trend accuracy of 0.7.\n",
      "LSTM model trained with \"tweet_sentiment2\". 1 training run(s) trend accuracy of 0.7.\n",
      "LSTM model trained with \"tweet_sentiment3\". 1 training run(s) trend accuracy of 0.8.\n",
      "LSTM model trained with \"tweet_sentiment4\". 1 training run(s) trend accuracy of 0.7.\n",
      "LSTM model trained with \"tweet_sentiment5\". 1 training run(s) trend accuracy of 0.7.\n",
      "LSTM model trained with \"tweet_sentiment_impact4\". 1 training run(s) trend accuracy of 0.7.\n",
      "LSTM model trained with \"tweet_sentiment_impact5\". 1 training run(s) trend accuracy of 0.7.\n",
      "LSTM model trained with \"social_score\". 1 training run(s) trend accuracy of 0.7.\n",
      "LSTM model trained with \"average_sentiment\". 1 training run(s) trend accuracy of 0.8.\n",
      "LSTM model trained with \"news\". 1 training run(s) trend accuracy of 0.7.\n",
      "LSTM model trained with \"galaxy_score\". 1 training run(s) trend accuracy of 0.7.\n",
      "LSTM model trained with \"alt_rank\". 1 training run(s) trend accuracy of 0.7.\n",
      "LSTM model trained with \"alt_rank_30d\". 1 training run(s) trend accuracy of 0.7.\n",
      "LSTM model trained with \"market_cap_rank\". 1 training run(s) trend accuracy of 0.7.\n",
      "LSTM model trained with \"social_score_24h_rank\". 1 training run(s) trend accuracy of 0.7.\n",
      "LSTM model trained with \"youtube\". 1 training run(s) trend accuracy of 0.7.\n",
      "LSTM model trained with \"social_volume_global\". 1 training run(s) trend accuracy of 0.9.\n",
      "LSTM model trained with \"close_btc\". 1 training run(s) trend accuracy of 0.7.\n",
      "LSTM model trained with \"cci\". 1 training run(s) trend accuracy of 0.8.\n",
      "LSTM model trained with \"cmo\". 1 training run(s) trend accuracy of 0.7.\n",
      "LSTM model trained with \"dx\". 1 training run(s) trend accuracy of 0.7.\n",
      "LSTM model trained with \"linreg\". 1 training run(s) trend accuracy of 0.7.\n",
      "LSTM model trained with \"slope\". 1 training run(s) trend accuracy of 0.8.\n",
      "LSTM model trained with \"bband_middle\". 1 training run(s) trend accuracy of 0.7.\n",
      "LSTM model trained with \"bband_lower\". 1 training run(s) trend accuracy of 0.7.\n",
      "Unable to train model for \"bband_relative\".\n",
      "LSTM model trained with \"macd\". 1 training run(s) trend accuracy of 0.7.\n",
      "LSTM model trained with \"tweet_sentiment_bullish\". 1 training run(s) trend accuracy of 0.8.\n",
      "LSTM model trained with \"tweet_sentiment_net\". 1 training run(s) trend accuracy of 0.7.\n",
      "LSTM model trained with \"tweet_sentiment_impact_bullish\". 1 training run(s) trend accuracy of 0.7.\n",
      "LSTM model trained with \"tweet_sentiment_impact_net\". 1 training run(s) trend accuracy of 0.8.\n",
      "LSTM model trained with \"tweets_mean\". 1 training run(s) trend accuracy of 0.7.\n",
      "LSTM model trained with \"tweet_sentiment_impact_net_mean\". 1 training run(s) trend accuracy of 0.8.\n",
      "LSTM model trained with \"social_volume_global_mean\". 1 training run(s) trend accuracy of 0.8.\n",
      "LSTM model trained with \"tweet_sentiment_impact_bearish_stdev\". 1 training run(s) trend accuracy of 0.7.\n",
      "LSTM model trained with \"market_cap_global_pct_change\". 1 training run(s) trend accuracy of 0.8.\n"
     ]
    }
   ],
   "source": [
    "# Set verbose to off since training many models\n",
    "doge_train_config['verbose'] = 0\n",
    "# Do not run checkpoints\n",
    "doge_train_config['model_checkpoint'] = False\n",
    "# For the first run for all columns set training runs to 1\n",
    "training_runs = 1\n",
    "doge_search_results = model_training_search_cols(doge_search_cols, training_runs, target_col, standard_scaler, doge, \n",
    "                                                test_periods, input_len, total_len, prediction_len, steps_ahead,\n",
    "                                                doge_train_config, doge_base_sw_acc)"
   ]
  },
  {
   "cell_type": "code",
   "execution_count": 62,
   "id": "16230ddb",
   "metadata": {},
   "outputs": [
    {
     "data": {
      "text/html": [
       "<div>\n",
       "<style scoped>\n",
       "    .dataframe tbody tr th:only-of-type {\n",
       "        vertical-align: middle;\n",
       "    }\n",
       "\n",
       "    .dataframe tbody tr th {\n",
       "        vertical-align: top;\n",
       "    }\n",
       "\n",
       "    .dataframe thead th {\n",
       "        text-align: right;\n",
       "    }\n",
       "</style>\n",
       "<table border=\"1\" class=\"dataframe\">\n",
       "  <thead>\n",
       "    <tr style=\"text-align: right;\">\n",
       "      <th></th>\n",
       "      <th>mda</th>\n",
       "      <th>mase</th>\n",
       "      <th>accuracy</th>\n",
       "    </tr>\n",
       "  </thead>\n",
       "  <tbody>\n",
       "    <tr>\n",
       "      <th>social_volume_global</th>\n",
       "      <td>0.583333</td>\n",
       "      <td>4.003101</td>\n",
       "      <td>0.9</td>\n",
       "    </tr>\n",
       "    <tr>\n",
       "      <th>tweet_sentiment3</th>\n",
       "      <td>0.500000</td>\n",
       "      <td>3.225490</td>\n",
       "      <td>0.8</td>\n",
       "    </tr>\n",
       "    <tr>\n",
       "      <th>social_volume_global_mean</th>\n",
       "      <td>0.583333</td>\n",
       "      <td>3.007135</td>\n",
       "      <td>0.8</td>\n",
       "    </tr>\n",
       "    <tr>\n",
       "      <th>tweet_sentiment_impact_net_mean</th>\n",
       "      <td>0.550000</td>\n",
       "      <td>3.219884</td>\n",
       "      <td>0.8</td>\n",
       "    </tr>\n",
       "    <tr>\n",
       "      <th>tweet_sentiment_impact_net</th>\n",
       "      <td>0.583333</td>\n",
       "      <td>5.088911</td>\n",
       "      <td>0.8</td>\n",
       "    </tr>\n",
       "    <tr>\n",
       "      <th>tweet_sentiment_bullish</th>\n",
       "      <td>0.500000</td>\n",
       "      <td>3.848558</td>\n",
       "      <td>0.8</td>\n",
       "    </tr>\n",
       "    <tr>\n",
       "      <th>slope</th>\n",
       "      <td>0.600000</td>\n",
       "      <td>4.434367</td>\n",
       "      <td>0.8</td>\n",
       "    </tr>\n",
       "    <tr>\n",
       "      <th>cci</th>\n",
       "      <td>0.616667</td>\n",
       "      <td>2.670420</td>\n",
       "      <td>0.8</td>\n",
       "    </tr>\n",
       "    <tr>\n",
       "      <th>average_sentiment</th>\n",
       "      <td>0.500000</td>\n",
       "      <td>6.387620</td>\n",
       "      <td>0.8</td>\n",
       "    </tr>\n",
       "    <tr>\n",
       "      <th>market_cap_global_pct_change</th>\n",
       "      <td>0.550000</td>\n",
       "      <td>3.197458</td>\n",
       "      <td>0.8</td>\n",
       "    </tr>\n",
       "    <tr>\n",
       "      <th>url_shares</th>\n",
       "      <td>0.633333</td>\n",
       "      <td>2.578706</td>\n",
       "      <td>0.8</td>\n",
       "    </tr>\n",
       "    <tr>\n",
       "      <th>youtube</th>\n",
       "      <td>0.583333</td>\n",
       "      <td>4.325561</td>\n",
       "      <td>0.7</td>\n",
       "    </tr>\n",
       "    <tr>\n",
       "      <th>tweet_sentiment_impact_bullish</th>\n",
       "      <td>0.566667</td>\n",
       "      <td>2.365031</td>\n",
       "      <td>0.7</td>\n",
       "    </tr>\n",
       "    <tr>\n",
       "      <th>galaxy_score</th>\n",
       "      <td>0.466667</td>\n",
       "      <td>2.924121</td>\n",
       "      <td>0.7</td>\n",
       "    </tr>\n",
       "    <tr>\n",
       "      <th>alt_rank</th>\n",
       "      <td>0.483333</td>\n",
       "      <td>2.468110</td>\n",
       "      <td>0.7</td>\n",
       "    </tr>\n",
       "    <tr>\n",
       "      <th>alt_rank_30d</th>\n",
       "      <td>0.533333</td>\n",
       "      <td>2.518453</td>\n",
       "      <td>0.7</td>\n",
       "    </tr>\n",
       "    <tr>\n",
       "      <th>market_cap_rank</th>\n",
       "      <td>0.416667</td>\n",
       "      <td>2.492696</td>\n",
       "      <td>0.7</td>\n",
       "    </tr>\n",
       "    <tr>\n",
       "      <th>social_score_24h_rank</th>\n",
       "      <td>0.516667</td>\n",
       "      <td>10.009825</td>\n",
       "      <td>0.7</td>\n",
       "    </tr>\n",
       "    <tr>\n",
       "      <th>tweet_sentiment_net</th>\n",
       "      <td>0.483333</td>\n",
       "      <td>3.059563</td>\n",
       "      <td>0.7</td>\n",
       "    </tr>\n",
       "    <tr>\n",
       "      <th>tweets_mean</th>\n",
       "      <td>0.500000</td>\n",
       "      <td>1.903424</td>\n",
       "      <td>0.7</td>\n",
       "    </tr>\n",
       "  </tbody>\n",
       "</table>\n",
       "</div>"
      ],
      "text/plain": [
       "                                      mda       mase  accuracy\n",
       "social_volume_global             0.583333   4.003101       0.9\n",
       "tweet_sentiment3                 0.500000   3.225490       0.8\n",
       "social_volume_global_mean        0.583333   3.007135       0.8\n",
       "tweet_sentiment_impact_net_mean  0.550000   3.219884       0.8\n",
       "tweet_sentiment_impact_net       0.583333   5.088911       0.8\n",
       "tweet_sentiment_bullish          0.500000   3.848558       0.8\n",
       "slope                            0.600000   4.434367       0.8\n",
       "cci                              0.616667   2.670420       0.8\n",
       "average_sentiment                0.500000   6.387620       0.8\n",
       "market_cap_global_pct_change     0.550000   3.197458       0.8\n",
       "url_shares                       0.633333   2.578706       0.8\n",
       "youtube                          0.583333   4.325561       0.7\n",
       "tweet_sentiment_impact_bullish   0.566667   2.365031       0.7\n",
       "galaxy_score                     0.466667   2.924121       0.7\n",
       "alt_rank                         0.483333   2.468110       0.7\n",
       "alt_rank_30d                     0.533333   2.518453       0.7\n",
       "market_cap_rank                  0.416667   2.492696       0.7\n",
       "social_score_24h_rank            0.516667  10.009825       0.7\n",
       "tweet_sentiment_net              0.483333   3.059563       0.7\n",
       "tweets_mean                      0.500000   1.903424       0.7"
      ]
     },
     "execution_count": 62,
     "metadata": {},
     "output_type": "execute_result"
    }
   ],
   "source": [
    "doge_search_results_df = pd.DataFrame(doge_search_results).T\n",
    "\n",
    "# Top 20 by accuracy\n",
    "doge_search_results_df.sort_values(by='accuracy', ascending=False).head(20)"
   ]
  },
  {
   "cell_type": "code",
   "execution_count": 63,
   "id": "b1c61a24",
   "metadata": {},
   "outputs": [
    {
     "data": {
      "text/html": [
       "<div>\n",
       "<style scoped>\n",
       "    .dataframe tbody tr th:only-of-type {\n",
       "        vertical-align: middle;\n",
       "    }\n",
       "\n",
       "    .dataframe tbody tr th {\n",
       "        vertical-align: top;\n",
       "    }\n",
       "\n",
       "    .dataframe thead th {\n",
       "        text-align: right;\n",
       "    }\n",
       "</style>\n",
       "<table border=\"1\" class=\"dataframe\">\n",
       "  <thead>\n",
       "    <tr style=\"text-align: right;\">\n",
       "      <th></th>\n",
       "      <th>mda</th>\n",
       "      <th>mase</th>\n",
       "      <th>accuracy</th>\n",
       "    </tr>\n",
       "  </thead>\n",
       "  <tbody>\n",
       "    <tr>\n",
       "      <th>roc</th>\n",
       "      <td>0.666667</td>\n",
       "      <td>4.228509</td>\n",
       "      <td>0.6</td>\n",
       "    </tr>\n",
       "    <tr>\n",
       "      <th>market_cap_global</th>\n",
       "      <td>0.650000</td>\n",
       "      <td>2.720715</td>\n",
       "      <td>0.6</td>\n",
       "    </tr>\n",
       "    <tr>\n",
       "      <th>url_shares</th>\n",
       "      <td>0.633333</td>\n",
       "      <td>2.578706</td>\n",
       "      <td>0.8</td>\n",
       "    </tr>\n",
       "    <tr>\n",
       "      <th>tweet_sentiment_impact_bearish_stdev</th>\n",
       "      <td>0.616667</td>\n",
       "      <td>2.490404</td>\n",
       "      <td>0.7</td>\n",
       "    </tr>\n",
       "    <tr>\n",
       "      <th>cci</th>\n",
       "      <td>0.616667</td>\n",
       "      <td>2.670420</td>\n",
       "      <td>0.8</td>\n",
       "    </tr>\n",
       "    <tr>\n",
       "      <th>tweet_replies</th>\n",
       "      <td>0.616667</td>\n",
       "      <td>3.271472</td>\n",
       "      <td>0.6</td>\n",
       "    </tr>\n",
       "    <tr>\n",
       "      <th>high</th>\n",
       "      <td>0.600000</td>\n",
       "      <td>2.463028</td>\n",
       "      <td>0.6</td>\n",
       "    </tr>\n",
       "    <tr>\n",
       "      <th>tweet_sentiment_impact4</th>\n",
       "      <td>0.600000</td>\n",
       "      <td>2.803499</td>\n",
       "      <td>0.7</td>\n",
       "    </tr>\n",
       "    <tr>\n",
       "      <th>tweet_sentiment4</th>\n",
       "      <td>0.600000</td>\n",
       "      <td>3.365137</td>\n",
       "      <td>0.7</td>\n",
       "    </tr>\n",
       "    <tr>\n",
       "      <th>slope</th>\n",
       "      <td>0.600000</td>\n",
       "      <td>4.434367</td>\n",
       "      <td>0.8</td>\n",
       "    </tr>\n",
       "  </tbody>\n",
       "</table>\n",
       "</div>"
      ],
      "text/plain": [
       "                                           mda      mase  accuracy\n",
       "roc                                   0.666667  4.228509       0.6\n",
       "market_cap_global                     0.650000  2.720715       0.6\n",
       "url_shares                            0.633333  2.578706       0.8\n",
       "tweet_sentiment_impact_bearish_stdev  0.616667  2.490404       0.7\n",
       "cci                                   0.616667  2.670420       0.8\n",
       "tweet_replies                         0.616667  3.271472       0.6\n",
       "high                                  0.600000  2.463028       0.6\n",
       "tweet_sentiment_impact4               0.600000  2.803499       0.7\n",
       "tweet_sentiment4                      0.600000  3.365137       0.7\n",
       "slope                                 0.600000  4.434367       0.8"
      ]
     },
     "execution_count": 63,
     "metadata": {},
     "output_type": "execute_result"
    }
   ],
   "source": [
    "# Top 10 by mda\n",
    "doge_search_results_df.sort_values(by='mda', ascending=False).head(10)"
   ]
  },
  {
   "cell_type": "code",
   "execution_count": 64,
   "id": "234e31c2",
   "metadata": {},
   "outputs": [
    {
     "data": {
      "text/html": [
       "<div>\n",
       "<style scoped>\n",
       "    .dataframe tbody tr th:only-of-type {\n",
       "        vertical-align: middle;\n",
       "    }\n",
       "\n",
       "    .dataframe tbody tr th {\n",
       "        vertical-align: top;\n",
       "    }\n",
       "\n",
       "    .dataframe thead th {\n",
       "        text-align: right;\n",
       "    }\n",
       "</style>\n",
       "<table border=\"1\" class=\"dataframe\">\n",
       "  <thead>\n",
       "    <tr style=\"text-align: right;\">\n",
       "      <th></th>\n",
       "      <th>mda</th>\n",
       "      <th>mase</th>\n",
       "      <th>accuracy</th>\n",
       "    </tr>\n",
       "  </thead>\n",
       "  <tbody>\n",
       "    <tr>\n",
       "      <th>bband_lower</th>\n",
       "      <td>0.583333</td>\n",
       "      <td>1.656383</td>\n",
       "      <td>0.7</td>\n",
       "    </tr>\n",
       "    <tr>\n",
       "      <th>tweets_mean</th>\n",
       "      <td>0.500000</td>\n",
       "      <td>1.903424</td>\n",
       "      <td>0.7</td>\n",
       "    </tr>\n",
       "    <tr>\n",
       "      <th>macd</th>\n",
       "      <td>0.600000</td>\n",
       "      <td>2.057214</td>\n",
       "      <td>0.7</td>\n",
       "    </tr>\n",
       "    <tr>\n",
       "      <th>tweet_sentiment_bearish</th>\n",
       "      <td>0.583333</td>\n",
       "      <td>2.070001</td>\n",
       "      <td>0.6</td>\n",
       "    </tr>\n",
       "    <tr>\n",
       "      <th>news_mean</th>\n",
       "      <td>0.500000</td>\n",
       "      <td>2.247926</td>\n",
       "      <td>0.6</td>\n",
       "    </tr>\n",
       "    <tr>\n",
       "      <th>tweet_sentiment_impact_bullish</th>\n",
       "      <td>0.566667</td>\n",
       "      <td>2.365031</td>\n",
       "      <td>0.7</td>\n",
       "    </tr>\n",
       "    <tr>\n",
       "      <th>sentiment_relative</th>\n",
       "      <td>0.566667</td>\n",
       "      <td>2.372999</td>\n",
       "      <td>0.6</td>\n",
       "    </tr>\n",
       "    <tr>\n",
       "      <th>ppo</th>\n",
       "      <td>0.500000</td>\n",
       "      <td>2.438950</td>\n",
       "      <td>0.6</td>\n",
       "    </tr>\n",
       "    <tr>\n",
       "      <th>cmo</th>\n",
       "      <td>0.500000</td>\n",
       "      <td>2.459118</td>\n",
       "      <td>0.7</td>\n",
       "    </tr>\n",
       "    <tr>\n",
       "      <th>high</th>\n",
       "      <td>0.600000</td>\n",
       "      <td>2.463028</td>\n",
       "      <td>0.6</td>\n",
       "    </tr>\n",
       "  </tbody>\n",
       "</table>\n",
       "</div>"
      ],
      "text/plain": [
       "                                     mda      mase  accuracy\n",
       "bband_lower                     0.583333  1.656383       0.7\n",
       "tweets_mean                     0.500000  1.903424       0.7\n",
       "macd                            0.600000  2.057214       0.7\n",
       "tweet_sentiment_bearish         0.583333  2.070001       0.6\n",
       "news_mean                       0.500000  2.247926       0.6\n",
       "tweet_sentiment_impact_bullish  0.566667  2.365031       0.7\n",
       "sentiment_relative              0.566667  2.372999       0.6\n",
       "ppo                             0.500000  2.438950       0.6\n",
       "cmo                             0.500000  2.459118       0.7\n",
       "high                            0.600000  2.463028       0.6"
      ]
     },
     "execution_count": 64,
     "metadata": {},
     "output_type": "execute_result"
    }
   ],
   "source": [
    "# Top 10 by mase\n",
    "doge_search_results_df.sort_values(by='mase', ascending=True).head(10)"
   ]
  },
  {
   "cell_type": "code",
   "execution_count": 68,
   "id": "ed040f1b",
   "metadata": {},
   "outputs": [
    {
     "name": "stdout",
     "output_type": "stream",
     "text": [
      "21\n"
     ]
    }
   ],
   "source": [
    "doge_search_final_cols = ['tsf', 'linreg', 'roc', 'cci', 'macd',\n",
    "                          'market_cap_global', 'market_cap_global_pct_change', 'social_impact_score', 'price_score',\n",
    "                          'social_volume_global', 'social_volume_global_mean', 'url_shares', 'galaxy_score',\n",
    "                          'tweet_sentiment_bearish', 'tweet_sentiment_bullish',\n",
    "                          'tweet_sentiment_impact3', 'tweet_sentiment_impact_bullish', \n",
    "                          'tweet_sentiment_impact_net', 'tweet_sentiment_impact_net_mean',\n",
    "                           'tweet_sentiment_impact_bearish_stdev', 'average_sentiment']\n",
    "\n",
    "print(len(doge_search_final_cols))"
   ]
  },
  {
   "cell_type": "code",
   "execution_count": 69,
   "id": "2ae6e51e",
   "metadata": {},
   "outputs": [
    {
     "name": "stdout",
     "output_type": "stream",
     "text": [
      "LSTM model trained with \"tsf\". 5 training run(s) trend accuracy of 0.62.\n",
      "LSTM model trained with \"linreg\". 5 training run(s) trend accuracy of 0.72.\n",
      "LSTM model trained with \"roc\". 5 training run(s) trend accuracy of 0.64.\n",
      "LSTM model trained with \"cci\". 5 training run(s) trend accuracy of 0.6.\n",
      "LSTM model trained with \"macd\". 5 training run(s) trend accuracy of 0.68.\n",
      "LSTM model trained with \"market_cap_global\". 5 training run(s) trend accuracy of 0.7.\n",
      "LSTM model trained with \"market_cap_global_pct_change\". 5 training run(s) trend accuracy of 0.74.\n",
      "LSTM model trained with \"social_impact_score\". 5 training run(s) trend accuracy of 0.64.\n",
      "LSTM model trained with \"price_score\". 5 training run(s) trend accuracy of 0.7.\n",
      "LSTM model trained with \"social_volume_global\". 5 training run(s) trend accuracy of 0.68.\n",
      "LSTM model trained with \"social_volume_global_mean\". 5 training run(s) trend accuracy of 0.76.\n",
      "LSTM model trained with \"url_shares\". 5 training run(s) trend accuracy of 0.76.\n",
      "LSTM model trained with \"galaxy_score\". 5 training run(s) trend accuracy of 0.68.\n",
      "LSTM model trained with \"tweet_sentiment_bearish\". 5 training run(s) trend accuracy of 0.66.\n",
      "LSTM model trained with \"tweet_sentiment_bullish\". 5 training run(s) trend accuracy of 0.7.\n",
      "LSTM model trained with \"tweet_sentiment_impact3\". 5 training run(s) trend accuracy of 0.76.\n",
      "LSTM model trained with \"tweet_sentiment_impact_bullish\". 5 training run(s) trend accuracy of 0.66.\n",
      "LSTM model trained with \"tweet_sentiment_impact_net\". 5 training run(s) trend accuracy of 0.74.\n",
      "LSTM model trained with \"tweet_sentiment_impact_net_mean\". 5 training run(s) trend accuracy of 0.74.\n",
      "LSTM model trained with \"tweet_sentiment_impact_bearish_stdev\". 5 training run(s) trend accuracy of 0.66.\n",
      "LSTM model trained with \"average_sentiment\". 5 training run(s) trend accuracy of 0.56.\n"
     ]
    }
   ],
   "source": [
    "# Set verbose to off since training many models\n",
    "doge_train_config['verbose'] = 0\n",
    "# Do not run checkpoints\n",
    "doge_train_config['model_checkpoint'] = False\n",
    "# For exhaustive search limit runs to 5\n",
    "training_runs = 5\n",
    "doge_search_results_final = model_training_search_cols(doge_search_final_cols, training_runs, target_col, \n",
    "                                                      standard_scaler, doge, \n",
    "                                                      test_periods, input_len, total_len, prediction_len, steps_ahead,\n",
    "                                                      doge_train_config, doge_base_sw_acc, verbose=True)"
   ]
  },
  {
   "cell_type": "code",
   "execution_count": 72,
   "id": "e8fe42ca",
   "metadata": {},
   "outputs": [
    {
     "name": "stdout",
     "output_type": "stream",
     "text": [
      "Epoch 1/40\n",
      "14/14 [==============================] - 6s 200ms/step - loss: 0.7196 - val_loss: 0.7203\n",
      "Epoch 2/40\n",
      "14/14 [==============================] - 2s 125ms/step - loss: 0.6241 - val_loss: 0.6687\n",
      "Epoch 3/40\n",
      "14/14 [==============================] - 2s 143ms/step - loss: 0.4867 - val_loss: 0.6329\n",
      "Epoch 4/40\n",
      "14/14 [==============================] - 3s 206ms/step - loss: 0.4270 - val_loss: 0.5332\n",
      "Epoch 5/40\n",
      "14/14 [==============================] - 4s 251ms/step - loss: 0.3736 - val_loss: 0.5694\n",
      "Epoch 6/40\n",
      "14/14 [==============================] - 4s 303ms/step - loss: 0.4118 - val_loss: 0.6059\n",
      "Epoch 7/40\n",
      "14/14 [==============================] - 4s 284ms/step - loss: 0.3803 - val_loss: 0.5366\n"
     ]
    },
    {
     "data": {
      "image/png": "[encoded data removed]",
      "text/plain": [
       "<Figure size 720x360 with 1 Axes>"
      ]
     },
     "metadata": {
      "needs_background": "light"
     },
     "output_type": "display_data"
    }
   ],
   "source": [
    "doge_cols = ['linreg', 'market_cap_global_pct_change', 'social_volume_global_mean', 'tweet_sentiment_impact_net_mean']\n",
    "\n",
    "cols = [*[target_col], * doge_cols]\n",
    "# Scale data based on new cols list\n",
    "doge_data, doge_train_scaled, doge_test_scaled, doge_scalers = data_preprocessing_standardize(standard_scaler, doge, \n",
    "                                                                                              cols, test_periods, total_len)\n",
    "# Create train/test datasets\n",
    "doge_train_X, doge_train_y, doge_train_targets = create_timeseries_data(doge_train_scaled, target_col, \n",
    "                                                                        input_len, steps_ahead)\n",
    "doge_test_X, doge_test_y, doge_test_targets = create_timeseries_data(doge_test_scaled, target_col, \n",
    "                                                  input_len, steps_ahead)\n",
    "\n",
    "doge_model_config = update_model_input_dim(lstm_config, doge_train_X.shape, doge_train_y.shape)\n",
    "\n",
    "# Increase learning rate\n",
    "doge_model_config['model']['optimizer']['learning_rate'] = 0.01\n",
    "\n",
    "# Set verbose to on\n",
    "doge_train_config['verbose'] = 1\n",
    "\n",
    "# Run checkpoints\n",
    "doge_train_config['model_checkpoint'] = True\n",
    "\n",
    "# Instantiate model class\n",
    "doge_lstm_model = Model()\n",
    "\n",
    "# Build model\n",
    "doge_lstm_model.build_model(doge_model_config)\n",
    "\n",
    "doge_lstm_model.train(doge_train_X, doge_train_y, doge_train_config)\n",
    "\n",
    "doge_predictions, doge_seq_metrics = evaluate_model(doge_lstm_model, doge_test_X, doge_test_y, \n",
    "                                                    total_len, prediction_len, steps_ahead)\n",
    "\n",
    "doge_mda = mean_metric_results(doge_seq_metrics, 'mda')\n",
    "doge_mase = mean_metric_results(doge_seq_metrics, 'mase')\n",
    "doge_acc = mean_accuracy(doge_seq_metrics)\n",
    "\n",
    "title = 'Dogecoin Multi-Dimensional LSTM Model MDA: {:.3}, MASE: {:.3}, Accuracy: {:.3}'.format(doge_mda, \n",
    "                                                                                        doge_mase,\n",
    "                                                                                        doge_acc)\n",
    "plot_results_multiple(doge_predictions, doge_test_y, prediction_len, title)"
   ]
  },
  {
   "cell_type": "markdown",
   "id": "3447487e",
   "metadata": {},
   "source": [
    "Improved sequence prediction accuracy from .62 to .9."
   ]
  },
  {
   "cell_type": "code",
   "execution_count": null,
   "id": "761dcc67",
   "metadata": {},
   "outputs": [],
   "source": []
  }
 ],
 "metadata": {
  "kernelspec": {
   "display_name": "Python 3",
   "language": "python",
   "name": "python3"
  },
  "language_info": {
   "codemirror_mode": {
    "name": "ipython",
    "version": 3
   },
   "file_extension": ".py",
   "mimetype": "text/x-python",
   "name": "python",
   "nbconvert_exporter": "python",
   "pygments_lexer": "ipython3",
   "version": "3.8.11"
  }
 },
 "nbformat": 4,
 "nbformat_minor": 5
}
