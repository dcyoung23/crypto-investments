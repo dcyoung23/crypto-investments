{
 "cells": [
  {
   "cell_type": "markdown",
   "id": "29320283",
   "metadata": {},
   "source": [
    "# Cryptocurrency Investments Trend and Decision Modeling"
   ]
  },
  {
   "cell_type": "markdown",
   "id": "f9058b7d",
   "metadata": {},
   "source": [
    "# Problem Statement"
   ]
  },
  {
   "cell_type": "markdown",
   "id": "6a309167",
   "metadata": {},
   "source": [
    "What opportunities exist as an individual investor to achieve a total return of at least 5% on all short-term cryptocurrency investments held less than 30 days by utilizing technical analysis, blockchain and social media metrics for price predictions?"
   ]
  },
  {
   "cell_type": "markdown",
   "id": "04d0412b",
   "metadata": {},
   "source": [
    "# Context"
   ]
  },
  {
   "cell_type": "markdown",
   "id": "2beb6554",
   "metadata": {},
   "source": [
    "Cryptocurrency coins are digital assets designed to work as a medium of exchange where ownership records are transactions are stored in a blockchain ledger using strong cryptography.  Cryptocurrencies typically use decentralized control as opposed to centralized digital currency and central banking systems.  Bitcoin was the first decentralized cryptocurrency formed in 2009 and per coinlore.com there are 5976 active coins trading today.\n",
    "\n",
    "I was first introduced to cryptocurrencies by a former co-worker in 2017.  If I would have purchased 1 bitcoin in January 2017 for approximately $1000 it would be worth 36K as of today.  Honestly, I did not take it very serious at that time and I still prefer not to invest my life savings in cryptocurrencies.  However, I’m optimistic decentralized currencies have a future in our world so I’m going to use short-term profits to gain in USD but hold some coins for long term benefits.\n"
   ]
  },
  {
   "cell_type": "markdown",
   "id": "70c1717b",
   "metadata": {},
   "source": [
    "# 3 Preprocessing<a id='3_preprocessing'></a>"
   ]
  },
  {
   "cell_type": "code",
   "execution_count": 1,
   "id": "394b0196",
   "metadata": {},
   "outputs": [],
   "source": [
    "# Import external libraries\n",
    "import os\n",
    "import sys\n",
    "import json\n",
    "import time\n",
    "import math\n",
    "from datetime import datetime\n",
    "import numpy as np\n",
    "import scipy.stats as stats\n",
    "import pandas as pd\n",
    "import matplotlib as mpl\n",
    "import matplotlib.pyplot as plt\n",
    "import seaborn as sns\n",
    "%matplotlib inline\n",
    "\n",
    "# Ignore warnings for clean output in notebook\n",
    "import warnings\n",
    "warnings.filterwarnings('ignore')"
   ]
  },
  {
   "cell_type": "code",
   "execution_count": 47,
   "id": "e10ffc9b",
   "metadata": {},
   "outputs": [
    {
     "name": "stdout",
     "output_type": "stream",
     "text": [
      "The autoreload extension is already loaded. To reload it, use:\n",
      "  %reload_ext autoreload\n"
     ]
    }
   ],
   "source": [
    "# Import local libraries\n",
    "sys.path.append('..') # Add parent folder for local library imports\n",
    "\n",
    "# Feature creation functions\n",
    "from src.features.make_features import *\n",
    "# Helper functions\n",
    "from src.utils.helpers import *\n",
    "# Visualization functions\n",
    "from src.visuals.make_plots import *\n",
    "\n",
    "# Load the \"autoreload\" extension so that code can change\n",
    "%load_ext autoreload\n",
    "#%reload_ext autoreload\n",
    "\n",
    "# Always reload modules so that as you change code in src, it gets loaded\n",
    "%autoreload 2"
   ]
  },
  {
   "cell_type": "markdown",
   "id": "453f1dc4",
   "metadata": {},
   "source": [
    "## 3.1 Load Data"
   ]
  },
  {
   "cell_type": "code",
   "execution_count": 3,
   "id": "fab1e9cb",
   "metadata": {},
   "outputs": [],
   "source": [
    "# Directory references\n",
    "data_interim_dir = r'..\\data\\interim'\n",
    "data_final_dir = r'..\\data\\final'\n",
    "model_save_dir = r'..\\models'"
   ]
  },
  {
   "cell_type": "code",
   "execution_count": 4,
   "id": "bb2422a3",
   "metadata": {},
   "outputs": [
    {
     "name": "stdout",
     "output_type": "stream",
     "text": [
      "<class 'pandas.core.frame.DataFrame'>\n",
      "DatetimeIndex: 718 entries, 2019-08-20 to 2021-08-06\n",
      "Data columns (total 65 columns):\n",
      " #   Column                   Non-Null Count  Dtype  \n",
      "---  ------                   --------------  -----  \n",
      " 0   asset_id                 718 non-null    int64  \n",
      " 1   time                     718 non-null    int64  \n",
      " 2   open                     718 non-null    float64\n",
      " 3   close                    718 non-null    float64\n",
      " 4   high                     718 non-null    float64\n",
      " 5   low                      718 non-null    float64\n",
      " 6   volume                   718 non-null    float64\n",
      " 7   market_cap               696 non-null    float64\n",
      " 8   url_shares               710 non-null    float64\n",
      " 9   unique_url_shares        710 non-null    float64\n",
      " 10  tweets                   710 non-null    float64\n",
      " 11  tweet_spam               710 non-null    float64\n",
      " 12  tweet_followers          698 non-null    float64\n",
      " 13  tweet_quotes             698 non-null    float64\n",
      " 14  tweet_retweets           698 non-null    float64\n",
      " 15  tweet_replies            698 non-null    float64\n",
      " 16  tweet_favorites          698 non-null    float64\n",
      " 17  tweet_sentiment1         710 non-null    float64\n",
      " 18  tweet_sentiment2         710 non-null    float64\n",
      " 19  tweet_sentiment3         710 non-null    float64\n",
      " 20  tweet_sentiment4         710 non-null    float64\n",
      " 21  tweet_sentiment5         710 non-null    float64\n",
      " 22  tweet_sentiment_impact1  710 non-null    float64\n",
      " 23  tweet_sentiment_impact2  710 non-null    float64\n",
      " 24  tweet_sentiment_impact3  710 non-null    float64\n",
      " 25  tweet_sentiment_impact4  710 non-null    float64\n",
      " 26  tweet_sentiment_impact5  710 non-null    float64\n",
      " 27  social_score             710 non-null    float64\n",
      " 28  average_sentiment        710 non-null    float64\n",
      " 29  sentiment_relative       698 non-null    float64\n",
      " 30  news                     718 non-null    float64\n",
      " 31  price_score              697 non-null    float64\n",
      " 32  social_impact_score      697 non-null    float64\n",
      " 33  correlation_rank         697 non-null    float64\n",
      " 34  galaxy_score             697 non-null    float64\n",
      " 35  volatility               709 non-null    float64\n",
      " 36  alt_rank                 687 non-null    float64\n",
      " 37  alt_rank_30d             687 non-null    float64\n",
      " 38  market_cap_rank          682 non-null    float64\n",
      " 39  percent_change_24h_rank  669 non-null    float64\n",
      " 40  volume_24h_rank          669 non-null    float64\n",
      " 41  social_volume_24h_rank   669 non-null    float64\n",
      " 42  social_score_24h_rank    669 non-null    float64\n",
      " 43  medium                   718 non-null    float64\n",
      " 44  youtube                  718 non-null    float64\n",
      " 45  social_contributors      718 non-null    int64  \n",
      " 46  social_volume            718 non-null    int64  \n",
      " 47  price_btc                718 non-null    int64  \n",
      " 48  social_volume_global     718 non-null    float64\n",
      " 49  percent_change_24h       718 non-null    float64\n",
      " 50  market_cap_global        696 non-null    float64\n",
      " 51  market_dominance         696 non-null    float64\n",
      " 52  name                     718 non-null    object \n",
      " 53  symbol                   718 non-null    object \n",
      " 54  close_end_1d             717 non-null    float64\n",
      " 55  close_percent_change_1d  717 non-null    float64\n",
      " 56  close_end_7d             711 non-null    float64\n",
      " 57  close_min_7d             718 non-null    float64\n",
      " 58  close_max_7d             718 non-null    float64\n",
      " 59  close_loss_7d            718 non-null    float64\n",
      " 60  close_gain_7d            718 non-null    float64\n",
      " 61  close_change_7d          711 non-null    float64\n",
      " 62  close_percent_change_7d  711 non-null    float64\n",
      " 63  decision                 711 non-null    object \n",
      " 64  color                    711 non-null    object \n",
      "dtypes: float64(56), int64(5), object(4)\n",
      "memory usage: 370.2+ KB\n"
     ]
    }
   ],
   "source": [
    "# Read in Bitcoin data from interim data directory\n",
    "btc = pd.read_csv(os.path.join(data_interim_dir, 'btc.csv'), parse_dates=['date'])\n",
    "btc = btc.set_index('date')\n",
    "btc.info()"
   ]
  },
  {
   "cell_type": "code",
   "execution_count": 5,
   "id": "5881cd21",
   "metadata": {},
   "outputs": [
    {
     "name": "stdout",
     "output_type": "stream",
     "text": [
      "<class 'pandas.core.frame.DataFrame'>\n",
      "DatetimeIndex: 718 entries, 2019-08-20 to 2021-08-06\n",
      "Data columns (total 66 columns):\n",
      " #   Column                   Non-Null Count  Dtype  \n",
      "---  ------                   --------------  -----  \n",
      " 0   asset_id                 718 non-null    int64  \n",
      " 1   time                     718 non-null    int64  \n",
      " 2   open                     718 non-null    float64\n",
      " 3   close                    718 non-null    float64\n",
      " 4   high                     718 non-null    float64\n",
      " 5   low                      718 non-null    float64\n",
      " 6   volume                   718 non-null    float64\n",
      " 7   market_cap               696 non-null    float64\n",
      " 8   url_shares               704 non-null    float64\n",
      " 9   unique_url_shares        704 non-null    float64\n",
      " 10  tweets                   710 non-null    float64\n",
      " 11  tweet_spam               710 non-null    float64\n",
      " 12  tweet_followers          698 non-null    float64\n",
      " 13  tweet_quotes             698 non-null    float64\n",
      " 14  tweet_retweets           698 non-null    float64\n",
      " 15  tweet_replies            698 non-null    float64\n",
      " 16  tweet_favorites          698 non-null    float64\n",
      " 17  tweet_sentiment1         708 non-null    float64\n",
      " 18  tweet_sentiment2         710 non-null    float64\n",
      " 19  tweet_sentiment3         710 non-null    float64\n",
      " 20  tweet_sentiment4         710 non-null    float64\n",
      " 21  tweet_sentiment5         710 non-null    float64\n",
      " 22  tweet_sentiment_impact1  708 non-null    float64\n",
      " 23  tweet_sentiment_impact2  710 non-null    float64\n",
      " 24  tweet_sentiment_impact3  710 non-null    float64\n",
      " 25  tweet_sentiment_impact4  710 non-null    float64\n",
      " 26  tweet_sentiment_impact5  710 non-null    float64\n",
      " 27  social_score             710 non-null    float64\n",
      " 28  average_sentiment        710 non-null    float64\n",
      " 29  sentiment_relative       698 non-null    float64\n",
      " 30  news                     718 non-null    float64\n",
      " 31  price_score              697 non-null    float64\n",
      " 32  social_impact_score      697 non-null    float64\n",
      " 33  correlation_rank         697 non-null    float64\n",
      " 34  galaxy_score             697 non-null    float64\n",
      " 35  volatility               709 non-null    float64\n",
      " 36  alt_rank                 687 non-null    float64\n",
      " 37  alt_rank_30d             687 non-null    float64\n",
      " 38  market_cap_rank          682 non-null    float64\n",
      " 39  percent_change_24h_rank  669 non-null    float64\n",
      " 40  volume_24h_rank          669 non-null    float64\n",
      " 41  social_volume_24h_rank   669 non-null    float64\n",
      " 42  social_score_24h_rank    669 non-null    float64\n",
      " 43  medium                   718 non-null    float64\n",
      " 44  youtube                  718 non-null    float64\n",
      " 45  social_contributors      718 non-null    int64  \n",
      " 46  social_volume            718 non-null    int64  \n",
      " 47  price_btc                718 non-null    float64\n",
      " 48  social_volume_global     718 non-null    int64  \n",
      " 49  percent_change_24h       718 non-null    float64\n",
      " 50  market_cap_global        696 non-null    float64\n",
      " 51  market_dominance         696 non-null    float64\n",
      " 52  name                     718 non-null    object \n",
      " 53  symbol                   718 non-null    object \n",
      " 54  close_end_1d             717 non-null    float64\n",
      " 55  close_percent_change_1d  717 non-null    float64\n",
      " 56  close_end_7d             711 non-null    float64\n",
      " 57  close_min_7d             718 non-null    float64\n",
      " 58  close_max_7d             718 non-null    float64\n",
      " 59  close_loss_7d            718 non-null    float64\n",
      " 60  close_gain_7d            718 non-null    float64\n",
      " 61  close_change_7d          711 non-null    float64\n",
      " 62  close_percent_change_7d  711 non-null    float64\n",
      " 63  decision                 711 non-null    object \n",
      " 64  color                    711 non-null    object \n",
      " 65  close_btc                718 non-null    float64\n",
      "dtypes: float64(57), int64(5), object(4)\n",
      "memory usage: 375.8+ KB\n"
     ]
    }
   ],
   "source": [
    "# Read in Dogecoin data from interim data directory\n",
    "doge = pd.read_csv(os.path.join(data_interim_dir, 'doge.csv'), parse_dates=['date'])\n",
    "doge = doge.set_index('date')\n",
    "# Add in Bitcoin close price\n",
    "doge['close_btc'] = btc['close']\n",
    "doge.info()"
   ]
  },
  {
   "cell_type": "markdown",
   "id": "69a4a71b",
   "metadata": {},
   "source": [
    "# 3.2 Feature Engineering"
   ]
  },
  {
   "cell_type": "markdown",
   "id": "1264f4b6",
   "metadata": {},
   "source": [
    "###### Bitcoin"
   ]
  },
  {
   "cell_type": "code",
   "execution_count": 6,
   "id": "9c4f980d",
   "metadata": {},
   "outputs": [],
   "source": [
    "# Add technical anaysis single period metrics\n",
    "btc = create_single_tp_metrics(btc, 14)\n",
    "# Add technical analysis multi-period metrics\n",
    "btc = create_multi_tp_metrics(btc, 12, 26, 9)\n",
    "# Custom social transformations\n",
    "custom_transform = [(['tweets', 'tweet_followers', 'tweet_sentiment_impact_net'], 'mean', 20),\n",
    "                    (['news', 'volatility', 'social_volume_global'], 'mean', 14),\n",
    "                    (['tweet_sentiment1', 'tweet_sentiment_impact_bearish'], 'stdev', 7),\n",
    "                    (['market_dominance'], 'stdev', 14),\n",
    "                   (['market_cap_global'], 'pct_change', 20)\n",
    "                   ]\n",
    "# Add social metrics\n",
    "btc = create_social_metrics(btc, custom_transform)\n",
    "\n",
    "# Save data to final data directory\n",
    "btc.to_csv(os.path.join(data_final_dir, 'btc.csv'))"
   ]
  },
  {
   "cell_type": "markdown",
   "id": "b5f7fa91",
   "metadata": {},
   "source": [
    "###### Dogecoin"
   ]
  },
  {
   "cell_type": "code",
   "execution_count": 7,
   "id": "1242bcaa",
   "metadata": {},
   "outputs": [],
   "source": [
    "# Add technical anaysis single period metrics\n",
    "doge = create_single_tp_metrics(doge, 14)\n",
    "# Add technical analysis multi-period metrics\n",
    "doge = create_multi_tp_metrics(doge, 12, 26, 9)\n",
    "# Custom social transformations\n",
    "custom_transform = [(['tweets', 'tweet_followers', 'tweet_sentiment_impact_net'], 'mean', 20),\n",
    "                    (['news', 'volatility', 'social_volume_global'], 'mean', 14),\n",
    "                    (['tweet_sentiment1', 'tweet_sentiment_impact_bearish'], 'stdev', 7),\n",
    "                    (['market_dominance'], 'stdev', 14),\n",
    "                   (['market_cap_global'], 'pct_change', 20)\n",
    "                   ]\n",
    "# Add social metrics\n",
    "doge = create_social_metrics(doge, custom_transform)\n",
    "\n",
    "# Save data to final data directory\n",
    "doge.to_csv(os.path.join(data_final_dir, 'doge.csv'))"
   ]
  },
  {
   "cell_type": "markdown",
   "id": "087b2415",
   "metadata": {},
   "source": [
    "# 3.3 Preprocessing"
   ]
  },
  {
   "cell_type": "code",
   "execution_count": 8,
   "id": "caa352cf",
   "metadata": {},
   "outputs": [],
   "source": [
    "# Define the number timesteps that will be used for the validation and test datasets based on the prediction sequence_length\n",
    "target_col = 'close'\n",
    "target_offset = 1\n",
    "input_len = 49\n",
    "total_len = input_len + target_offset\n",
    "prediction_len = 7\n",
    "test_periods = prediction_len * 10 + total_len"
   ]
  },
  {
   "cell_type": "markdown",
   "id": "595bde47",
   "metadata": {},
   "source": [
    "### 3.3.1 Normalization Methods"
   ]
  },
  {
   "cell_type": "markdown",
   "id": "b379308a",
   "metadata": {},
   "source": [
    "In this section I will create functions to perform preprocessing on the dataset and split into train, validation and test sets.  The preprocessing techniques that I will evaluate are:\n",
    "\n",
    "1. Min-Max normalization (globally across entire dataset)\n",
    "2. Standardization by removing the mean and scaling to unit variance (globally and across a defined window)\n",
    "3. % Change normalization (globally and across a defined window)"
   ]
  },
  {
   "cell_type": "markdown",
   "id": "20159104",
   "metadata": {},
   "source": [
    "Let's first visualize the distribution of the output data for the one dimensional dataset for each preprocessing methods"
   ]
  },
  {
   "cell_type": "code",
   "execution_count": 9,
   "id": "dc18907f",
   "metadata": {},
   "outputs": [
    {
     "data": {
      "image/png": "[encoded data removed]",
      "text/plain": [
       "<Figure size 1080x360 with 2 Axes>"
      ]
     },
     "metadata": {
      "needs_background": "light"
     },
     "output_type": "display_data"
    }
   ],
   "source": [
    "from sklearn.preprocessing import MinMaxScaler\n",
    "minmax_scaler = MinMaxScaler()\n",
    "\n",
    "cols = [target_col]\n",
    "btc_data, btc_train_scaled_mm, btc_test_scaled_mm, btc_scaler_mm = data_preprocessing_scaling(minmax_scaler, btc, \n",
    "                                                                                     cols, test_periods)\n",
    "doge_data, doge_train_scaled_mm, doge_test_scaled_mm, doge_scaler_mm = data_preprocessing_scaling(minmax_scaler, doge, \n",
    "                                                                                         cols, test_periods)\n",
    "\n",
    "normalization_hist_plot((btc_train_scaled_mm, 'Bitcoin'), \n",
    "                        (doge_train_scaled_mm, 'Dogecoin'), 'Min-Max Global Scaling')"
   ]
  },
  {
   "cell_type": "code",
   "execution_count": 10,
   "id": "fbe814b9",
   "metadata": {},
   "outputs": [
    {
     "data": {
      "image/png": "[encoded data removed]",
      "text/plain": [
       "<Figure size 1080x360 with 2 Axes>"
      ]
     },
     "metadata": {
      "needs_background": "light"
     },
     "output_type": "display_data"
    }
   ],
   "source": [
    "from sklearn.preprocessing import StandardScaler\n",
    "standard_scaler = StandardScaler()\n",
    "\n",
    "btc_data, btc_train_scaled_sg, btc_test_scaled_sg, btc_scaler_sg = data_preprocessing_standardize(standard_scaler, btc, cols,\n",
    "                                                                                         test_periods, -1)\n",
    "\n",
    "doge_data, doge_train_scaled_sg, doge_test_scaled_sg, doge_scaler_sg = data_preprocessing_standardize(standard_scaler, doge, cols,\n",
    "                                                                                         test_periods, -1)\n",
    "\n",
    "normalization_hist_plot((btc_train_scaled_sg, 'Bitcoin'), \n",
    "                        (doge_train_scaled_sg, 'Dogecoin'), 'Standard Global Scaling')"
   ]
  },
  {
   "cell_type": "code",
   "execution_count": 11,
   "id": "6bedbc0c",
   "metadata": {},
   "outputs": [
    {
     "data": {
      "image/png": "[encoded data removed]",
      "text/plain": [
       "<Figure size 1080x360 with 2 Axes>"
      ]
     },
     "metadata": {
      "needs_background": "light"
     },
     "output_type": "display_data"
    }
   ],
   "source": [
    "btc_data, btc_train_scaled_sw, btc_test_scaled_sw, btc_scaler_sw = data_preprocessing_standardize(standard_scaler, btc, cols,\n",
    "                                                                                         test_periods, total_len)\n",
    "\n",
    "doge_data, doge_train_scaled_sw, doge_test_scaled_sw, doge_scaler_sw = data_preprocessing_standardize(standard_scaler, doge, cols,\n",
    "                                                                                         test_periods, total_len)\n",
    "\n",
    "normalization_hist_plot((btc_train_scaled_sw, 'Bitcoin'), \n",
    "                        (doge_train_scaled_sw, 'Dogecoin'), 'Standard Window Scaling')"
   ]
  },
  {
   "cell_type": "code",
   "execution_count": 12,
   "id": "92e9f00e",
   "metadata": {},
   "outputs": [
    {
     "data": {
      "image/png": "[encoded data removed]",
      "text/plain": [
       "<Figure size 1080x360 with 2 Axes>"
      ]
     },
     "metadata": {
      "needs_background": "light"
     },
     "output_type": "display_data"
    }
   ],
   "source": [
    "btc_data, btc_train_scaled_pg, btc_test_scaled_pg = data_preprocessing_pct_change(btc, cols, test_periods, -1)\n",
    "\n",
    "doge_data, doge_train_scaled_pg, doge_test_scaled_pg = data_preprocessing_pct_change(doge, cols, test_periods, -1)\n",
    "\n",
    "normalization_hist_plot((btc_train_scaled_pg, 'Bitcoin'), \n",
    "                        (doge_train_scaled_pg, 'Dogecoin'), '% Change Global Scaling')"
   ]
  },
  {
   "cell_type": "code",
   "execution_count": 13,
   "id": "4722cd4f",
   "metadata": {},
   "outputs": [
    {
     "data": {
      "image/png": "[encoded data removed]",
      "text/plain": [
       "<Figure size 1080x360 with 2 Axes>"
      ]
     },
     "metadata": {
      "needs_background": "light"
     },
     "output_type": "display_data"
    }
   ],
   "source": [
    "btc_data, btc_train_scaled_pw, btc_test_scaled_pw = data_preprocessing_pct_change(btc, cols, test_periods, total_len)\n",
    "\n",
    "doge_data, doge_train_scaled_pw, doge_test_scaled_pw = data_preprocessing_pct_change(doge, cols, test_periods, total_len)\n",
    "\n",
    "normalization_hist_plot((btc_train_scaled_pw, 'Bitcoin'), \n",
    "                        (doge_train_scaled_pw, 'Dogecoin'), '% Change Window Scaling')"
   ]
  },
  {
   "cell_type": "markdown",
   "id": "db14411b",
   "metadata": {},
   "source": [
    "Standard window scaling normalizes the data the best for both coins.  % Change window scaling normalizes the data very well for Bitcoin but since Dogecoin did not really have large changes in price until 2021 this scaling method is not as effective for Dogecoin."
   ]
  },
  {
   "cell_type": "markdown",
   "id": "0fa8c0a1",
   "metadata": {},
   "source": [
    "# 4 Modeling<a id='4_modeling'></a>"
   ]
  },
  {
   "cell_type": "markdown",
   "id": "70efafd0",
   "metadata": {},
   "source": [
    "## 4.1 Sequence Modeling"
   ]
  },
  {
   "cell_type": "markdown",
   "id": "56626e53",
   "metadata": {},
   "source": [
    "The first modeling task for this project is to utilize a Long short-term memory (LSTM) recurrent neural network to make sequence predictions for a future sequence of time steps.  In this case I'm focusing on the ending daily `close` price for each coin.  I'm not as concerned with being able to accurately predict the future `close` price but to be able to identify the directional trend.\n",
    "\n",
    "In the first stage I will create several one dimensional LSTM models for Bitcoin and Dogecoin to determine the most effective normalization method.\n",
    "\n",
    "The 4 evaluation metrics I will be using are:\n",
    "\n",
    "1. `mean directional accuracy` - MDA utilizes the change in value (positive or negative) and averages if the predictions had the same directional change.  Higher is better.\n",
    "2. `mean absolute error` - MAE averages the absolute value of the prediction error.  I will use this as the loss metric in the model.  Lower is better.\n",
    "3. `mean absolute scaled error` - MASE uses MAE but scales the result by dividing by the MAE of actual data and a shifted forward naive forecast.  This metric will be scale invariant and allow me to compare the normalization methods across models.  Lower is better.\n",
    "3. `kendalltau` - Kendall's tau is a correlation measure of the correspondence between 2 arrays.  It is a non-parametric test that determines if the 2 arrays have a monotonic relationship.  I will be averaging the number of sequences in the test data that are statistically significant.  Higher is better for the tau statistic as well as the average tau statistically significant."
   ]
  },
  {
   "cell_type": "markdown",
   "id": "934d6f74",
   "metadata": {},
   "source": [
    "### 4.1.1 One Dimensional LSTM Model"
   ]
  },
  {
   "cell_type": "markdown",
   "id": "988f9fb7",
   "metadata": {},
   "source": [
    "##### Bitcoin"
   ]
  },
  {
   "cell_type": "code",
   "execution_count": 14,
   "id": "3e9c22aa",
   "metadata": {},
   "outputs": [
    {
     "data": {
      "text/plain": [
       "{'model': {'loss': 'mae',\n",
       "  'optimizer': 'adam',\n",
       "  'layers': [{'type': 'lstm', 'neurons': 100, 'return_seq': True},\n",
       "   {'type': 'dropout', 'rate': 0.2},\n",
       "   {'type': 'lstm', 'neurons': 100, 'return_seq': True},\n",
       "   {'type': 'lstm', 'neurons': 100, 'return_seq': False},\n",
       "   {'type': 'dropout', 'rate': 0.2},\n",
       "   {'type': 'dense', 'neurons': 1, 'activation': 'linear'}]}}"
      ]
     },
     "execution_count": 14,
     "metadata": {},
     "output_type": "execute_result"
    }
   ],
   "source": [
    "# Load LSTM model configuration params\n",
    "lstm_config = json.load(open('lstm_config.json', 'r'))\n",
    "lstm_config"
   ]
  },
  {
   "cell_type": "code",
   "execution_count": 15,
   "id": "2b0661ca",
   "metadata": {},
   "outputs": [
    {
     "data": {
      "text/plain": [
       "{'epochs': 40,\n",
       " 'batch_size': 32,\n",
       " 'validation_split': 0.15,\n",
       " 'verbose': 1,\n",
       " 'save_fname': '..\\\\models\\\\btc_lstm.h5'}"
      ]
     },
     "execution_count": 15,
     "metadata": {},
     "output_type": "execute_result"
    }
   ],
   "source": [
    "btc_model_save_fname = os.path.join(model_save_dir, 'btc_lstm.h5')\n",
    "# Create LSTM model training configuration params for Bitcoin\n",
    "btc_train_config = dict(epochs=40,\n",
    "                        batch_size=32,\n",
    "                        validation_split=0.15,\n",
    "                        verbose=1,\n",
    "                        save_fname=btc_model_save_fname\n",
    "                       )\n",
    "btc_train_config"
   ]
  },
  {
   "cell_type": "markdown",
   "id": "15bb3e9f",
   "metadata": {},
   "source": [
    "#### 4.1.1.1 MinMax Scaling Global"
   ]
  },
  {
   "cell_type": "code",
   "execution_count": 16,
   "id": "dc956c03",
   "metadata": {},
   "outputs": [
    {
     "name": "stdout",
     "output_type": "stream",
     "text": [
      "(549, 49, 1)\n",
      "(549,)\n"
     ]
    }
   ],
   "source": [
    "btc_train_X, btc_train_y = create_timeseries_data(btc_train_scaled_mm, target_col, input_len)\n",
    "btc_test_X, btc_test_y = create_timeseries_data(btc_test_scaled_mm, target_col, input_len)\n",
    "\n",
    "print(btc_train_X.shape)\n",
    "print(btc_train_y.shape)"
   ]
  },
  {
   "cell_type": "code",
   "execution_count": 17,
   "id": "82e5a707",
   "metadata": {},
   "outputs": [
    {
     "data": {
      "text/plain": [
       "{'model': {'loss': 'mae',\n",
       "  'optimizer': 'adam',\n",
       "  'layers': [{'type': 'lstm',\n",
       "    'neurons': 100,\n",
       "    'return_seq': True,\n",
       "    'input_timesteps': 49,\n",
       "    'input_dim': 1},\n",
       "   {'type': 'dropout', 'rate': 0.2},\n",
       "   {'type': 'lstm', 'neurons': 100, 'return_seq': True},\n",
       "   {'type': 'lstm', 'neurons': 100, 'return_seq': False},\n",
       "   {'type': 'dropout', 'rate': 0.2},\n",
       "   {'type': 'dense', 'neurons': 1, 'activation': 'linear'}]}}"
      ]
     },
     "execution_count": 17,
     "metadata": {},
     "output_type": "execute_result"
    }
   ],
   "source": [
    "# The input_timesteps and dim will vary depending on the data so add this to the configs based on the data\n",
    "btc_model_config = update_model_input_dim(lstm_config, btc_train_X.shape)\n",
    "btc_model_config"
   ]
  },
  {
   "cell_type": "code",
   "execution_count": 18,
   "id": "427edc15",
   "metadata": {},
   "outputs": [
    {
     "name": "stdout",
     "output_type": "stream",
     "text": [
      "Epoch 1/40\n",
      "15/15 [==============================] - 7s 182ms/step - loss: 0.0481 - val_loss: 0.1022\n",
      "Epoch 2/40\n",
      "15/15 [==============================] - 1s 95ms/step - loss: 0.0224 - val_loss: 0.2353\n",
      "Epoch 3/40\n",
      "15/15 [==============================] - 1s 75ms/step - loss: 0.0164 - val_loss: 0.3875\n"
     ]
    }
   ],
   "source": [
    "from src.models.rnn_model import Model\n",
    "\n",
    "# Instantiate model class\n",
    "btc_lstm_model = Model()\n",
    "\n",
    "# Build model\n",
    "btc_lstm_model.build_model(btc_model_config)\n",
    "\n",
    "btc_lstm_model.train(btc_train_X, btc_train_y, btc_train_config)"
   ]
  },
  {
   "cell_type": "code",
   "execution_count": 19,
   "id": "b6c50bbc",
   "metadata": {},
   "outputs": [],
   "source": [
    "# Define variables to evaluate prediction sequences\n",
    "seq_metric = 'kendalltau'\n",
    "alpha = 0.05"
   ]
  },
  {
   "cell_type": "code",
   "execution_count": 20,
   "id": "93f27e41",
   "metadata": {},
   "outputs": [
    {
     "data": {
      "image/png": "[encoded data removed]",
      "text/plain": [
       "<Figure size 720x360 with 1 Axes>"
      ]
     },
     "metadata": {
      "needs_background": "light"
     },
     "output_type": "display_data"
    }
   ],
   "source": [
    "btc_predictions, btc_seq_metrics = evaluate_model(btc_lstm_model, btc_test_X, btc_test_y, total_len, prediction_len)\n",
    "\n",
    "btc_base_mm_mda = mean_metric_results(btc_seq_metrics, 'mda')\n",
    "btc_base_mm_mase = mean_metric_results(btc_seq_metrics, 'mase')\n",
    "btc_base_mm_tau = mean_tau_stat_sig(btc_seq_metrics, alpha)\n",
    "\n",
    "title = 'Bitcoin Min-Max Scaling Global LSTM Model MDA: {:.3}, MASE: {:.3}, Tau: {:.3}'.format(btc_base_mm_mda, \n",
    "                                                                                        btc_base_mm_mase,\n",
    "                                                                                        btc_base_mm_tau)\n",
    "plot_results_multiple(btc_predictions, btc_test_y, prediction_len, seq_metric, alpha, title)"
   ]
  },
  {
   "cell_type": "markdown",
   "id": "3b8ff6b9",
   "metadata": {},
   "source": [
    "Performance is generally very poor using Min-Max scaling with the predictions being completely off the mark but the trend detection is correct on several sequences."
   ]
  },
  {
   "cell_type": "markdown",
   "id": "5e8de621",
   "metadata": {},
   "source": [
    "#### 4.1.1.2 Standard Scaler Global"
   ]
  },
  {
   "cell_type": "code",
   "execution_count": 21,
   "id": "5964f5ad",
   "metadata": {},
   "outputs": [
    {
     "name": "stdout",
     "output_type": "stream",
     "text": [
      "(549, 49, 1)\n",
      "(549,)\n"
     ]
    }
   ],
   "source": [
    "btc_train_X, btc_train_y = create_timeseries_data(btc_train_scaled_sg, target_col, input_len)\n",
    "btc_test_X, btc_test_y = create_timeseries_data(btc_test_scaled_sg, target_col, input_len)\n",
    "\n",
    "print(btc_train_X.shape)\n",
    "print(btc_train_y.shape)"
   ]
  },
  {
   "cell_type": "code",
   "execution_count": 22,
   "id": "3cde5eee",
   "metadata": {},
   "outputs": [
    {
     "name": "stdout",
     "output_type": "stream",
     "text": [
      "Epoch 1/40\n",
      "15/15 [==============================] - 6s 162ms/step - loss: 0.1824 - val_loss: 0.6095\n",
      "Epoch 2/40\n",
      "15/15 [==============================] - 1s 77ms/step - loss: 0.0852 - val_loss: 0.7548\n",
      "Epoch 3/40\n",
      "15/15 [==============================] - 1s 88ms/step - loss: 0.0630 - val_loss: 0.4699\n",
      "Epoch 4/40\n",
      "15/15 [==============================] - 1s 85ms/step - loss: 0.0671 - val_loss: 0.6316\n",
      "Epoch 5/40\n",
      "15/15 [==============================] - 1s 78ms/step - loss: 0.0590 - val_loss: 0.2850\n",
      "Epoch 6/40\n",
      "15/15 [==============================] - 1s 81ms/step - loss: 0.0627 - val_loss: 0.2969\n",
      "Epoch 7/40\n",
      "15/15 [==============================] - 1s 79ms/step - loss: 0.0598 - val_loss: 0.2997\n"
     ]
    }
   ],
   "source": [
    "# Instantiate model class\n",
    "btc_lstm_model = Model()\n",
    "\n",
    "# Build model\n",
    "btc_lstm_model.build_model(btc_model_config)\n",
    "\n",
    "btc_lstm_model.train(btc_train_X, btc_train_y, btc_train_config)"
   ]
  },
  {
   "cell_type": "code",
   "execution_count": 23,
   "id": "7e84bc1a",
   "metadata": {},
   "outputs": [
    {
     "data": {
      "image/png": "[encoded data removed]",
      "text/plain": [
       "<Figure size 720x360 with 1 Axes>"
      ]
     },
     "metadata": {
      "needs_background": "light"
     },
     "output_type": "display_data"
    }
   ],
   "source": [
    "btc_predictions, btc_seq_metrics = evaluate_model(btc_lstm_model, btc_test_X, btc_test_y, total_len, prediction_len)\n",
    "\n",
    "btc_base_sg_mda = mean_metric_results(btc_seq_metrics, 'mda')\n",
    "btc_base_sg_mase = mean_metric_results(btc_seq_metrics, 'mase')\n",
    "btc_base_sg_tau = mean_tau_stat_sig(btc_seq_metrics, alpha)\n",
    "\n",
    "title = 'Bitcoin Standard Scaling Global LSTM Model MDA: {:.3}, MASE: {:.3}, Tau: {:.3}'.format(btc_base_sg_mda, \n",
    "                                                                                        btc_base_sg_mase,\n",
    "                                                                                        btc_base_sg_tau)\n",
    "plot_results_multiple(btc_predictions, btc_test_y, prediction_len, seq_metric, alpha, title)"
   ]
  },
  {
   "cell_type": "markdown",
   "id": "b5bce1e8",
   "metadata": {},
   "source": [
    "The predictions for standard scaling global are quite similar to Min-Max scaling."
   ]
  },
  {
   "cell_type": "markdown",
   "id": "aee89dbd",
   "metadata": {},
   "source": [
    "#### 4.1.1.3 Standard Scaler Window"
   ]
  },
  {
   "cell_type": "code",
   "execution_count": 24,
   "id": "7727a7d9",
   "metadata": {},
   "outputs": [
    {
     "name": "stdout",
     "output_type": "stream",
     "text": [
      "(549, 49, 1)\n",
      "(549,)\n"
     ]
    }
   ],
   "source": [
    "btc_train_X, btc_train_y = create_timeseries_data(btc_train_scaled_sw, target_col, input_len)\n",
    "btc_test_X, btc_test_y = create_timeseries_data(btc_test_scaled_sw, target_col, input_len)\n",
    "\n",
    "print(btc_train_X.shape)\n",
    "print(btc_train_y.shape)"
   ]
  },
  {
   "cell_type": "code",
   "execution_count": 25,
   "id": "e11ec4af",
   "metadata": {},
   "outputs": [
    {
     "name": "stdout",
     "output_type": "stream",
     "text": [
      "Epoch 1/40\n",
      "15/15 [==============================] - 6s 141ms/step - loss: 0.7427 - val_loss: 0.7590\n",
      "Epoch 2/40\n",
      "15/15 [==============================] - 1s 81ms/step - loss: 0.6752 - val_loss: 0.7035\n",
      "Epoch 3/40\n",
      "15/15 [==============================] - 1s 79ms/step - loss: 0.6125 - val_loss: 0.6291\n",
      "Epoch 4/40\n",
      "15/15 [==============================] - 1s 82ms/step - loss: 0.5663 - val_loss: 0.5340\n",
      "Epoch 5/40\n",
      "15/15 [==============================] - 1s 80ms/step - loss: 0.5353 - val_loss: 0.5082\n",
      "Epoch 6/40\n",
      "15/15 [==============================] - 1s 83ms/step - loss: 0.5038 - val_loss: 0.4747\n",
      "Epoch 7/40\n",
      "15/15 [==============================] - 1s 79ms/step - loss: 0.4605 - val_loss: 0.4507\n",
      "Epoch 8/40\n",
      "15/15 [==============================] - 1s 81ms/step - loss: 0.4342 - val_loss: 0.4316\n",
      "Epoch 9/40\n",
      "15/15 [==============================] - 1s 90ms/step - loss: 0.3984 - val_loss: 0.3703\n",
      "Epoch 10/40\n",
      "15/15 [==============================] - 1s 84ms/step - loss: 0.4067 - val_loss: 0.3941\n",
      "Epoch 11/40\n",
      "15/15 [==============================] - 2s 124ms/step - loss: 0.3897 - val_loss: 0.3373\n",
      "Epoch 12/40\n",
      "15/15 [==============================] - 1s 81ms/step - loss: 0.3755 - val_loss: 0.3549\n",
      "Epoch 13/40\n",
      "15/15 [==============================] - 1s 78ms/step - loss: 0.3666 - val_loss: 0.3351\n",
      "Epoch 14/40\n",
      "15/15 [==============================] - 1s 80ms/step - loss: 0.3571 - val_loss: 0.3373\n",
      "Epoch 15/40\n",
      "15/15 [==============================] - 1s 77ms/step - loss: 0.3605 - val_loss: 0.3047\n",
      "Epoch 16/40\n",
      "15/15 [==============================] - 1s 81ms/step - loss: 0.3443 - val_loss: 0.3195\n",
      "Epoch 17/40\n",
      "15/15 [==============================] - 1s 74ms/step - loss: 0.3517 - val_loss: 0.3299\n"
     ]
    }
   ],
   "source": [
    "# Instantiate model class\n",
    "btc_lstm_model = Model()\n",
    "\n",
    "# Build model\n",
    "btc_lstm_model.build_model(btc_model_config)\n",
    "\n",
    "btc_lstm_model.train(btc_train_X, btc_train_y, btc_train_config)"
   ]
  },
  {
   "cell_type": "code",
   "execution_count": 26,
   "id": "a4e91e50",
   "metadata": {},
   "outputs": [
    {
     "data": {
      "image/png": "[encoded data removed]",
      "text/plain": [
       "<Figure size 720x360 with 1 Axes>"
      ]
     },
     "metadata": {
      "needs_background": "light"
     },
     "output_type": "display_data"
    }
   ],
   "source": [
    "btc_predictions, btc_seq_metrics = evaluate_model(btc_lstm_model, btc_test_X, btc_test_y, total_len, prediction_len)\n",
    "\n",
    "btc_base_sw_mda = mean_metric_results(btc_seq_metrics, 'mda')\n",
    "btc_base_sw_mase = mean_metric_results(btc_seq_metrics, 'mase')\n",
    "btc_base_sw_tau = mean_tau_stat_sig(btc_seq_metrics, alpha)\n",
    "\n",
    "title = 'Bitcoin Standard Scaling Window LSTM Model MDA: {:.3}, MASE: {:.3}, Tau: {:.3}'.format(btc_base_sw_mda, \n",
    "                                                                                        btc_base_sw_mase,\n",
    "                                                                                        btc_base_sw_tau)\n",
    "plot_results_multiple(btc_predictions, btc_test_y, prediction_len, seq_metric, alpha, title)"
   ]
  },
  {
   "cell_type": "markdown",
   "id": "d274e64c",
   "metadata": {},
   "source": [
    "Standard scaling across a window generally performs much better then the prior 2 methods.  Although the tau statistic is only statistically signifiant for some sequences, looking at the predictions these are much more accurate than prior scaling methods.  Window standard scalling will be explored further with Dogecoin."
   ]
  },
  {
   "cell_type": "markdown",
   "id": "5c4461c8",
   "metadata": {},
   "source": [
    "#### 4.1.1.4 Percentage Change Global"
   ]
  },
  {
   "cell_type": "code",
   "execution_count": 27,
   "id": "4bd4ce06",
   "metadata": {},
   "outputs": [
    {
     "name": "stdout",
     "output_type": "stream",
     "text": [
      "(548, 49, 1)\n",
      "(548,)\n"
     ]
    }
   ],
   "source": [
    "btc_train_X, btc_train_y = create_timeseries_data(btc_train_scaled_pg, target_col, input_len)\n",
    "btc_test_X, btc_test_y = create_timeseries_data(btc_test_scaled_pg, target_col, input_len)\n",
    "\n",
    "print(btc_train_X.shape)\n",
    "print(btc_train_y.shape)"
   ]
  },
  {
   "cell_type": "code",
   "execution_count": 28,
   "id": "2f18418e",
   "metadata": {},
   "outputs": [
    {
     "name": "stdout",
     "output_type": "stream",
     "text": [
      "Epoch 1/40\n",
      "15/15 [==============================] - 6s 156ms/step - loss: 0.0262 - val_loss: 0.0318\n",
      "Epoch 2/40\n",
      "15/15 [==============================] - 1s 82ms/step - loss: 0.0249 - val_loss: 0.0302\n",
      "Epoch 3/40\n",
      "15/15 [==============================] - 1s 74ms/step - loss: 0.0252 - val_loss: 0.0304\n",
      "Epoch 4/40\n",
      "15/15 [==============================] - 1s 73ms/step - loss: 0.0251 - val_loss: 0.0299\n",
      "Epoch 5/40\n",
      "15/15 [==============================] - 1s 74ms/step - loss: 0.0246 - val_loss: 0.0306\n",
      "Epoch 6/40\n",
      "15/15 [==============================] - 1s 102ms/step - loss: 0.0251 - val_loss: 0.0311\n"
     ]
    }
   ],
   "source": [
    "# Instantiate model class\n",
    "btc_lstm_model = Model()\n",
    "\n",
    "# Build model\n",
    "btc_lstm_model.build_model(btc_model_config)\n",
    "\n",
    "btc_lstm_model.train(btc_train_X, btc_train_y, btc_train_config)"
   ]
  },
  {
   "cell_type": "code",
   "execution_count": 29,
   "id": "b9586120",
   "metadata": {},
   "outputs": [
    {
     "data": {
      "image/png": "[encoded data removed]",
      "text/plain": [
       "<Figure size 720x360 with 1 Axes>"
      ]
     },
     "metadata": {
      "needs_background": "light"
     },
     "output_type": "display_data"
    }
   ],
   "source": [
    "btc_predictions, btc_seq_metrics = evaluate_model(btc_lstm_model, btc_test_X, btc_test_y, total_len, prediction_len)\n",
    "\n",
    "btc_base_pg_mda = mean_metric_results(btc_seq_metrics, 'mda')\n",
    "btc_base_pg_mase = mean_metric_results(btc_seq_metrics, 'mase')\n",
    "btc_base_pg_tau = mean_tau_stat_sig(btc_seq_metrics, alpha)\n",
    "\n",
    "title = 'Bitcoin % Change Global LSTM Model MDA: {:.3}, MASE: {:.3}, Tau: {:.3}'.format(btc_base_pg_mda, \n",
    "                                                                                        btc_base_pg_mase,\n",
    "                                                                                        btc_base_pg_tau)\n",
    "plot_results_multiple(btc_predictions, btc_test_y, prediction_len, seq_metric, alpha, title)"
   ]
  },
  {
   "cell_type": "markdown",
   "id": "49f0fe10",
   "metadata": {},
   "source": [
    "% Change globally is clearly the worst performing.  The sequence predictions are almost completely flat.  This also highlights the weakness with the MDA and MASE metrics."
   ]
  },
  {
   "cell_type": "markdown",
   "id": "dc5d5b60",
   "metadata": {},
   "source": [
    "#### 4.1.1.5 Percentage Change Window"
   ]
  },
  {
   "cell_type": "code",
   "execution_count": 30,
   "id": "e1b181fe",
   "metadata": {},
   "outputs": [
    {
     "name": "stdout",
     "output_type": "stream",
     "text": [
      "(549, 49, 1)\n",
      "(549,)\n"
     ]
    }
   ],
   "source": [
    "btc_train_X, btc_train_y = create_timeseries_data(btc_train_scaled_pw, target_col, input_len)\n",
    "btc_test_X, btc_test_y = create_timeseries_data(btc_test_scaled_pw, target_col, input_len)\n",
    "\n",
    "print(btc_train_X.shape)\n",
    "print(btc_train_y.shape)"
   ]
  },
  {
   "cell_type": "code",
   "execution_count": 31,
   "id": "3e6a84b2",
   "metadata": {},
   "outputs": [
    {
     "name": "stdout",
     "output_type": "stream",
     "text": [
      "Epoch 1/40\n",
      "15/15 [==============================] - 7s 207ms/step - loss: 0.0991 - val_loss: 0.1678\n",
      "Epoch 2/40\n",
      "15/15 [==============================] - 2s 122ms/step - loss: 0.0899 - val_loss: 0.1328\n",
      "Epoch 3/40\n",
      "15/15 [==============================] - 2s 133ms/step - loss: 0.0805 - val_loss: 0.1235\n",
      "Epoch 4/40\n",
      "15/15 [==============================] - 2s 149ms/step - loss: 0.0702 - val_loss: 0.1106\n",
      "Epoch 5/40\n",
      "15/15 [==============================] - 2s 129ms/step - loss: 0.0672 - val_loss: 0.1042\n",
      "Epoch 6/40\n",
      "15/15 [==============================] - 2s 127ms/step - loss: 0.0644 - val_loss: 0.0962\n",
      "Epoch 7/40\n",
      "15/15 [==============================] - 2s 130ms/step - loss: 0.0628 - val_loss: 0.0908\n",
      "Epoch 8/40\n",
      "15/15 [==============================] - 2s 129ms/step - loss: 0.0624 - val_loss: 0.0855\n",
      "Epoch 9/40\n",
      "15/15 [==============================] - 2s 134ms/step - loss: 0.0559 - val_loss: 0.0804\n",
      "Epoch 10/40\n",
      "15/15 [==============================] - 2s 133ms/step - loss: 0.0558 - val_loss: 0.0767\n",
      "Epoch 11/40\n",
      "15/15 [==============================] - 2s 134ms/step - loss: 0.0518 - val_loss: 0.0846\n",
      "Epoch 12/40\n",
      "15/15 [==============================] - 2s 139ms/step - loss: 0.0517 - val_loss: 0.0696\n",
      "Epoch 13/40\n",
      "15/15 [==============================] - 2s 149ms/step - loss: 0.0481 - val_loss: 0.0663\n",
      "Epoch 14/40\n",
      "15/15 [==============================] - 2s 135ms/step - loss: 0.0452 - val_loss: 0.0665\n",
      "Epoch 15/40\n",
      "15/15 [==============================] - 2s 134ms/step - loss: 0.0443 - val_loss: 0.0623\n",
      "Epoch 16/40\n",
      "15/15 [==============================] - 2s 136ms/step - loss: 0.0423 - val_loss: 0.0563\n",
      "Epoch 17/40\n",
      "15/15 [==============================] - 2s 133ms/step - loss: 0.0402 - val_loss: 0.0551\n",
      "Epoch 18/40\n",
      "15/15 [==============================] - 2s 133ms/step - loss: 0.0407 - val_loss: 0.0588\n",
      "Epoch 19/40\n",
      "15/15 [==============================] - 2s 144ms/step - loss: 0.0390 - val_loss: 0.0541\n",
      "Epoch 20/40\n",
      "15/15 [==============================] - 2s 159ms/step - loss: 0.0371 - val_loss: 0.0542\n",
      "Epoch 21/40\n",
      "15/15 [==============================] - 2s 137ms/step - loss: 0.0376 - val_loss: 0.0540\n",
      "Epoch 22/40\n",
      "15/15 [==============================] - 2s 140ms/step - loss: 0.0369 - val_loss: 0.0495\n",
      "Epoch 23/40\n",
      "15/15 [==============================] - 2s 140ms/step - loss: 0.0357 - val_loss: 0.0541\n",
      "Epoch 24/40\n",
      "15/15 [==============================] - 2s 140ms/step - loss: 0.0362 - val_loss: 0.0558\n"
     ]
    }
   ],
   "source": [
    "# Instantiate model class\n",
    "btc_lstm_model = Model()\n",
    "\n",
    "# Build model\n",
    "btc_lstm_model.build_model(btc_model_config)\n",
    "\n",
    "btc_lstm_model.train(btc_train_X, btc_train_y, btc_train_config)"
   ]
  },
  {
   "cell_type": "code",
   "execution_count": 32,
   "id": "cfeeaf75",
   "metadata": {},
   "outputs": [
    {
     "data": {
      "image/png": "[encoded data removed]",
      "text/plain": [
       "<Figure size 720x360 with 1 Axes>"
      ]
     },
     "metadata": {
      "needs_background": "light"
     },
     "output_type": "display_data"
    }
   ],
   "source": [
    "btc_predictions, btc_seq_metrics = evaluate_model(btc_lstm_model, btc_test_X, btc_test_y, total_len, prediction_len)\n",
    "\n",
    "btc_base_pw_mda = mean_metric_results(btc_seq_metrics, 'mda')\n",
    "btc_base_pw_mase = mean_metric_results(btc_seq_metrics, 'mase')\n",
    "btc_base_pw_tau = mean_tau_stat_sig(btc_seq_metrics, alpha)\n",
    "\n",
    "title = 'Bitcoin % Change Window LSTM Model MDA: {:.3}, MASE: {:.3}, Tau: {:.3}'.format(btc_base_pw_mda, \n",
    "                                                                                        btc_base_pw_mase,\n",
    "                                                                                        btc_base_pw_tau)\n",
    "plot_results_multiple(btc_predictions, btc_test_y, prediction_len, seq_metric, alpha, title)"
   ]
  },
  {
   "cell_type": "markdown",
   "id": "7a50bace",
   "metadata": {},
   "source": [
    "Due to stochastic nature of a rnn model training, the results can vary for each run so next I will train a model for Standard and % Change window scalling multiple times and then average the evaluation metrics."
   ]
  },
  {
   "cell_type": "markdown",
   "id": "60702b45",
   "metadata": {},
   "source": [
    "##### Training Runs"
   ]
  },
  {
   "cell_type": "code",
   "execution_count": 33,
   "id": "d71f89e4",
   "metadata": {},
   "outputs": [
    {
     "name": "stdout",
     "output_type": "stream",
     "text": [
      "Model Training started for instance 1\n",
      "Model Training started for instance 2\n",
      "Model Training started for instance 3\n",
      "Model Training started for instance 4\n",
      "Model Training started for instance 5\n",
      "Model Training started for instance 6\n",
      "Model Training started for instance 7\n",
      "Model Training started for instance 8\n",
      "Model Training started for instance 9\n",
      "Model Training started for instance 10\n"
     ]
    }
   ],
   "source": [
    "training_runs = 10\n",
    "btc_sw_results = []\n",
    "btc_train_X, btc_train_y = create_timeseries_data(btc_train_scaled_sw, target_col, input_len)\n",
    "btc_test_X, btc_test_y = create_timeseries_data(btc_test_scaled_sw, target_col, input_len)\n",
    "# Turn off verbose since training multiple models\n",
    "btc_train_config['verbose'] = 0\n",
    "for i in range(training_runs):\n",
    "    # Instantiate model class\n",
    "    btc_lstm_model = Model()\n",
    "    # Build model\n",
    "    btc_lstm_model.build_model(btc_model_config)\n",
    "    print('Model Training started for instance {}'.format(i+1))\n",
    "    # Train model\n",
    "    btc_lstm_model.train(btc_train_X, btc_train_y, btc_train_config)\n",
    "    # Evaluate model\n",
    "    btc_predictions, btc_seq_metrics = evaluate_model(btc_lstm_model, btc_test_X, btc_test_y, total_len, prediction_len)\n",
    "    # Append results\n",
    "    btc_sw_results.append(btc_seq_metrics)"
   ]
  },
  {
   "cell_type": "code",
   "execution_count": 37,
   "id": "ea2c0d2f",
   "metadata": {},
   "outputs": [
    {
     "name": "stdout",
     "output_type": "stream",
     "text": [
      "Bitcoin Standard Scaling Window Baseline Metrics MDA: 0.538, MASE: 2.03, Tau: 0.27.\n"
     ]
    }
   ],
   "source": [
    "btc_base_sw_mda = mean_metric_seq_results(btc_sw_results, 'mda')\n",
    "btc_base_sw_mase = mean_metric_seq_results(btc_sw_results, 'mase')\n",
    "btc_base_sw_tau = mean_tau_seq_stat_sig(btc_sw_results, alpha)\n",
    "print('Bitcoin Standard Scaling Window Baseline Metrics MDA: {:.3}, MASE: {:.3}, Tau: {:.3}.'.\\\n",
    "format(btc_base_sw_mda, btc_base_sw_mase, btc_base_sw_tau))"
   ]
  },
  {
   "cell_type": "code",
   "execution_count": 38,
   "id": "059e26b2",
   "metadata": {},
   "outputs": [
    {
     "name": "stdout",
     "output_type": "stream",
     "text": [
      "Model Training started for instance 1\n",
      "Model Training started for instance 2\n",
      "Model Training started for instance 3\n",
      "Model Training started for instance 4\n",
      "Model Training started for instance 5\n",
      "Model Training started for instance 6\n",
      "Model Training started for instance 7\n",
      "Model Training started for instance 8\n",
      "Model Training started for instance 9\n",
      "Model Training started for instance 10\n"
     ]
    }
   ],
   "source": [
    "btc_pw_results = []\n",
    "btc_train_X, btc_train_y = create_timeseries_data(btc_train_scaled_pw, target_col, input_len)\n",
    "btc_test_X, btc_test_y = create_timeseries_data(btc_test_scaled_pw, target_col, input_len)\n",
    "# Turn off verbose since training multiple models\n",
    "btc_train_config['verbose'] = 0\n",
    "for i in range(training_runs):\n",
    "    # Instantiate model class\n",
    "    btc_lstm_model = Model()\n",
    "    # Build model\n",
    "    btc_lstm_model.build_model(btc_model_config)\n",
    "    print('Model Training started for instance {}'.format(i+1))\n",
    "    # Train model\n",
    "    btc_lstm_model.train(btc_train_X, btc_train_y, btc_train_config)\n",
    "    # Evaluate model\n",
    "    btc_predictions, btc_seq_metrics = evaluate_model(btc_lstm_model, btc_test_X, btc_test_y, total_len, prediction_len)\n",
    "    # Append results\n",
    "    btc_pw_results.append(btc_seq_metrics)"
   ]
  },
  {
   "cell_type": "code",
   "execution_count": 40,
   "id": "efd5a15d",
   "metadata": {},
   "outputs": [
    {
     "name": "stdout",
     "output_type": "stream",
     "text": [
      "Bitcoin % Change Scaling Window Baseline Metrics MDA: 0.533, MASE: 2.36, Tau: 0.28.\n"
     ]
    }
   ],
   "source": [
    "btc_base_pw_mda = mean_metric_seq_results(btc_pw_results, 'mda')\n",
    "btc_base_pw_mase = mean_metric_seq_results(btc_pw_results, 'mase')\n",
    "btc_base_pw_tau = mean_tau_seq_stat_sig(btc_pw_results, alpha)\n",
    "print('Bitcoin % Change Scaling Window Baseline Metrics MDA: {:.3}, MASE: {:.3}, Tau: {:.3}.'.\\\n",
    "format(btc_base_pw_mda, btc_base_pw_mase, btc_base_pw_tau))"
   ]
  },
  {
   "cell_type": "markdown",
   "id": "69e2a5b0",
   "metadata": {},
   "source": [
    "##### Dogecoin"
   ]
  },
  {
   "cell_type": "markdown",
   "id": "dfd332ff",
   "metadata": {},
   "source": [
    "This will be the first time creating a model for Dogecoin so need to create the datasets and configs."
   ]
  },
  {
   "cell_type": "code",
   "execution_count": 41,
   "id": "84c54513",
   "metadata": {},
   "outputs": [
    {
     "name": "stdout",
     "output_type": "stream",
     "text": [
      "(549, 49, 1)\n",
      "(549,)\n"
     ]
    }
   ],
   "source": [
    "# Create train/test data for doge\n",
    "doge_train_X, doge_train_y = create_timeseries_data(doge_train_scaled_sw, target_col, input_len)\n",
    "doge_test_X, doge_test_y = create_timeseries_data(doge_test_scaled_sw, target_col, input_len)\n",
    "\n",
    "print(doge_train_X.shape)\n",
    "print(doge_train_y.shape)"
   ]
  },
  {
   "cell_type": "code",
   "execution_count": 42,
   "id": "c468f750",
   "metadata": {},
   "outputs": [
    {
     "data": {
      "text/plain": [
       "{'model': {'loss': 'mae',\n",
       "  'optimizer': 'adam',\n",
       "  'layers': [{'type': 'lstm',\n",
       "    'neurons': 100,\n",
       "    'return_seq': True,\n",
       "    'input_timesteps': 49,\n",
       "    'input_dim': 1},\n",
       "   {'type': 'dropout', 'rate': 0.2},\n",
       "   {'type': 'lstm', 'neurons': 100, 'return_seq': True},\n",
       "   {'type': 'lstm', 'neurons': 100, 'return_seq': False},\n",
       "   {'type': 'dropout', 'rate': 0.2},\n",
       "   {'type': 'dense', 'neurons': 1, 'activation': 'linear'}]}}"
      ]
     },
     "execution_count": 42,
     "metadata": {},
     "output_type": "execute_result"
    }
   ],
   "source": [
    "# The input_timesteps and dim will vary depending on the data so add this to the configs based on the data\n",
    "doge_model_config = update_model_input_dim(lstm_config, doge_train_X.shape)\n",
    "doge_model_config"
   ]
  },
  {
   "cell_type": "code",
   "execution_count": 43,
   "id": "499115c0",
   "metadata": {},
   "outputs": [
    {
     "data": {
      "text/plain": [
       "{'epochs': 40,\n",
       " 'batch_size': 32,\n",
       " 'validation_split': 0.15,\n",
       " 'verbose': 0,\n",
       " 'save_fname': '..\\\\models\\\\doge_lstm.h5'}"
      ]
     },
     "execution_count": 43,
     "metadata": {},
     "output_type": "execute_result"
    }
   ],
   "source": [
    "doge_model_save_fname = os.path.join(model_save_dir, 'doge_lstm.h5')\n",
    "# Create LSTM model training configuration params for Dogecoin\n",
    "doge_train_config = dict(epochs=40,\n",
    "                        batch_size=32,\n",
    "                        validation_split=0.15,\n",
    "                        verbose=0,\n",
    "                        save_fname=doge_model_save_fname\n",
    "                       )\n",
    "doge_train_config"
   ]
  },
  {
   "cell_type": "code",
   "execution_count": 44,
   "id": "29b15564",
   "metadata": {},
   "outputs": [
    {
     "name": "stdout",
     "output_type": "stream",
     "text": [
      "Model Training started for instance 1\n",
      "Model Training started for instance 2\n",
      "Model Training started for instance 3\n",
      "Model Training started for instance 4\n",
      "Model Training started for instance 5\n",
      "Model Training started for instance 6\n",
      "Model Training started for instance 7\n",
      "Model Training started for instance 8\n",
      "Model Training started for instance 9\n",
      "Model Training started for instance 10\n"
     ]
    }
   ],
   "source": [
    "doge_sw_results = []\n",
    "\n",
    "for i in range(training_runs):\n",
    "    # Instantiate model class\n",
    "    doge_lstm_model = Model()\n",
    "    # Build model\n",
    "    doge_lstm_model.build_model(doge_model_config)\n",
    "    print('Model Training started for instance {}'.format(i+1))\n",
    "    # Train model\n",
    "    doge_lstm_model.train(doge_train_X, doge_train_y, doge_train_config)\n",
    "    # Evaluate model\n",
    "    doge_predictions, doge_seq_metrics = evaluate_model(doge_lstm_model, doge_test_X, doge_test_y, total_len, prediction_len)\n",
    "    # Append results\n",
    "    doge_sw_results.append(doge_seq_metrics)"
   ]
  },
  {
   "cell_type": "code",
   "execution_count": 49,
   "id": "01f94a7c",
   "metadata": {},
   "outputs": [
    {
     "name": "stdout",
     "output_type": "stream",
     "text": [
      "Dogecoin Standard Scaling Window Baseline Metrics MDA: 0.512, MASE: 4.66, Tau: 0.36.\n"
     ]
    }
   ],
   "source": [
    "doge_base_sw_mda = mean_metric_seq_results(doge_sw_results, 'mda')\n",
    "doge_base_sw_mase = mean_metric_seq_results(doge_sw_results, 'mase')\n",
    "doge_base_sw_tau = mean_tau_seq_stat_sig(doge_sw_results, alpha)\n",
    "print('Dogecoin Standard Scaling Window Baseline Metrics MDA: {:.3}, MASE: {:.3}, Tau: {:.3}.'.\\\n",
    "format(doge_base_sw_mda, doge_base_sw_mase, doge_base_sw_tau))"
   ]
  },
  {
   "cell_type": "code",
   "execution_count": 50,
   "id": "c6b549bb",
   "metadata": {},
   "outputs": [
    {
     "name": "stdout",
     "output_type": "stream",
     "text": [
      "Model Training started for instance 1\n",
      "Model Training started for instance 2\n",
      "Model Training started for instance 3\n",
      "Model Training started for instance 4\n",
      "Model Training started for instance 5\n",
      "Model Training started for instance 6\n",
      "Model Training started for instance 7\n",
      "Model Training started for instance 8\n",
      "Model Training started for instance 9\n",
      "Model Training started for instance 10\n"
     ]
    }
   ],
   "source": [
    "doge_pw_results = []\n",
    "\n",
    "# Create train/test data for doge\n",
    "doge_train_X, doge_train_y = create_timeseries_data(doge_train_scaled_pw, target_col, input_len)\n",
    "doge_test_X, doge_test_y = create_timeseries_data(doge_test_scaled_pw, target_col, input_len)\n",
    "\n",
    "for i in range(training_runs):\n",
    "    # Instantiate model class\n",
    "    doge_lstm_model = Model()\n",
    "    # Build model\n",
    "    doge_lstm_model.build_model(doge_model_config)\n",
    "    print('Model Training started for instance {}'.format(i+1))\n",
    "    # Train model\n",
    "    doge_lstm_model.train(doge_train_X, doge_train_y, doge_train_config)\n",
    "    # Evaluate model\n",
    "    doge_predictions, doge_seq_metrics = evaluate_model(doge_lstm_model, doge_test_X, doge_test_y, total_len, prediction_len)\n",
    "    # Append results\n",
    "    doge_pw_results.append(doge_seq_metrics)"
   ]
  },
  {
   "cell_type": "code",
   "execution_count": 51,
   "id": "07046e0c",
   "metadata": {},
   "outputs": [
    {
     "name": "stdout",
     "output_type": "stream",
     "text": [
      "Dogecoin % Change Scaling Window Baseline Metrics MDA: 0.522, MASE: 8.01, Tau: 0.31.\n"
     ]
    }
   ],
   "source": [
    "doge_base_pw_mda = mean_metric_seq_results(doge_pw_results, 'mda')\n",
    "doge_base_pw_mase = mean_metric_seq_results(doge_pw_results, 'mase')\n",
    "doge_base_pw_tau = mean_tau_seq_stat_sig(doge_pw_results, alpha)\n",
    "print('Dogecoin % Change Scaling Window Baseline Metrics MDA: {:.3}, MASE: {:.3}, Tau: {:.3}.'.\\\n",
    "format(doge_base_pw_mda, doge_base_pw_mase, doge_base_pw_tau))"
   ]
  },
  {
   "cell_type": "markdown",
   "id": "ef30ac95",
   "metadata": {},
   "source": [
    "Standard scaling window is clearly the better method of Dogecoin.  This was also observed earlier in the distribution of the scaled data.  For Bitcoin, the difference between the 2 methods is pretty minimal and varies depending on the random nature of the model training process.  I will utilize Standard scaling windows moving forward."
   ]
  },
  {
   "cell_type": "markdown",
   "id": "73c09390",
   "metadata": {},
   "source": [
    "### 4.1.2 Multi-Dimensional LSTM Model"
   ]
  },
  {
   "cell_type": "markdown",
   "id": "800f15e9",
   "metadata": {},
   "source": [
    "I have over 100 features so instead of using all in a multi-dimensional model I will train a model with each incrementally added to `close` and then evaluate if the feature improves from the baseline one-dimensional model.  I will then select the features for each Bitcoin and Dogecoin model."
   ]
  },
  {
   "cell_type": "code",
   "execution_count": 53,
   "id": "80e67a42",
   "metadata": {},
   "outputs": [
    {
     "data": {
      "text/plain": [
       "['high',\n",
       " 'low',\n",
       " 'volume',\n",
       " 'market_cap',\n",
       " 'url_shares',\n",
       " 'unique_url_shares',\n",
       " 'tweets',\n",
       " 'tweet_spam',\n",
       " 'tweet_followers',\n",
       " 'tweet_quotes',\n",
       " 'tweet_retweets',\n",
       " 'tweet_replies',\n",
       " 'tweet_favorites',\n",
       " 'tweet_sentiment1',\n",
       " 'tweet_sentiment2',\n",
       " 'tweet_sentiment3',\n",
       " 'tweet_sentiment4',\n",
       " 'tweet_sentiment5',\n",
       " 'tweet_sentiment_impact1',\n",
       " 'tweet_sentiment_impact2',\n",
       " 'tweet_sentiment_impact3',\n",
       " 'tweet_sentiment_impact4',\n",
       " 'tweet_sentiment_impact5',\n",
       " 'social_score',\n",
       " 'average_sentiment',\n",
       " 'sentiment_relative',\n",
       " 'news',\n",
       " 'price_score',\n",
       " 'social_impact_score',\n",
       " 'correlation_rank',\n",
       " 'galaxy_score',\n",
       " 'volatility',\n",
       " 'alt_rank',\n",
       " 'alt_rank_30d',\n",
       " 'market_cap_rank',\n",
       " 'percent_change_24h_rank',\n",
       " 'volume_24h_rank',\n",
       " 'social_volume_24h_rank',\n",
       " 'social_score_24h_rank',\n",
       " 'medium',\n",
       " 'youtube',\n",
       " 'social_contributors',\n",
       " 'social_volume',\n",
       " 'social_volume_global',\n",
       " 'percent_change_24h',\n",
       " 'market_cap_global',\n",
       " 'market_dominance',\n",
       " 'adx',\n",
       " 'cci',\n",
       " 'cmo',\n",
       " 'dx',\n",
       " 'roc',\n",
       " 'rsi',\n",
       " 'willr',\n",
       " 'atr',\n",
       " 'corr',\n",
       " 'linreg',\n",
       " 'slope',\n",
       " 'stdev',\n",
       " 'var',\n",
       " 'tsf',\n",
       " 'bband_upper',\n",
       " 'bband_middle',\n",
       " 'bband_lower',\n",
       " 'bband_relative',\n",
       " 'apo',\n",
       " 'macd',\n",
       " 'macdsignal',\n",
       " 'macdhist',\n",
       " 'ppo',\n",
       " 'tweet_sentiment_bullish',\n",
       " 'tweet_sentiment_bearish',\n",
       " 'tweet_sentiment_net',\n",
       " 'tweet_sentiment_impact_bullish',\n",
       " 'tweet_sentiment_impact_bearish',\n",
       " 'tweet_sentiment_impact_net',\n",
       " 'tweets_mean',\n",
       " 'tweet_followers_mean',\n",
       " 'tweet_sentiment_impact_net_mean',\n",
       " 'news_mean',\n",
       " 'volatility_mean',\n",
       " 'social_volume_global_mean',\n",
       " 'tweet_sentiment1_stdev',\n",
       " 'tweet_sentiment_impact_bearish_stdev',\n",
       " 'market_dominance_stdev',\n",
       " 'market_cap_global_pct_change']"
      ]
     },
     "execution_count": 53,
     "metadata": {},
     "output_type": "execute_result"
    }
   ],
   "source": [
    "btc_search_cols = list(btc.drop(['asset_id', 'time', 'open', 'close', 'name', 'symbol', 'price_btc',\n",
    "                             'close_end_1d', 'close_percent_change_1d', 'close_end_7d', 'close_min_7d', \n",
    "                             'close_max_7d', 'close_loss_7d', 'close_gain_7d', 'close_change_7d', \n",
    "                             'close_percent_change_7d', 'decision','color','angle', 'intercept']\n",
    "                            , axis=1).columns)\n",
    "btc_search_cols"
   ]
  },
  {
   "cell_type": "code",
   "execution_count": 56,
   "id": "eb68b170",
   "metadata": {},
   "outputs": [
    {
     "name": "stdout",
     "output_type": "stream",
     "text": [
      "Model Training started for high\n",
      "Model Training started for low\n",
      "Model Training started for volume\n",
      "Model Training started for market_cap\n",
      "Model Training started for url_shares\n",
      "Model Training started for unique_url_shares\n",
      "Model Training started for tweets\n",
      "Model Training started for tweet_spam\n",
      "Model Training started for tweet_followers\n",
      "Model Training started for tweet_quotes\n",
      "Model Training started for tweet_retweets\n",
      "Model Training started for tweet_replies\n",
      "Model Training started for tweet_favorites\n",
      "Model Training started for tweet_sentiment1\n",
      "Model Training started for tweet_sentiment2\n",
      "Model Training started for tweet_sentiment3\n",
      "Model Training started for tweet_sentiment4\n",
      "Model Training started for tweet_sentiment5\n",
      "Model Training started for tweet_sentiment_impact1\n",
      "Model Training started for tweet_sentiment_impact2\n",
      "Model Training started for tweet_sentiment_impact3\n",
      "Model Training started for tweet_sentiment_impact4\n",
      "Model Training started for tweet_sentiment_impact5\n",
      "Model Training started for social_score\n",
      "Model Training started for average_sentiment\n",
      "Model Training started for sentiment_relative\n",
      "Model Training started for news\n",
      "Model Training started for price_score\n",
      "Model Training started for social_impact_score\n",
      "Model Training started for correlation_rank\n",
      "Model Training started for galaxy_score\n",
      "Model Training started for volatility\n",
      "Model Training started for alt_rank\n",
      "Model Training started for alt_rank_30d\n",
      "Model Training started for market_cap_rank\n",
      "Model Training started for percent_change_24h_rank\n",
      "Model Training started for volume_24h_rank\n",
      "Model Training started for social_volume_24h_rank\n",
      "Model Training started for social_score_24h_rank\n",
      "Model Training started for medium\n",
      "Model Training started for youtube\n",
      "Model Training started for social_contributors\n",
      "Model Training started for social_volume\n",
      "Model Training started for social_volume_global\n",
      "Model Training started for percent_change_24h\n",
      "Model Training started for market_cap_global\n",
      "Model Training started for market_dominance\n",
      "Model Training started for adx\n",
      "Model Training started for cci\n",
      "Model Training started for cmo\n",
      "Model Training started for dx\n",
      "Model Training started for roc\n",
      "Model Training started for rsi\n",
      "Model Training started for willr\n",
      "Model Training started for atr\n",
      "Model Training started for corr\n",
      "Model Training started for linreg\n",
      "Model Training started for slope\n",
      "Model Training started for stdev\n",
      "Model Training started for var\n",
      "Model Training started for tsf\n",
      "Model Training started for bband_upper\n",
      "Model Training started for bband_middle\n",
      "Model Training started for bband_lower\n",
      "Model Training started for bband_relative\n",
      "Model Training started for apo\n",
      "Model Training started for macd\n",
      "Model Training started for macdsignal\n",
      "Model Training started for macdhist\n",
      "Model Training started for ppo\n",
      "Model Training started for tweet_sentiment_bullish\n",
      "Model Training started for tweet_sentiment_bearish\n",
      "Model Training started for tweet_sentiment_net\n",
      "Model Training started for tweet_sentiment_impact_bullish\n",
      "Model Training started for tweet_sentiment_impact_bearish\n",
      "Model Training started for tweet_sentiment_impact_net\n",
      "Model Training started for tweets_mean\n",
      "Model Training started for tweet_followers_mean\n",
      "Model Training started for tweet_sentiment_impact_net_mean\n",
      "Model Training started for news_mean\n",
      "Model Training started for volatility_mean\n",
      "Model Training started for social_volume_global_mean\n",
      "Model Training started for tweet_sentiment1_stdev\n",
      "Model Training started for tweet_sentiment_impact_bearish_stdev\n",
      "Model Training started for market_dominance_stdev\n",
      "Model Training started for market_cap_global_pct_change\n"
     ]
    }
   ],
   "source": [
    "btc_search_results = {}\n",
    "\n",
    "for col in btc_search_cols:\n",
    "    cols = [*[target_col], *[col]]\n",
    "    # Scale data based on new cols list\n",
    "    btc_data, btc_train_scaled, btc_test_scaled, btc_scaler = data_preprocessing_standardize(standard_scaler, btc, cols,\n",
    "                                                                                         test_periods, total_len)\n",
    "    # Create train/test datasets\n",
    "    btc_train_X, btc_train_y = create_timeseries_data(btc_train_scaled, target_col, input_len)\n",
    "    btc_test_X, btc_test_y = create_timeseries_data(btc_test_scaled, target_col, input_len)\n",
    "    \n",
    "    btc_model_config = update_model_input_dim(lstm_config, btc_train_X.shape)\n",
    "    \n",
    "    # Set verbose to off since training many models\n",
    "    btc_train_config['verbose'] = 0\n",
    "        \n",
    "    # Instantiate model class\n",
    "    btc_lstm_model = Model()\n",
    "\n",
    "    # Build model\n",
    "    btc_lstm_model.build_model(btc_model_config)\n",
    "\n",
    "    print('Model Training started for {}'.format(col))\n",
    "    btc_lstm_model.train(btc_train_X, btc_train_y, btc_train_config)\n",
    "    \n",
    "    btc_predictions, btc_seq_metrics = evaluate_model(btc_lstm_model, btc_test_X, btc_test_y, total_len, prediction_len)\n",
    "\n",
    "    mda = mean_metric_results(btc_seq_metrics, 'mda')\n",
    "    mase = mean_metric_results(btc_seq_metrics, 'mase')\n",
    "    tau = mean_tau_stat_sig(btc_seq_metrics, alpha)\n",
    "    # Save results\n",
    "    btc_search_results[col] = {'mda': mda, 'mase': mase, 'tau': tau}"
   ]
  },
  {
   "cell_type": "code",
   "execution_count": 81,
   "id": "0cd20289",
   "metadata": {},
   "outputs": [
    {
     "data": {
      "text/html": [
       "<div>\n",
       "<style scoped>\n",
       "    .dataframe tbody tr th:only-of-type {\n",
       "        vertical-align: middle;\n",
       "    }\n",
       "\n",
       "    .dataframe tbody tr th {\n",
       "        vertical-align: top;\n",
       "    }\n",
       "\n",
       "    .dataframe thead th {\n",
       "        text-align: right;\n",
       "    }\n",
       "</style>\n",
       "<table border=\"1\" class=\"dataframe\">\n",
       "  <thead>\n",
       "    <tr style=\"text-align: right;\">\n",
       "      <th></th>\n",
       "      <th>mda</th>\n",
       "      <th>mase</th>\n",
       "      <th>tau</th>\n",
       "    </tr>\n",
       "  </thead>\n",
       "  <tbody>\n",
       "    <tr>\n",
       "      <th>url_shares</th>\n",
       "      <td>0.516667</td>\n",
       "      <td>1.679318</td>\n",
       "      <td>0.3</td>\n",
       "    </tr>\n",
       "    <tr>\n",
       "      <th>volatility_mean</th>\n",
       "      <td>0.516667</td>\n",
       "      <td>1.697191</td>\n",
       "      <td>0.3</td>\n",
       "    </tr>\n",
       "    <tr>\n",
       "      <th>social_score</th>\n",
       "      <td>0.483333</td>\n",
       "      <td>1.722989</td>\n",
       "      <td>0.3</td>\n",
       "    </tr>\n",
       "    <tr>\n",
       "      <th>market_dominance_stdev</th>\n",
       "      <td>0.700000</td>\n",
       "      <td>1.729009</td>\n",
       "      <td>0.3</td>\n",
       "    </tr>\n",
       "    <tr>\n",
       "      <th>social_score_24h_rank</th>\n",
       "      <td>0.700000</td>\n",
       "      <td>1.738831</td>\n",
       "      <td>0.4</td>\n",
       "    </tr>\n",
       "    <tr>\n",
       "      <th>...</th>\n",
       "      <td>...</td>\n",
       "      <td>...</td>\n",
       "      <td>...</td>\n",
       "    </tr>\n",
       "    <tr>\n",
       "      <th>adx</th>\n",
       "      <td>0.450000</td>\n",
       "      <td>2.492133</td>\n",
       "      <td>0.3</td>\n",
       "    </tr>\n",
       "    <tr>\n",
       "      <th>tweet_sentiment_impact_net_mean</th>\n",
       "      <td>0.383333</td>\n",
       "      <td>2.558156</td>\n",
       "      <td>0.4</td>\n",
       "    </tr>\n",
       "    <tr>\n",
       "      <th>social_volume_24h_rank</th>\n",
       "      <td>0.500000</td>\n",
       "      <td>2.586472</td>\n",
       "      <td>0.3</td>\n",
       "    </tr>\n",
       "    <tr>\n",
       "      <th>social_volume_global_mean</th>\n",
       "      <td>0.500000</td>\n",
       "      <td>2.604846</td>\n",
       "      <td>0.3</td>\n",
       "    </tr>\n",
       "    <tr>\n",
       "      <th>tweet_sentiment_impact3</th>\n",
       "      <td>0.416667</td>\n",
       "      <td>2.643089</td>\n",
       "      <td>0.3</td>\n",
       "    </tr>\n",
       "  </tbody>\n",
       "</table>\n",
       "<p>62 rows × 3 columns</p>\n",
       "</div>"
      ],
      "text/plain": [
       "                                      mda      mase  tau\n",
       "url_shares                       0.516667  1.679318  0.3\n",
       "volatility_mean                  0.516667  1.697191  0.3\n",
       "social_score                     0.483333  1.722989  0.3\n",
       "market_dominance_stdev           0.700000  1.729009  0.3\n",
       "social_score_24h_rank            0.700000  1.738831  0.4\n",
       "...                                   ...       ...  ...\n",
       "adx                              0.450000  2.492133  0.3\n",
       "tweet_sentiment_impact_net_mean  0.383333  2.558156  0.4\n",
       "social_volume_24h_rank           0.500000  2.586472  0.3\n",
       "social_volume_global_mean        0.500000  2.604846  0.3\n",
       "tweet_sentiment_impact3          0.416667  2.643089  0.3\n",
       "\n",
       "[62 rows x 3 columns]"
      ]
     },
     "execution_count": 81,
     "metadata": {},
     "output_type": "execute_result"
    }
   ],
   "source": [
    "btc_search_results_df = pd.DataFrame(btc_search_results).T\n",
    "\n",
    "btc_search_results_df[(btc_search_results_df['mda'] > btc_base_sw_mda) |\n",
    "                     (btc_search_results_df['mase'] < btc_base_sw_mase) |\n",
    "                      (btc_search_results_df['tau'] > btc_base_sw_tau)\n",
    "                     ].sort_values(by='mase', ascending=True)"
   ]
  },
  {
   "cell_type": "code",
   "execution_count": 85,
   "id": "9b512dbd",
   "metadata": {},
   "outputs": [
    {
     "data": {
      "text/html": [
       "<div>\n",
       "<style scoped>\n",
       "    .dataframe tbody tr th:only-of-type {\n",
       "        vertical-align: middle;\n",
       "    }\n",
       "\n",
       "    .dataframe tbody tr th {\n",
       "        vertical-align: top;\n",
       "    }\n",
       "\n",
       "    .dataframe thead th {\n",
       "        text-align: right;\n",
       "    }\n",
       "</style>\n",
       "<table border=\"1\" class=\"dataframe\">\n",
       "  <thead>\n",
       "    <tr style=\"text-align: right;\">\n",
       "      <th></th>\n",
       "      <th>mda</th>\n",
       "      <th>mase</th>\n",
       "      <th>tau</th>\n",
       "    </tr>\n",
       "  </thead>\n",
       "  <tbody>\n",
       "    <tr>\n",
       "      <th>social_score_24h_rank</th>\n",
       "      <td>0.700000</td>\n",
       "      <td>1.738831</td>\n",
       "      <td>0.4</td>\n",
       "    </tr>\n",
       "    <tr>\n",
       "      <th>market_dominance_stdev</th>\n",
       "      <td>0.700000</td>\n",
       "      <td>1.729009</td>\n",
       "      <td>0.3</td>\n",
       "    </tr>\n",
       "    <tr>\n",
       "      <th>tweet_sentiment_impact_bearish</th>\n",
       "      <td>0.650000</td>\n",
       "      <td>1.895168</td>\n",
       "      <td>0.4</td>\n",
       "    </tr>\n",
       "    <tr>\n",
       "      <th>social_contributors</th>\n",
       "      <td>0.633333</td>\n",
       "      <td>1.823228</td>\n",
       "      <td>0.3</td>\n",
       "    </tr>\n",
       "    <tr>\n",
       "      <th>tsf</th>\n",
       "      <td>0.633333</td>\n",
       "      <td>1.857496</td>\n",
       "      <td>0.4</td>\n",
       "    </tr>\n",
       "    <tr>\n",
       "      <th>...</th>\n",
       "      <td>...</td>\n",
       "      <td>...</td>\n",
       "      <td>...</td>\n",
       "    </tr>\n",
       "    <tr>\n",
       "      <th>sentiment_relative</th>\n",
       "      <td>0.416667</td>\n",
       "      <td>2.610911</td>\n",
       "      <td>0.2</td>\n",
       "    </tr>\n",
       "    <tr>\n",
       "      <th>tweet_sentiment_impact_net_mean</th>\n",
       "      <td>0.383333</td>\n",
       "      <td>2.558156</td>\n",
       "      <td>0.4</td>\n",
       "    </tr>\n",
       "    <tr>\n",
       "      <th>bband_relative</th>\n",
       "      <td>0.383333</td>\n",
       "      <td>2.111388</td>\n",
       "      <td>0.2</td>\n",
       "    </tr>\n",
       "    <tr>\n",
       "      <th>tweet_replies</th>\n",
       "      <td>0.366667</td>\n",
       "      <td>2.570590</td>\n",
       "      <td>0.1</td>\n",
       "    </tr>\n",
       "    <tr>\n",
       "      <th>dx</th>\n",
       "      <td>0.350000</td>\n",
       "      <td>2.246615</td>\n",
       "      <td>0.3</td>\n",
       "    </tr>\n",
       "  </tbody>\n",
       "</table>\n",
       "<p>86 rows × 3 columns</p>\n",
       "</div>"
      ],
      "text/plain": [
       "                                      mda      mase  tau\n",
       "social_score_24h_rank            0.700000  1.738831  0.4\n",
       "market_dominance_stdev           0.700000  1.729009  0.3\n",
       "tweet_sentiment_impact_bearish   0.650000  1.895168  0.4\n",
       "social_contributors              0.633333  1.823228  0.3\n",
       "tsf                              0.633333  1.857496  0.4\n",
       "...                                   ...       ...  ...\n",
       "sentiment_relative               0.416667  2.610911  0.2\n",
       "tweet_sentiment_impact_net_mean  0.383333  2.558156  0.4\n",
       "bband_relative                   0.383333  2.111388  0.2\n",
       "tweet_replies                    0.366667  2.570590  0.1\n",
       "dx                               0.350000  2.246615  0.3\n",
       "\n",
       "[86 rows x 3 columns]"
      ]
     },
     "execution_count": 85,
     "metadata": {},
     "output_type": "execute_result"
    }
   ],
   "source": [
    "btc_search_results_df.sort_values(by='mda', ascending=False)"
   ]
  },
  {
   "cell_type": "code",
   "execution_count": 88,
   "id": "2ffaf5e5",
   "metadata": {},
   "outputs": [
    {
     "name": "stdout",
     "output_type": "stream",
     "text": [
      "Epoch 1/40\n",
      "15/15 [==============================] - 7s 190ms/step - loss: 0.6978 - val_loss: 0.7587\n",
      "Epoch 2/40\n",
      "15/15 [==============================] - 2s 129ms/step - loss: 0.5627 - val_loss: 0.7773\n",
      "Epoch 3/40\n",
      "15/15 [==============================] - 3s 174ms/step - loss: 0.5306 - val_loss: 0.6431\n",
      "Epoch 4/40\n",
      "15/15 [==============================] - 2s 151ms/step - loss: 0.5197 - val_loss: 0.5820\n",
      "Epoch 5/40\n",
      "15/15 [==============================] - 3s 168ms/step - loss: 0.4821 - val_loss: 0.6041\n",
      "Epoch 6/40\n",
      "15/15 [==============================] - 2s 128ms/step - loss: 0.4659 - val_loss: 0.5538\n",
      "Epoch 7/40\n",
      "15/15 [==============================] - 2s 126ms/step - loss: 0.4532 - val_loss: 0.5248\n",
      "Epoch 8/40\n",
      "15/15 [==============================] - 2s 147ms/step - loss: 0.4495 - val_loss: 0.5509\n",
      "Epoch 9/40\n",
      "15/15 [==============================] - 2s 147ms/step - loss: 0.4346 - val_loss: 0.4965\n",
      "Epoch 10/40\n",
      "15/15 [==============================] - 2s 127ms/step - loss: 0.4178 - val_loss: 0.5512\n",
      "Epoch 11/40\n",
      "15/15 [==============================] - 2s 123ms/step - loss: 0.4014 - val_loss: 0.4834\n",
      "Epoch 12/40\n",
      "15/15 [==============================] - 2s 125ms/step - loss: 0.3923 - val_loss: 0.4515\n",
      "Epoch 13/40\n",
      "15/15 [==============================] - 2s 125ms/step - loss: 0.3958 - val_loss: 0.3911\n",
      "Epoch 14/40\n",
      "15/15 [==============================] - 2s 121ms/step - loss: 0.3610 - val_loss: 0.4454\n",
      "Epoch 15/40\n",
      "15/15 [==============================] - 2s 124ms/step - loss: 0.3871 - val_loss: 0.4375\n",
      "Epoch 16/40\n",
      "15/15 [==============================] - 2s 130ms/step - loss: 0.3457 - val_loss: 0.4003\n"
     ]
    },
    {
     "data": {
      "image/png": "[encoded data removed]",
      "text/plain": [
       "<Figure size 720x360 with 1 Axes>"
      ]
     },
     "metadata": {
      "needs_background": "light"
     },
     "output_type": "display_data"
    }
   ],
   "source": [
    "btc_cols = ['tweet_sentiment_impact_bearish']\n",
    "\n",
    "cols = [*[target_col], * btc_cols]\n",
    "# Scale data based on new cols list\n",
    "btc_data, btc_train_scaled, btc_test_scaled, btc_scaler = data_preprocessing_standardize(standard_scaler, btc, cols,\n",
    "                                                                                     test_periods, total_len)\n",
    "# Create train/test datasets\n",
    "btc_train_X, btc_train_y = create_timeseries_data(btc_train_scaled, target_col, input_len)\n",
    "btc_test_X, btc_test_y = create_timeseries_data(btc_test_scaled, target_col, input_len)\n",
    "\n",
    "btc_model_config = update_model_input_dim(lstm_config, btc_train_X.shape)\n",
    "\n",
    "# Set verbose to on\n",
    "btc_train_config['verbose'] = 1\n",
    "\n",
    "# Instantiate model class\n",
    "btc_lstm_model = Model()\n",
    "\n",
    "# Build model\n",
    "btc_lstm_model.build_model(btc_model_config)\n",
    "\n",
    "btc_lstm_model.train(btc_train_X, btc_train_y, btc_train_config)\n",
    "\n",
    "btc_predictions, btc_seq_metrics = evaluate_model(btc_lstm_model, btc_test_X, btc_test_y, total_len, prediction_len)\n",
    "\n",
    "btc_mda = mean_metric_results(btc_seq_metrics, 'mda')\n",
    "btc_mase = mean_metric_results(btc_seq_metrics, 'mase')\n",
    "btc_tau = mean_tau_stat_sig(btc_seq_metrics, alpha)\n",
    "\n",
    "title = 'Bitcoin Multi-Dimensional LSTM Model MDA: {:.3}, MASE: {:.3}, Tau: {:.3}'.format(btc_mda, \n",
    "                                                                                        btc_mase,\n",
    "                                                                                        btc_tau)\n",
    "plot_results_multiple(btc_predictions, btc_test_y, prediction_len, seq_metric, alpha, title)"
   ]
  },
  {
   "cell_type": "code",
   "execution_count": null,
   "id": "865ab7a8",
   "metadata": {},
   "outputs": [],
   "source": [
    "# doge_search_results = {}\n",
    "# for col in search_cols:\n",
    "#     cols = [*[target_col], *[col]]\n",
    "#     doge_data, doge_train_scaled, doge_test_scaled, doge_scaler = data_preprocessing_standardize(standard_scaler, doge, cols,\n",
    "#                                                                                          test_periods, total_len)\n",
    "#     doge_train_X, doge_train_y = create_timeseries_data(doge_train_scaled, target_col, input_len)\n",
    "#     doge_test_X, doge_test_y = create_timeseries_data(doge_test_scaled, target_col, input_len)\n",
    "    \n",
    "#     doge_model_config = update_model_input_dim(lstm_config, doge_train_X.shape)\n",
    "    \n",
    "#     # Set verbose to off since training many models\n",
    "#     doge_train_config['verbose'] = 0\n",
    "        \n",
    "#     # Instantiate model class\n",
    "#     doge_lstm_model = Model()\n",
    "\n",
    "#     # Build model\n",
    "#     doge_lstm_model.build_model(doge_model_config)\n",
    "\n",
    "#     doge_lstm_model.train(doge_train_X, doge_train_y, doge_train_config)\n",
    "    \n",
    "#     doge_predictions, doge_seq_metrics = evaluate_model(doge_lstm_model, doge_test_X, doge_test_y, total_len, prediction_len)\n",
    "\n",
    "#     doge_search_results[col] = doge_seq_metrics"
   ]
  },
  {
   "cell_type": "code",
   "execution_count": 89,
   "id": "e8fe42ca",
   "metadata": {},
   "outputs": [
    {
     "name": "stdout",
     "output_type": "stream",
     "text": [
      "Epoch 1/40\n",
      "15/15 [==============================] - 8s 311ms/step - loss: 0.7624 - val_loss: 0.7488\n",
      "Epoch 2/40\n",
      "15/15 [==============================] - 2s 140ms/step - loss: 0.7084 - val_loss: 0.7004\n",
      "Epoch 3/40\n",
      "15/15 [==============================] - 2s 132ms/step - loss: 0.6656 - val_loss: 0.5946\n",
      "Epoch 4/40\n",
      "15/15 [==============================] - 2s 133ms/step - loss: 0.6228 - val_loss: 0.5414\n",
      "Epoch 5/40\n",
      "15/15 [==============================] - 2s 129ms/step - loss: 0.5891 - val_loss: 0.4780\n",
      "Epoch 6/40\n",
      "15/15 [==============================] - 2s 129ms/step - loss: 0.5448 - val_loss: 0.4651\n",
      "Epoch 7/40\n",
      "15/15 [==============================] - 2s 134ms/step - loss: 0.4998 - val_loss: 0.4391\n",
      "Epoch 8/40\n",
      "15/15 [==============================] - 2s 130ms/step - loss: 0.4852 - val_loss: 0.4574\n",
      "Epoch 9/40\n",
      "15/15 [==============================] - 2s 133ms/step - loss: 0.4751 - val_loss: 0.4354\n",
      "Epoch 10/40\n",
      "15/15 [==============================] - 2s 133ms/step - loss: 0.4574 - val_loss: 0.4066\n",
      "Epoch 11/40\n",
      "15/15 [==============================] - 2s 142ms/step - loss: 0.4373 - val_loss: 0.3961\n",
      "Epoch 12/40\n",
      "15/15 [==============================] - 2s 130ms/step - loss: 0.4328 - val_loss: 0.4180\n",
      "Epoch 13/40\n",
      "15/15 [==============================] - 2s 134ms/step - loss: 0.4143 - val_loss: 0.3911\n",
      "Epoch 14/40\n",
      "15/15 [==============================] - 2s 133ms/step - loss: 0.4128 - val_loss: 0.3990\n",
      "Epoch 15/40\n",
      "15/15 [==============================] - 2s 130ms/step - loss: 0.4175 - val_loss: 0.4006\n",
      "Epoch 16/40\n",
      "15/15 [==============================] - 2s 135ms/step - loss: 0.4263 - val_loss: 0.4110\n"
     ]
    },
    {
     "data": {
      "image/png": "[encoded data removed]",
      "text/plain": [
       "<Figure size 720x360 with 1 Axes>"
      ]
     },
     "metadata": {
      "needs_background": "light"
     },
     "output_type": "display_data"
    }
   ],
   "source": [
    "doge_cols = ['close_btc']\n",
    "\n",
    "cols = [*[target_col], * doge_cols]\n",
    "# Scale data based on new cols list\n",
    "doge_data, doge_train_scaled, doge_test_scaled, doge_scaler = data_preprocessing_standardize(standard_scaler, doge, cols,\n",
    "                                                                                     test_periods, total_len)\n",
    "# Create train/test datasets\n",
    "doge_train_X, doge_train_y = create_timeseries_data(doge_train_scaled, target_col, input_len)\n",
    "doge_test_X, doge_test_y = create_timeseries_data(doge_test_scaled, target_col, input_len)\n",
    "\n",
    "doge_model_config = update_model_input_dim(lstm_config, doge_train_X.shape)\n",
    "\n",
    "# Set verbose to on\n",
    "doge_train_config['verbose'] = 1\n",
    "\n",
    "# Instantiate model class\n",
    "doge_lstm_model = Model()\n",
    "\n",
    "# Build model\n",
    "doge_lstm_model.build_model(doge_model_config)\n",
    "\n",
    "doge_lstm_model.train(doge_train_X, doge_train_y, doge_train_config)\n",
    "\n",
    "doge_predictions, doge_seq_metrics = evaluate_model(doge_lstm_model, doge_test_X, doge_test_y, total_len, prediction_len)\n",
    "\n",
    "doge_mda = mean_metric_results(doge_seq_metrics, 'mda')\n",
    "doge_mase = mean_metric_results(doge_seq_metrics, 'mase')\n",
    "doge_tau = mean_tau_stat_sig(doge_seq_metrics, alpha)\n",
    "\n",
    "title = 'Dogecoin Multi-Dimensional LSTM Model MDA: {:.3}, MASE: {:.3}, Tau: {:.3}'.format(doge_mda, \n",
    "                                                                                        doge_mase,\n",
    "                                                                                        doge_tau)\n",
    "plot_results_multiple(doge_predictions, doge_test_y, prediction_len, seq_metric, alpha, title)"
   ]
  },
  {
   "cell_type": "code",
   "execution_count": 103,
   "id": "694663b3",
   "metadata": {},
   "outputs": [
    {
     "data": {
      "text/plain": [
       "array([1.0562931 , 0.94333382, 1.09708239, 1.17907947, 1.05043107,\n",
       "       0.89528677, 0.858069  ])"
      ]
     },
     "execution_count": 103,
     "metadata": {},
     "output_type": "execute_result"
    }
   ],
   "source": [
    "doge_test_y[14:21]"
   ]
  },
  {
   "cell_type": "code",
   "execution_count": 104,
   "id": "61b277e7",
   "metadata": {},
   "outputs": [
    {
     "data": {
      "text/plain": [
       "[0.90893376,\n",
       " 0.8335141,\n",
       " 0.7127556,\n",
       " 0.56666315,\n",
       " 0.4085372,\n",
       " 0.24714254,\n",
       " 0.08839409]"
      ]
     },
     "execution_count": 104,
     "metadata": {},
     "output_type": "execute_result"
    }
   ],
   "source": [
    "doge_predictions[2]"
   ]
  },
  {
   "cell_type": "code",
   "execution_count": 97,
   "id": "18aec260",
   "metadata": {},
   "outputs": [
    {
     "ename": "TypeError",
     "evalue": "'numpy.float64' object is not callable",
     "output_type": "error",
     "traceback": [
      "\u001b[1;31m---------------------------------------------------------------------------\u001b[0m",
      "\u001b[1;31mTypeError\u001b[0m                                 Traceback (most recent call last)",
      "\u001b[1;32m<ipython-input-97-a736855e63bd>\u001b[0m in \u001b[0;36m<module>\u001b[1;34m\u001b[0m\n\u001b[1;32m----> 1\u001b[1;33m \u001b[0mmda\u001b[0m\u001b[1;33m(\u001b[0m\u001b[0mdoge_test_y\u001b[0m\u001b[1;33m[\u001b[0m\u001b[1;36m7\u001b[0m\u001b[1;33m:\u001b[0m\u001b[1;36m14\u001b[0m\u001b[1;33m]\u001b[0m\u001b[1;33m,\u001b[0m \u001b[0mdoge_predictions\u001b[0m\u001b[1;33m[\u001b[0m\u001b[1;36m1\u001b[0m\u001b[1;33m]\u001b[0m\u001b[1;33m)\u001b[0m\u001b[1;33m\u001b[0m\u001b[1;33m\u001b[0m\u001b[0m\n\u001b[0m",
      "\u001b[1;31mTypeError\u001b[0m: 'numpy.float64' object is not callable"
     ]
    }
   ],
   "source": [
    "mda(doge_test_y[7:14], doge_predictions[1])"
   ]
  },
  {
   "cell_type": "code",
   "execution_count": 90,
   "id": "aa3cc256",
   "metadata": {},
   "outputs": [
    {
     "data": {
      "text/plain": [
       "{'mda': [0.3333333333333333,\n",
       "  0.6666666666666666,\n",
       "  0.6666666666666666,\n",
       "  0.5,\n",
       "  0.6666666666666666,\n",
       "  0.5,\n",
       "  0.8333333333333334,\n",
       "  0.5,\n",
       "  0.16666666666666666,\n",
       "  0.8333333333333334],\n",
       " 'mae': [1.6045269,\n",
       "  0.35688442,\n",
       "  0.47337642,\n",
       "  0.44022658,\n",
       "  0.5869747,\n",
       "  0.25142792,\n",
       "  0.15299225,\n",
       "  0.1406659,\n",
       "  0.33254346,\n",
       "  0.2168343],\n",
       " 'mase': [3.136469,\n",
       "  1.6275717,\n",
       "  4.2409935,\n",
       "  0.8733287,\n",
       "  3.950186,\n",
       "  2.1063836,\n",
       "  1.6386529,\n",
       "  1.0320994,\n",
       "  10.850637,\n",
       "  4.894289],\n",
       " 'kendalltau': [(-0.6190476190476191, 0.06904761904761905),\n",
       "  (0.6190476190476191, 0.06904761904761905),\n",
       "  (0.4285714285714286, 0.2388888888888889),\n",
       "  (0.4285714285714286, 0.2388888888888889),\n",
       "  (-0.04761904761904762, 1.0),\n",
       "  (0.6190476190476191, 0.06904761904761905),\n",
       "  (0.9047619047619049, 0.002777777777777778),\n",
       "  (-0.33333333333333337, 0.3813492063492063),\n",
       "  (-0.8095238095238096, 0.010714285714285714),\n",
       "  (0.7142857142857143, 0.03015873015873016)]}"
      ]
     },
     "execution_count": 90,
     "metadata": {},
     "output_type": "execute_result"
    }
   ],
   "source": [
    "doge_seq_metrics"
   ]
  },
  {
   "cell_type": "markdown",
   "id": "b0182d4c",
   "metadata": {},
   "source": [
    "# SAVED CODE BELOW"
   ]
  },
  {
   "cell_type": "code",
   "execution_count": 93,
   "id": "e972d461",
   "metadata": {},
   "outputs": [
    {
     "data": {
      "image/png": "[encoded data removed]",
      "text/plain": [
       "<Figure size 720x360 with 1 Axes>"
      ]
     },
     "metadata": {
      "needs_background": "light"
     },
     "output_type": "display_data"
    }
   ],
   "source": [
    "plot_results(np.array(doge_predictions).flatten(), doge_test_y)"
   ]
  },
  {
   "cell_type": "code",
   "execution_count": null,
   "id": "a7c297dd",
   "metadata": {},
   "outputs": [],
   "source": []
  },
  {
   "cell_type": "code",
   "execution_count": null,
   "id": "df2a9bd1",
   "metadata": {},
   "outputs": [],
   "source": [
    "from tensorflow.keras import preprocessing\n",
    "\n",
    "def create_timeseries_data(df, target_col, sequence_length, batch_size):    \n",
    "    ts_data = preprocessing.timeseries_dataset_from_array(\n",
    "    # Select all columns and all rows up to the sequence length\n",
    "    df.values[:-sequence_length,:],\n",
    "    # Target data with sequence length offset\n",
    "    df[target_col].values[sequence_length:],\n",
    "    sequence_length=sequence_length,\n",
    "    batch_size=batch_size\n",
    "    )\n",
    "    return ts_data"
   ]
  },
  {
   "cell_type": "code",
   "execution_count": null,
   "id": "20d98661",
   "metadata": {},
   "outputs": [],
   "source": [
    "def create_univariate_timeseries_data(df, sequence_length):\n",
    "    y = df[sequence_length:]\n",
    "    data = df.values.reshape(-1, 1)\n",
    "    n = data.shape[0]\n",
    "    X = np.hstack(tuple([data[i: n-j, :] for i, j in enumerate(range(sequence_length, 0, -1))]))\n",
    "    return X.reshape(-1, sequence_length, 1), y.values"
   ]
  },
  {
   "cell_type": "code",
   "execution_count": null,
   "id": "92e18673",
   "metadata": {},
   "outputs": [],
   "source": [
    "def create_multivariate_timeseries_data(df, sequence_length):\n",
    "    y = df[target_col][sequence_length:]\n",
    "    n = df.shape[0]\n",
    "    X = np.stack([df[i: j] for i, j in enumerate(range(sequence_length, n))], axis=0)\n",
    "    return X, y.values"
   ]
  },
  {
   "cell_type": "code",
   "execution_count": null,
   "id": "bab42aa2",
   "metadata": {},
   "outputs": [],
   "source": [
    "from kats.models.lstm import LSTMModel, LSTMParams\n",
    "\n",
    "params = LSTMParams(hidden_size=5, time_window=30, num_epochs=35)\n",
    "m = LSTMModel(btc_ts, params)\n",
    "m.fit()"
   ]
  },
  {
   "cell_type": "code",
   "execution_count": null,
   "id": "79df36b4",
   "metadata": {},
   "outputs": [],
   "source": [
    "fcst = m.predict(steps=7)\n",
    "m.plot()\n",
    "plt.show()"
   ]
  }
 ],
 "metadata": {
  "kernelspec": {
   "display_name": "Python 3",
   "language": "python",
   "name": "python3"
  },
  "language_info": {
   "codemirror_mode": {
    "name": "ipython",
    "version": 3
   },
   "file_extension": ".py",
   "mimetype": "text/x-python",
   "name": "python",
   "nbconvert_exporter": "python",
   "pygments_lexer": "ipython3",
   "version": "3.8.11"
  }
 },
 "nbformat": 4,
 "nbformat_minor": 5
}
