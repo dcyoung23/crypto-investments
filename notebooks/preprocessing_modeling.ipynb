{
 "cells": [
  {
   "cell_type": "markdown",
   "id": "29320283",
   "metadata": {},
   "source": [
    "# Cryptocurrency Investments Trend and Decision Modeling"
   ]
  },
  {
   "cell_type": "markdown",
   "id": "f9058b7d",
   "metadata": {},
   "source": [
    "# Problem Statement"
   ]
  },
  {
   "cell_type": "markdown",
   "id": "6a309167",
   "metadata": {},
   "source": [
    "What opportunities exist as an individual investor to achieve a total return of at least 5% on all short-term cryptocurrency investments held less than 30 days by utilizing technical analysis, blockchain and social media metrics for price predictions?"
   ]
  },
  {
   "cell_type": "markdown",
   "id": "04d0412b",
   "metadata": {},
   "source": [
    "# Context"
   ]
  },
  {
   "cell_type": "markdown",
   "id": "2beb6554",
   "metadata": {},
   "source": [
    "Cryptocurrency coins are digital assets designed to work as a medium of exchange where ownership records are transactions are stored in a blockchain ledger using strong cryptography.  Cryptocurrencies typically use decentralized control as opposed to centralized digital currency and central banking systems.  Bitcoin was the first decentralized cryptocurrency formed in 2009 and per coinlore.com there are 5976 active coins trading today.\n",
    "\n",
    "I was first introduced to cryptocurrencies by a former co-worker in 2017.  If I would have purchased 1 bitcoin in January 2017 for approximately $1000 it would be worth 36K as of today.  Honestly, I did not take it very serious at that time and I still prefer not to invest my life savings in cryptocurrencies.  However, I’m optimistic decentralized currencies have a future in our world so I’m going to use short-term profits to gain in USD but hold some coins for long term benefits.\n"
   ]
  },
  {
   "cell_type": "markdown",
   "id": "70c1717b",
   "metadata": {},
   "source": [
    "# 3 Preprocessing<a id='3_preprocessing'></a>"
   ]
  },
  {
   "cell_type": "code",
   "execution_count": 1,
   "id": "394b0196",
   "metadata": {},
   "outputs": [],
   "source": [
    "# Import external libraries\n",
    "import os\n",
    "import sys\n",
    "import json\n",
    "import time\n",
    "import math\n",
    "from datetime import datetime\n",
    "import numpy as np\n",
    "import scipy.stats as stats\n",
    "import pandas as pd\n",
    "import matplotlib as mpl\n",
    "import matplotlib.pyplot as plt\n",
    "import seaborn as sns\n",
    "%matplotlib inline\n",
    "\n",
    "# Ignore warnings for clean output in notebook\n",
    "import warnings\n",
    "warnings.filterwarnings('ignore')"
   ]
  },
  {
   "cell_type": "code",
   "execution_count": 2,
   "id": "e10ffc9b",
   "metadata": {},
   "outputs": [],
   "source": [
    "# Import local libraries\n",
    "sys.path.append('..') # Add parent folder for local library imports\n",
    "\n",
    "# Feature creation functions\n",
    "from src.features.make_features import *\n",
    "# Helper functions\n",
    "from src.utils.helpers import *\n",
    "# Visualization functions\n",
    "from src.visuals.make_plots import *\n",
    "\n",
    "# Load the \"autoreload\" extension so that code can change\n",
    "%load_ext autoreload\n",
    "#%reload_ext autoreload\n",
    "\n",
    "# Always reload modules so that as you change code in src, it gets loaded\n",
    "%autoreload 2"
   ]
  },
  {
   "cell_type": "markdown",
   "id": "453f1dc4",
   "metadata": {},
   "source": [
    "## 3.1 Load Data"
   ]
  },
  {
   "cell_type": "code",
   "execution_count": 3,
   "id": "fab1e9cb",
   "metadata": {},
   "outputs": [],
   "source": [
    "# Directory references\n",
    "data_interim_dir = r'..\\data\\interim'\n",
    "data_final_dir = r'..\\data\\final'\n",
    "model_save_dir = r'..\\models'"
   ]
  },
  {
   "cell_type": "code",
   "execution_count": 4,
   "id": "bb2422a3",
   "metadata": {},
   "outputs": [
    {
     "name": "stdout",
     "output_type": "stream",
     "text": [
      "<class 'pandas.core.frame.DataFrame'>\n",
      "DatetimeIndex: 718 entries, 2019-08-20 to 2021-08-06\n",
      "Data columns (total 65 columns):\n",
      " #   Column                   Non-Null Count  Dtype  \n",
      "---  ------                   --------------  -----  \n",
      " 0   asset_id                 718 non-null    int64  \n",
      " 1   time                     718 non-null    int64  \n",
      " 2   open                     718 non-null    float64\n",
      " 3   close                    718 non-null    float64\n",
      " 4   high                     718 non-null    float64\n",
      " 5   low                      718 non-null    float64\n",
      " 6   volume                   718 non-null    float64\n",
      " 7   market_cap               696 non-null    float64\n",
      " 8   url_shares               710 non-null    float64\n",
      " 9   unique_url_shares        710 non-null    float64\n",
      " 10  tweets                   710 non-null    float64\n",
      " 11  tweet_spam               710 non-null    float64\n",
      " 12  tweet_followers          698 non-null    float64\n",
      " 13  tweet_quotes             698 non-null    float64\n",
      " 14  tweet_retweets           698 non-null    float64\n",
      " 15  tweet_replies            698 non-null    float64\n",
      " 16  tweet_favorites          698 non-null    float64\n",
      " 17  tweet_sentiment1         710 non-null    float64\n",
      " 18  tweet_sentiment2         710 non-null    float64\n",
      " 19  tweet_sentiment3         710 non-null    float64\n",
      " 20  tweet_sentiment4         710 non-null    float64\n",
      " 21  tweet_sentiment5         710 non-null    float64\n",
      " 22  tweet_sentiment_impact1  710 non-null    float64\n",
      " 23  tweet_sentiment_impact2  710 non-null    float64\n",
      " 24  tweet_sentiment_impact3  710 non-null    float64\n",
      " 25  tweet_sentiment_impact4  710 non-null    float64\n",
      " 26  tweet_sentiment_impact5  710 non-null    float64\n",
      " 27  social_score             710 non-null    float64\n",
      " 28  average_sentiment        710 non-null    float64\n",
      " 29  sentiment_relative       698 non-null    float64\n",
      " 30  news                     718 non-null    float64\n",
      " 31  price_score              697 non-null    float64\n",
      " 32  social_impact_score      697 non-null    float64\n",
      " 33  correlation_rank         697 non-null    float64\n",
      " 34  galaxy_score             697 non-null    float64\n",
      " 35  volatility               709 non-null    float64\n",
      " 36  alt_rank                 687 non-null    float64\n",
      " 37  alt_rank_30d             687 non-null    float64\n",
      " 38  market_cap_rank          682 non-null    float64\n",
      " 39  percent_change_24h_rank  669 non-null    float64\n",
      " 40  volume_24h_rank          669 non-null    float64\n",
      " 41  social_volume_24h_rank   669 non-null    float64\n",
      " 42  social_score_24h_rank    669 non-null    float64\n",
      " 43  medium                   718 non-null    float64\n",
      " 44  youtube                  718 non-null    float64\n",
      " 45  social_contributors      718 non-null    int64  \n",
      " 46  social_volume            718 non-null    int64  \n",
      " 47  price_btc                718 non-null    int64  \n",
      " 48  social_volume_global     718 non-null    float64\n",
      " 49  percent_change_24h       718 non-null    float64\n",
      " 50  market_cap_global        696 non-null    float64\n",
      " 51  market_dominance         696 non-null    float64\n",
      " 52  name                     718 non-null    object \n",
      " 53  symbol                   718 non-null    object \n",
      " 54  close_end_1d             717 non-null    float64\n",
      " 55  close_percent_change_1d  717 non-null    float64\n",
      " 56  close_end_7d             711 non-null    float64\n",
      " 57  close_min_7d             718 non-null    float64\n",
      " 58  close_max_7d             718 non-null    float64\n",
      " 59  close_loss_7d            718 non-null    float64\n",
      " 60  close_gain_7d            718 non-null    float64\n",
      " 61  close_change_7d          711 non-null    float64\n",
      " 62  close_percent_change_7d  711 non-null    float64\n",
      " 63  decision                 711 non-null    object \n",
      " 64  color                    711 non-null    object \n",
      "dtypes: float64(56), int64(5), object(4)\n",
      "memory usage: 370.2+ KB\n"
     ]
    }
   ],
   "source": [
    "# Read in Bitcoin data from interim data directory\n",
    "btc = pd.read_csv(os.path.join(data_interim_dir, 'btc.csv'), parse_dates=['date'])\n",
    "btc = btc.set_index('date')\n",
    "btc.info()"
   ]
  },
  {
   "cell_type": "code",
   "execution_count": 5,
   "id": "5881cd21",
   "metadata": {},
   "outputs": [
    {
     "name": "stdout",
     "output_type": "stream",
     "text": [
      "<class 'pandas.core.frame.DataFrame'>\n",
      "DatetimeIndex: 718 entries, 2019-08-20 to 2021-08-06\n",
      "Data columns (total 66 columns):\n",
      " #   Column                   Non-Null Count  Dtype  \n",
      "---  ------                   --------------  -----  \n",
      " 0   asset_id                 718 non-null    int64  \n",
      " 1   time                     718 non-null    int64  \n",
      " 2   open                     718 non-null    float64\n",
      " 3   close                    718 non-null    float64\n",
      " 4   high                     718 non-null    float64\n",
      " 5   low                      718 non-null    float64\n",
      " 6   volume                   718 non-null    float64\n",
      " 7   market_cap               696 non-null    float64\n",
      " 8   url_shares               704 non-null    float64\n",
      " 9   unique_url_shares        704 non-null    float64\n",
      " 10  tweets                   710 non-null    float64\n",
      " 11  tweet_spam               710 non-null    float64\n",
      " 12  tweet_followers          698 non-null    float64\n",
      " 13  tweet_quotes             698 non-null    float64\n",
      " 14  tweet_retweets           698 non-null    float64\n",
      " 15  tweet_replies            698 non-null    float64\n",
      " 16  tweet_favorites          698 non-null    float64\n",
      " 17  tweet_sentiment1         708 non-null    float64\n",
      " 18  tweet_sentiment2         710 non-null    float64\n",
      " 19  tweet_sentiment3         710 non-null    float64\n",
      " 20  tweet_sentiment4         710 non-null    float64\n",
      " 21  tweet_sentiment5         710 non-null    float64\n",
      " 22  tweet_sentiment_impact1  708 non-null    float64\n",
      " 23  tweet_sentiment_impact2  710 non-null    float64\n",
      " 24  tweet_sentiment_impact3  710 non-null    float64\n",
      " 25  tweet_sentiment_impact4  710 non-null    float64\n",
      " 26  tweet_sentiment_impact5  710 non-null    float64\n",
      " 27  social_score             710 non-null    float64\n",
      " 28  average_sentiment        710 non-null    float64\n",
      " 29  sentiment_relative       698 non-null    float64\n",
      " 30  news                     718 non-null    float64\n",
      " 31  price_score              697 non-null    float64\n",
      " 32  social_impact_score      697 non-null    float64\n",
      " 33  correlation_rank         697 non-null    float64\n",
      " 34  galaxy_score             697 non-null    float64\n",
      " 35  volatility               709 non-null    float64\n",
      " 36  alt_rank                 687 non-null    float64\n",
      " 37  alt_rank_30d             687 non-null    float64\n",
      " 38  market_cap_rank          682 non-null    float64\n",
      " 39  percent_change_24h_rank  669 non-null    float64\n",
      " 40  volume_24h_rank          669 non-null    float64\n",
      " 41  social_volume_24h_rank   669 non-null    float64\n",
      " 42  social_score_24h_rank    669 non-null    float64\n",
      " 43  medium                   718 non-null    float64\n",
      " 44  youtube                  718 non-null    float64\n",
      " 45  social_contributors      718 non-null    int64  \n",
      " 46  social_volume            718 non-null    int64  \n",
      " 47  price_btc                718 non-null    float64\n",
      " 48  social_volume_global     718 non-null    int64  \n",
      " 49  percent_change_24h       718 non-null    float64\n",
      " 50  market_cap_global        696 non-null    float64\n",
      " 51  market_dominance         696 non-null    float64\n",
      " 52  name                     718 non-null    object \n",
      " 53  symbol                   718 non-null    object \n",
      " 54  close_end_1d             717 non-null    float64\n",
      " 55  close_percent_change_1d  717 non-null    float64\n",
      " 56  close_end_7d             711 non-null    float64\n",
      " 57  close_min_7d             718 non-null    float64\n",
      " 58  close_max_7d             718 non-null    float64\n",
      " 59  close_loss_7d            718 non-null    float64\n",
      " 60  close_gain_7d            718 non-null    float64\n",
      " 61  close_change_7d          711 non-null    float64\n",
      " 62  close_percent_change_7d  711 non-null    float64\n",
      " 63  decision                 711 non-null    object \n",
      " 64  color                    711 non-null    object \n",
      " 65  close_btc                718 non-null    float64\n",
      "dtypes: float64(57), int64(5), object(4)\n",
      "memory usage: 375.8+ KB\n"
     ]
    }
   ],
   "source": [
    "# Read in Dogecoin data from interim data directory\n",
    "doge = pd.read_csv(os.path.join(data_interim_dir, 'doge.csv'), parse_dates=['date'])\n",
    "doge = doge.set_index('date')\n",
    "# Add in Bitcoin close price\n",
    "doge['close_btc'] = btc['close']\n",
    "doge.info()"
   ]
  },
  {
   "cell_type": "markdown",
   "id": "69a4a71b",
   "metadata": {},
   "source": [
    "# 3.2 Feature Engineering"
   ]
  },
  {
   "cell_type": "markdown",
   "id": "503f9844",
   "metadata": {},
   "source": [
    "In this section I will add in some custom time period merics for designated columns based on observations in the EDA phase."
   ]
  },
  {
   "cell_type": "markdown",
   "id": "1264f4b6",
   "metadata": {},
   "source": [
    "###### Bitcoin"
   ]
  },
  {
   "cell_type": "code",
   "execution_count": 6,
   "id": "9c4f980d",
   "metadata": {},
   "outputs": [],
   "source": [
    "# Add technical anaysis single period metrics\n",
    "btc = create_single_tp_metrics(btc, 14)\n",
    "# Add technical analysis multi-period metrics\n",
    "btc = create_multi_tp_metrics(btc, 12, 26, 9)\n",
    "# Custom social transformations\n",
    "custom_transform = [(['tweets', 'tweet_followers', 'tweet_sentiment_impact_net'], 'mean', 20),\n",
    "                    (['news', 'volatility', 'social_volume_global'], 'mean', 14),\n",
    "                    (['tweet_sentiment1', 'tweet_sentiment_impact_bearish'], 'stdev', 7),\n",
    "                    (['market_dominance'], 'stdev', 14),\n",
    "                   (['market_cap_global'], 'pct_change', 20)\n",
    "                   ]\n",
    "# Add social metrics\n",
    "btc = create_social_metrics(btc, custom_transform)\n",
    "\n",
    "# Save data to final data directory\n",
    "btc.to_csv(os.path.join(data_final_dir, 'btc.csv'))"
   ]
  },
  {
   "cell_type": "markdown",
   "id": "b5f7fa91",
   "metadata": {},
   "source": [
    "###### Dogecoin"
   ]
  },
  {
   "cell_type": "code",
   "execution_count": 7,
   "id": "1242bcaa",
   "metadata": {},
   "outputs": [],
   "source": [
    "# Add technical anaysis single period metrics\n",
    "doge = create_single_tp_metrics(doge, 14)\n",
    "# Add technical analysis multi-period metrics\n",
    "doge = create_multi_tp_metrics(doge, 12, 26, 9)\n",
    "# Custom social transformations\n",
    "custom_transform = [(['tweets', 'tweet_followers', 'tweet_sentiment_impact_net'], 'mean', 20),\n",
    "                    (['news', 'volatility', 'social_volume_global'], 'mean', 14),\n",
    "                    (['tweet_sentiment1', 'tweet_sentiment_impact_bearish'], 'stdev', 7),\n",
    "                    (['market_dominance'], 'stdev', 14),\n",
    "                   (['market_cap_global'], 'pct_change', 20)\n",
    "                   ]\n",
    "# Add social metrics\n",
    "doge = create_social_metrics(doge, custom_transform)\n",
    "\n",
    "# Save data to final data directory\n",
    "doge.to_csv(os.path.join(data_final_dir, 'doge.csv'))"
   ]
  },
  {
   "cell_type": "markdown",
   "id": "087b2415",
   "metadata": {},
   "source": [
    "# 3.3 Preprocessing"
   ]
  },
  {
   "cell_type": "markdown",
   "id": "b4ca67c0",
   "metadata": {},
   "source": [
    "In this section I'm defining several key variables.  I will be making price predictions 1 day ahead for a total sequence of 7 days.  The total sequence length is 50 days.  This is a somewhat arbitrary choice and can be evaluated further later in the project."
   ]
  },
  {
   "cell_type": "code",
   "execution_count": 8,
   "id": "caa352cf",
   "metadata": {},
   "outputs": [],
   "source": [
    "# Define the number timesteps that will be used for the validation and test datasets based on the prediction sequence_length\n",
    "target_col = 'close'\n",
    "target_offset = 1\n",
    "input_len = 49\n",
    "total_len = input_len + target_offset\n",
    "prediction_len = 7\n",
    "test_periods = prediction_len * 10 + total_len"
   ]
  },
  {
   "cell_type": "markdown",
   "id": "595bde47",
   "metadata": {},
   "source": [
    "### 3.3.1 Normalization Methods"
   ]
  },
  {
   "cell_type": "markdown",
   "id": "b379308a",
   "metadata": {},
   "source": [
    "In this section I will create functions to perform preprocessing on the dataset and split into train, validation and test sets.  The preprocessing techniques that I will evaluate are:\n",
    "\n",
    "1. Min-Max normalization (globally across entire dataset)\n",
    "2. Standardization by removing the mean and scaling to unit variance (globally and across a defined window)\n",
    "3. % Change normalization (globally and across a defined window)"
   ]
  },
  {
   "cell_type": "markdown",
   "id": "20159104",
   "metadata": {},
   "source": [
    "Let's first visualize the distribution of the output data for the one dimensional dataset for each preprocessing methods"
   ]
  },
  {
   "cell_type": "code",
   "execution_count": 9,
   "id": "dc18907f",
   "metadata": {},
   "outputs": [
    {
     "data": {
      "image/png": "[encoded data removed]",
      "text/plain": [
       "<Figure size 1080x360 with 2 Axes>"
      ]
     },
     "metadata": {
      "needs_background": "light"
     },
     "output_type": "display_data"
    }
   ],
   "source": [
    "from sklearn.preprocessing import MinMaxScaler\n",
    "minmax_scaler = MinMaxScaler()\n",
    "\n",
    "cols = [target_col]\n",
    "btc_data, btc_train_scaled_mm, btc_test_scaled_mm, btc_scaler_mm = data_preprocessing_scaling(minmax_scaler, btc, \n",
    "                                                                                     cols, test_periods)\n",
    "doge_data, doge_train_scaled_mm, doge_test_scaled_mm, doge_scaler_mm = data_preprocessing_scaling(minmax_scaler, doge, \n",
    "                                                                                         cols, test_periods)\n",
    "\n",
    "normalization_hist_plot((btc_train_scaled_mm, 'Bitcoin'), \n",
    "                        (doge_train_scaled_mm, 'Dogecoin'), 'Min-Max Global Scaling')"
   ]
  },
  {
   "cell_type": "code",
   "execution_count": 10,
   "id": "fbe814b9",
   "metadata": {},
   "outputs": [
    {
     "data": {
      "image/png": "[encoded data removed]",
      "text/plain": [
       "<Figure size 1080x360 with 2 Axes>"
      ]
     },
     "metadata": {
      "needs_background": "light"
     },
     "output_type": "display_data"
    }
   ],
   "source": [
    "from sklearn.preprocessing import StandardScaler\n",
    "standard_scaler = StandardScaler()\n",
    "\n",
    "btc_data, btc_train_scaled_sg, btc_test_scaled_sg, btc_scaler_sg = data_preprocessing_standardize(standard_scaler, btc, cols,\n",
    "                                                                                         test_periods, -1)\n",
    "\n",
    "doge_data, doge_train_scaled_sg, doge_test_scaled_sg, doge_scaler_sg = data_preprocessing_standardize(standard_scaler, doge, cols,\n",
    "                                                                                         test_periods, -1)\n",
    "\n",
    "normalization_hist_plot((btc_train_scaled_sg, 'Bitcoin'), \n",
    "                        (doge_train_scaled_sg, 'Dogecoin'), 'Standard Global Scaling')"
   ]
  },
  {
   "cell_type": "code",
   "execution_count": 11,
   "id": "6bedbc0c",
   "metadata": {},
   "outputs": [
    {
     "data": {
      "image/png": "[encoded data removed]",
      "text/plain": [
       "<Figure size 1080x360 with 2 Axes>"
      ]
     },
     "metadata": {
      "needs_background": "light"
     },
     "output_type": "display_data"
    }
   ],
   "source": [
    "btc_data, btc_train_scaled_sw, btc_test_scaled_sw, btc_scaler_sw = data_preprocessing_standardize(standard_scaler, btc, cols,\n",
    "                                                                                         test_periods, total_len)\n",
    "\n",
    "doge_data, doge_train_scaled_sw, doge_test_scaled_sw, doge_scaler_sw = data_preprocessing_standardize(standard_scaler, doge, cols,\n",
    "                                                                                         test_periods, total_len)\n",
    "\n",
    "normalization_hist_plot((btc_train_scaled_sw, 'Bitcoin'), \n",
    "                        (doge_train_scaled_sw, 'Dogecoin'), 'Standard Window Scaling')"
   ]
  },
  {
   "cell_type": "code",
   "execution_count": 12,
   "id": "92e9f00e",
   "metadata": {},
   "outputs": [
    {
     "data": {
      "image/png": "[encoded data removed]",
      "text/plain": [
       "<Figure size 1080x360 with 2 Axes>"
      ]
     },
     "metadata": {
      "needs_background": "light"
     },
     "output_type": "display_data"
    }
   ],
   "source": [
    "btc_data, btc_train_scaled_pg, btc_test_scaled_pg = data_preprocessing_pct_change(btc, cols, test_periods, -1)\n",
    "\n",
    "doge_data, doge_train_scaled_pg, doge_test_scaled_pg = data_preprocessing_pct_change(doge, cols, test_periods, -1)\n",
    "\n",
    "normalization_hist_plot((btc_train_scaled_pg, 'Bitcoin'), \n",
    "                        (doge_train_scaled_pg, 'Dogecoin'), '% Change Global Scaling')"
   ]
  },
  {
   "cell_type": "code",
   "execution_count": 13,
   "id": "4722cd4f",
   "metadata": {},
   "outputs": [
    {
     "data": {
      "image/png": "[encoded data removed]",
      "text/plain": [
       "<Figure size 1080x360 with 2 Axes>"
      ]
     },
     "metadata": {
      "needs_background": "light"
     },
     "output_type": "display_data"
    }
   ],
   "source": [
    "btc_data, btc_train_scaled_pw, btc_test_scaled_pw = data_preprocessing_pct_change(btc, cols, test_periods, total_len)\n",
    "\n",
    "doge_data, doge_train_scaled_pw, doge_test_scaled_pw = data_preprocessing_pct_change(doge, cols, test_periods, total_len)\n",
    "\n",
    "normalization_hist_plot((btc_train_scaled_pw, 'Bitcoin'), \n",
    "                        (doge_train_scaled_pw, 'Dogecoin'), '% Change Window Scaling')"
   ]
  },
  {
   "cell_type": "markdown",
   "id": "db14411b",
   "metadata": {},
   "source": [
    "Standard window scaling normalizes the data the best for both coins.  % Change window scaling normalizes the data very well for Bitcoin but since Dogecoin did not really have large changes in price until 2021 this scaling method is not as effective for Dogecoin."
   ]
  },
  {
   "cell_type": "markdown",
   "id": "0fa8c0a1",
   "metadata": {},
   "source": [
    "# 4 Modeling<a id='4_modeling'></a>"
   ]
  },
  {
   "cell_type": "markdown",
   "id": "70efafd0",
   "metadata": {},
   "source": [
    "## 4.1 Sequence Modeling"
   ]
  },
  {
   "cell_type": "markdown",
   "id": "56626e53",
   "metadata": {},
   "source": [
    "The first modeling task for this project is to utilize a Long short-term memory (LSTM) recurrent neural network to make sequence predictions for a future sequence of time steps.  In this case I'm focusing on the ending daily `close` price for each coin.  I'm not as concerned with being able to accurately predict the future `close` price but to be able to identify the directional trend.\n",
    "\n",
    "In the first stage I will create several one dimensional LSTM models for Bitcoin and Dogecoin to determine the most effective normalization method.\n",
    "\n",
    "The 4 evaluation metrics I will be using are:\n",
    "\n",
    "1. `mean directional accuracy` - MDA utilizes the change in value (positive or negative) and averages if the predictions had the same directional change.  Higher is better.\n",
    "2. `mean absolute error` - MAE averages the absolute value of the prediction error.  I will use this as the loss metric in the model.  Lower is better.\n",
    "3. `mean absolute scaled error` - MASE uses MAE but scales the result by dividing by the MAE of actual data and a shifted forward naive forecast.  This metric will be scale invariant and allow me to compare the normalization methods across models.  Lower is better.\n",
    "4. `accuracy` - This will be a sequence accuracy metric using a custom evaluation metric based on directional trend analysis.  The objective is to be able to predict the correct directional change while also being able to identify large % increase or decreases."
   ]
  },
  {
   "cell_type": "markdown",
   "id": "934d6f74",
   "metadata": {},
   "source": [
    "### 4.1.1 One Dimensional LSTM Model"
   ]
  },
  {
   "cell_type": "markdown",
   "id": "b7b5ced4",
   "metadata": {},
   "source": [
    "##### Bitcoin"
   ]
  },
  {
   "cell_type": "markdown",
   "id": "00219a00",
   "metadata": {},
   "source": [
    "Set some default configurations for the LSTM modeling process."
   ]
  },
  {
   "cell_type": "code",
   "execution_count": 14,
   "id": "3e9c22aa",
   "metadata": {},
   "outputs": [
    {
     "data": {
      "text/plain": [
       "{'model': {'loss': 'mae',\n",
       "  'optimizer': 'adam',\n",
       "  'layers': [{'type': 'lstm', 'neurons': 100, 'return_seq': True},\n",
       "   {'type': 'dropout', 'rate': 0.2},\n",
       "   {'type': 'lstm', 'neurons': 100, 'return_seq': True},\n",
       "   {'type': 'lstm', 'neurons': 100, 'return_seq': False},\n",
       "   {'type': 'dropout', 'rate': 0.2},\n",
       "   {'type': 'dense', 'neurons': 1, 'activation': 'linear'}]}}"
      ]
     },
     "execution_count": 14,
     "metadata": {},
     "output_type": "execute_result"
    }
   ],
   "source": [
    "# Load LSTM model configuration params\n",
    "lstm_config = json.load(open('lstm_config.json', 'r'))\n",
    "lstm_config"
   ]
  },
  {
   "cell_type": "code",
   "execution_count": 15,
   "id": "2b0661ca",
   "metadata": {},
   "outputs": [
    {
     "data": {
      "text/plain": [
       "{'epochs': 40,\n",
       " 'batch_size': 32,\n",
       " 'validation_split': 0.15,\n",
       " 'verbose': 1,\n",
       " 'patience': 3,\n",
       " 'model_checkpoint': True,\n",
       " 'save_fname': '..\\\\models\\\\btc_lstm.h5'}"
      ]
     },
     "execution_count": 15,
     "metadata": {},
     "output_type": "execute_result"
    }
   ],
   "source": [
    "btc_model_save_fname = os.path.join(model_save_dir, 'btc_lstm.h5')\n",
    "# Create LSTM model training configuration params for Bitcoin\n",
    "btc_train_config = dict(epochs=40,\n",
    "                        batch_size=32,\n",
    "                        validation_split=0.15,\n",
    "                        verbose=1,\n",
    "                        patience=3,\n",
    "                        model_checkpoint=True,\n",
    "                        save_fname=btc_model_save_fname\n",
    "                       )\n",
    "btc_train_config"
   ]
  },
  {
   "cell_type": "markdown",
   "id": "15bb3e9f",
   "metadata": {},
   "source": [
    "#### 4.1.1.1 MinMax Scaling Global"
   ]
  },
  {
   "cell_type": "code",
   "execution_count": 16,
   "id": "427edc15",
   "metadata": {},
   "outputs": [
    {
     "name": "stdout",
     "output_type": "stream",
     "text": [
      "Train data shape: (549, 49, 1)\n",
      "Test data shape: (71,)\n",
      "Epoch 1/40\n",
      "15/15 [==============================] - 10s 271ms/step - loss: 0.0383 - val_loss: 0.1757\n",
      "Epoch 2/40\n",
      "15/15 [==============================] - 2s 157ms/step - loss: 0.0213 - val_loss: 0.2370\n",
      "Epoch 3/40\n",
      "15/15 [==============================] - 2s 164ms/step - loss: 0.0163 - val_loss: 0.1855\n",
      "Epoch 4/40\n",
      "15/15 [==============================] - 2s 166ms/step - loss: 0.0160 - val_loss: 0.1997\n"
     ]
    }
   ],
   "source": [
    "from src.models.rnn_model import Model\n",
    "\n",
    "btc_train_X, btc_train_y = create_timeseries_data(btc_train_scaled_mm, target_col, input_len)\n",
    "btc_test_X, btc_test_y = create_timeseries_data(btc_test_scaled_mm, target_col, input_len)\n",
    "\n",
    "print('Train data shape:', btc_train_X.shape)\n",
    "print('Test data shape:', btc_test_y.shape)\n",
    "\n",
    "# The input_timesteps and dim will vary depending on the data so add this to the configs based on the data\n",
    "btc_model_config = update_model_input_dim(lstm_config, btc_train_X.shape)\n",
    "\n",
    "# Instantiate model class\n",
    "btc_lstm_model = Model()\n",
    "\n",
    "# Build model\n",
    "btc_lstm_model.build_model(btc_model_config)\n",
    "\n",
    "btc_lstm_model.train(btc_train_X, btc_train_y, btc_train_config)"
   ]
  },
  {
   "cell_type": "code",
   "execution_count": 17,
   "id": "93f27e41",
   "metadata": {},
   "outputs": [
    {
     "data": {
      "image/png": "[encoded data removed]",
      "text/plain": [
       "<Figure size 720x360 with 1 Axes>"
      ]
     },
     "metadata": {
      "needs_background": "light"
     },
     "output_type": "display_data"
    }
   ],
   "source": [
    "btc_predictions, btc_seq_metrics = evaluate_model(btc_lstm_model, btc_test_X, btc_test_y, total_len, prediction_len)\n",
    "\n",
    "# Capture baseline metrics for min-max scaler\n",
    "btc_base_mm_mda = mean_metric_results(btc_seq_metrics, 'mda')\n",
    "btc_base_mm_mase = mean_metric_results(btc_seq_metrics, 'mase')\n",
    "btc_base_mm_acc = mean_accuracy(btc_seq_metrics)\n",
    "\n",
    "title = 'Bitcoin Min-Max Scaling Global LSTM Model MDA: {:.3}, MASE: {:.3}, Accuracy: {:.3}'.format(btc_base_mm_mda, \n",
    "                                                                                                    btc_base_mm_mase, \n",
    "                                                                                                    btc_base_mm_acc)\n",
    "\n",
    "plot_results_multiple(btc_predictions, btc_test_y, prediction_len, title)"
   ]
  },
  {
   "cell_type": "markdown",
   "id": "3b8ff6b9",
   "metadata": {},
   "source": [
    "Performance is generally very poor using Min-Max scaling with the predictions being completely off the mark but the trend detection is correct on several sequences."
   ]
  },
  {
   "cell_type": "markdown",
   "id": "5e8de621",
   "metadata": {},
   "source": [
    "#### 4.1.1.2 Standard Scaler Global"
   ]
  },
  {
   "cell_type": "code",
   "execution_count": 18,
   "id": "3cde5eee",
   "metadata": {},
   "outputs": [
    {
     "name": "stdout",
     "output_type": "stream",
     "text": [
      "Train data shape: (549, 49, 1)\n",
      "Test data shape: (71,)\n",
      "Epoch 1/40\n",
      "15/15 [==============================] - 11s 270ms/step - loss: 0.2327 - val_loss: 0.8562\n",
      "Epoch 2/40\n",
      "15/15 [==============================] - 2s 162ms/step - loss: 0.1145 - val_loss: 0.4755\n",
      "Epoch 3/40\n",
      "15/15 [==============================] - 3s 172ms/step - loss: 0.0776 - val_loss: 0.6760\n",
      "Epoch 4/40\n",
      "15/15 [==============================] - 3s 173ms/step - loss: 0.0663 - val_loss: 0.3464\n",
      "Epoch 5/40\n",
      "15/15 [==============================] - 3s 179ms/step - loss: 0.0590 - val_loss: 0.3133\n",
      "Epoch 6/40\n",
      "15/15 [==============================] - 3s 171ms/step - loss: 0.0597 - val_loss: 0.3402\n",
      "Epoch 7/40\n",
      "15/15 [==============================] - 3s 176ms/step - loss: 0.0600 - val_loss: 0.3777\n",
      "Epoch 8/40\n",
      "15/15 [==============================] - 3s 176ms/step - loss: 0.0574 - val_loss: 0.3024\n",
      "Epoch 9/40\n",
      "15/15 [==============================] - 3s 176ms/step - loss: 0.0535 - val_loss: 0.3716\n",
      "Epoch 10/40\n",
      "15/15 [==============================] - 3s 171ms/step - loss: 0.0597 - val_loss: 0.3229\n",
      "Epoch 11/40\n",
      "15/15 [==============================] - 3s 170ms/step - loss: 0.0603 - val_loss: 0.4419\n"
     ]
    }
   ],
   "source": [
    "btc_train_X, btc_train_y = create_timeseries_data(btc_train_scaled_sg, target_col, input_len)\n",
    "btc_test_X, btc_test_y = create_timeseries_data(btc_test_scaled_sg, target_col, input_len)\n",
    "\n",
    "print('Train data shape:', btc_train_X.shape)\n",
    "print('Test data shape:', btc_test_y.shape)\n",
    "\n",
    "# Instantiate model class\n",
    "btc_lstm_model = Model()\n",
    "\n",
    "# Build model\n",
    "btc_lstm_model.build_model(btc_model_config)\n",
    "\n",
    "btc_lstm_model.train(btc_train_X, btc_train_y, btc_train_config)"
   ]
  },
  {
   "cell_type": "code",
   "execution_count": 19,
   "id": "7e84bc1a",
   "metadata": {},
   "outputs": [
    {
     "data": {
      "image/png": "[encoded data removed]",
      "text/plain": [
       "<Figure size 720x360 with 1 Axes>"
      ]
     },
     "metadata": {
      "needs_background": "light"
     },
     "output_type": "display_data"
    }
   ],
   "source": [
    "btc_predictions, btc_seq_metrics = evaluate_model(btc_lstm_model, btc_test_X, btc_test_y, total_len, prediction_len)\n",
    "\n",
    "btc_base_sg_mda = mean_metric_results(btc_seq_metrics, 'mda')\n",
    "btc_base_sg_mase = mean_metric_results(btc_seq_metrics, 'mase')\n",
    "btc_base_sg_acc = mean_accuracy(btc_seq_metrics)\n",
    "\n",
    "title = 'Bitcoin Standard Scaling Global LSTM Model MDA: {:.3}, MASE: {:.3}, Accuracy: {:.3}'.format(btc_base_sg_mda, \n",
    "                                                                                                     btc_base_sg_mase,\n",
    "                                                                                                     btc_base_sg_acc)\n",
    "plot_results_multiple(btc_predictions, btc_test_y, prediction_len, title)"
   ]
  },
  {
   "cell_type": "markdown",
   "id": "b5bce1e8",
   "metadata": {},
   "source": [
    "The predictions for standard scaling global are quite similar to Min-Max scaling."
   ]
  },
  {
   "cell_type": "markdown",
   "id": "aee89dbd",
   "metadata": {},
   "source": [
    "#### 4.1.1.3 Standard Scaler Window"
   ]
  },
  {
   "cell_type": "code",
   "execution_count": 20,
   "id": "e11ec4af",
   "metadata": {},
   "outputs": [
    {
     "name": "stdout",
     "output_type": "stream",
     "text": [
      "Train data shape: (549, 49, 1)\n",
      "Test data shape: (71,)\n",
      "Epoch 1/40\n",
      "15/15 [==============================] - 9s 261ms/step - loss: 0.7223 - val_loss: 0.7429\n",
      "Epoch 2/40\n",
      "15/15 [==============================] - 2s 161ms/step - loss: 0.6889 - val_loss: 0.7859\n",
      "Epoch 3/40\n",
      "15/15 [==============================] - 3s 180ms/step - loss: 0.6375 - val_loss: 0.6739\n",
      "Epoch 4/40\n",
      "15/15 [==============================] - 3s 176ms/step - loss: 0.5940 - val_loss: 0.6242\n",
      "Epoch 5/40\n",
      "15/15 [==============================] - 3s 174ms/step - loss: 0.5468 - val_loss: 0.5452\n",
      "Epoch 6/40\n",
      "15/15 [==============================] - 3s 178ms/step - loss: 0.5358 - val_loss: 0.5068\n",
      "Epoch 7/40\n",
      "15/15 [==============================] - 3s 200ms/step - loss: 0.5156 - val_loss: 0.5408\n",
      "Epoch 8/40\n",
      "15/15 [==============================] - 3s 196ms/step - loss: 0.4853 - val_loss: 0.4942\n",
      "Epoch 9/40\n",
      "15/15 [==============================] - 3s 177ms/step - loss: 0.4436 - val_loss: 0.4662\n",
      "Epoch 10/40\n",
      "15/15 [==============================] - 3s 179ms/step - loss: 0.4279 - val_loss: 0.4522\n",
      "Epoch 11/40\n",
      "15/15 [==============================] - 4s 273ms/step - loss: 0.4021 - val_loss: 0.4053\n",
      "Epoch 12/40\n",
      "15/15 [==============================] - 4s 256ms/step - loss: 0.4205 - val_loss: 0.4348\n",
      "Epoch 13/40\n",
      "15/15 [==============================] - 3s 229ms/step - loss: 0.3992 - val_loss: 0.3945\n",
      "Epoch 14/40\n",
      "15/15 [==============================] - 3s 202ms/step - loss: 0.3816 - val_loss: 0.3492\n",
      "Epoch 15/40\n",
      "15/15 [==============================] - 3s 180ms/step - loss: 0.3825 - val_loss: 0.3642\n",
      "Epoch 16/40\n",
      "15/15 [==============================] - 3s 180ms/step - loss: 0.3604 - val_loss: 0.3706\n",
      "Epoch 17/40\n",
      "15/15 [==============================] - 3s 181ms/step - loss: 0.3681 - val_loss: 0.3365\n",
      "Epoch 18/40\n",
      "15/15 [==============================] - 3s 181ms/step - loss: 0.3573 - val_loss: 0.3430\n",
      "Epoch 19/40\n",
      "15/15 [==============================] - 3s 190ms/step - loss: 0.3551 - val_loss: 0.3594\n",
      "Epoch 20/40\n",
      "15/15 [==============================] - 3s 182ms/step - loss: 0.3708 - val_loss: 0.3270\n",
      "Epoch 21/40\n",
      "15/15 [==============================] - 3s 178ms/step - loss: 0.3479 - val_loss: 0.3201\n",
      "Epoch 22/40\n",
      "15/15 [==============================] - 3s 177ms/step - loss: 0.3484 - val_loss: 0.3273\n",
      "Epoch 23/40\n",
      "15/15 [==============================] - 3s 177ms/step - loss: 0.3293 - val_loss: 0.3161\n",
      "Epoch 24/40\n",
      "15/15 [==============================] - 3s 178ms/step - loss: 0.3468 - val_loss: 0.3298\n",
      "Epoch 25/40\n",
      "15/15 [==============================] - 3s 189ms/step - loss: 0.3308 - val_loss: 0.3180\n",
      "Epoch 26/40\n",
      "15/15 [==============================] - 3s 182ms/step - loss: 0.3465 - val_loss: 0.3220\n"
     ]
    }
   ],
   "source": [
    "btc_train_X, btc_train_y = create_timeseries_data(btc_train_scaled_sw, target_col, input_len)\n",
    "btc_test_X, btc_test_y = create_timeseries_data(btc_test_scaled_sw, target_col, input_len)\n",
    "\n",
    "print('Train data shape:', btc_train_X.shape)\n",
    "print('Test data shape:', btc_test_y.shape)\n",
    "\n",
    "# Instantiate model class\n",
    "btc_lstm_model = Model()\n",
    "\n",
    "# Build model\n",
    "btc_lstm_model.build_model(btc_model_config)\n",
    "\n",
    "btc_lstm_model.train(btc_train_X, btc_train_y, btc_train_config)"
   ]
  },
  {
   "cell_type": "code",
   "execution_count": 21,
   "id": "a4e91e50",
   "metadata": {},
   "outputs": [
    {
     "data": {
      "image/png": "[encoded data removed]",
      "text/plain": [
       "<Figure size 720x360 with 1 Axes>"
      ]
     },
     "metadata": {
      "needs_background": "light"
     },
     "output_type": "display_data"
    }
   ],
   "source": [
    "btc_predictions, btc_seq_metrics = evaluate_model(btc_lstm_model, btc_test_X, btc_test_y, total_len, prediction_len)\n",
    "\n",
    "btc_base_sw_mda = mean_metric_results(btc_seq_metrics, 'mda')\n",
    "btc_base_sw_mase = mean_metric_results(btc_seq_metrics, 'mase')\n",
    "btc_base_sw_acc = mean_accuracy(btc_seq_metrics)\n",
    "\n",
    "title = 'Bitcoin Standard Scaling Window LSTM Model MDA: {:.3}, MASE: {:.3}, Accuracy: {:.3}'.format(btc_base_sw_mda, \n",
    "                                                                                                     btc_base_sw_mase,\n",
    "                                                                                                     btc_base_sw_acc)\n",
    "plot_results_multiple(btc_predictions, btc_test_y, prediction_len, title)"
   ]
  },
  {
   "cell_type": "markdown",
   "id": "d274e64c",
   "metadata": {},
   "source": [
    "Standard scaling across a window generally performs much better then the prior 2 methods.  Looking at the predictions these are much more accurate than prior scaling methods and this method had the highest sequence trend accuracy so far.  Window standard scalling will be explored further with Dogecoin."
   ]
  },
  {
   "cell_type": "markdown",
   "id": "5c4461c8",
   "metadata": {},
   "source": [
    "#### 4.1.1.4 Percentage Change Global"
   ]
  },
  {
   "cell_type": "code",
   "execution_count": 22,
   "id": "2f18418e",
   "metadata": {},
   "outputs": [
    {
     "name": "stdout",
     "output_type": "stream",
     "text": [
      "Train data shape: (548, 49, 1)\n",
      "Test data shape: (71,)\n",
      "Epoch 1/40\n",
      "15/15 [==============================] - 9s 282ms/step - loss: 0.0259 - val_loss: 0.0300\n",
      "Epoch 2/40\n",
      "15/15 [==============================] - 3s 173ms/step - loss: 0.0248 - val_loss: 0.0307\n",
      "Epoch 3/40\n",
      "15/15 [==============================] - 3s 180ms/step - loss: 0.0250 - val_loss: 0.0301\n",
      "Epoch 4/40\n",
      "15/15 [==============================] - 3s 168ms/step - loss: 0.0247 - val_loss: 0.0302\n"
     ]
    }
   ],
   "source": [
    "btc_train_X, btc_train_y = create_timeseries_data(btc_train_scaled_pg, target_col, input_len)\n",
    "btc_test_X, btc_test_y = create_timeseries_data(btc_test_scaled_pg, target_col, input_len)\n",
    "\n",
    "print('Train data shape:', btc_train_X.shape)\n",
    "print('Test data shape:', btc_test_y.shape)\n",
    "\n",
    "# Instantiate model class\n",
    "btc_lstm_model = Model()\n",
    "\n",
    "# Build model\n",
    "btc_lstm_model.build_model(btc_model_config)\n",
    "\n",
    "btc_lstm_model.train(btc_train_X, btc_train_y, btc_train_config)"
   ]
  },
  {
   "cell_type": "code",
   "execution_count": 23,
   "id": "b9586120",
   "metadata": {},
   "outputs": [
    {
     "data": {
      "image/png": "[encoded data removed]",
      "text/plain": [
       "<Figure size 720x360 with 1 Axes>"
      ]
     },
     "metadata": {
      "needs_background": "light"
     },
     "output_type": "display_data"
    }
   ],
   "source": [
    "btc_predictions, btc_seq_metrics = evaluate_model(btc_lstm_model, btc_test_X, btc_test_y, total_len, prediction_len)\n",
    "\n",
    "btc_base_pg_mda = mean_metric_results(btc_seq_metrics, 'mda')\n",
    "btc_base_pg_mase = mean_metric_results(btc_seq_metrics, 'mase')\n",
    "btc_base_pg_acc = mean_accuracy(btc_seq_metrics)\n",
    "\n",
    "title = 'Bitcoin % Change Global LSTM Model MDA: {:.3}, MASE: {:.3}, Accuracy: {:.3}'.format(btc_base_pg_mda, \n",
    "                                                                                             btc_base_pg_mase,\n",
    "                                                                                            btc_base_pg_acc)\n",
    "plot_results_multiple(btc_predictions, btc_test_y, prediction_len, title)"
   ]
  },
  {
   "cell_type": "markdown",
   "id": "49f0fe10",
   "metadata": {},
   "source": [
    "% Change globally is clearly the worst performing.  The sequence predictions are almost completely flat.  This also highlights the weakness with all 3 metrics and essentially acts like a naive baseline model to just predict there will be no change in price."
   ]
  },
  {
   "cell_type": "markdown",
   "id": "dc5d5b60",
   "metadata": {},
   "source": [
    "#### 4.1.1.5 Percentage Change Window"
   ]
  },
  {
   "cell_type": "code",
   "execution_count": 24,
   "id": "3e6a84b2",
   "metadata": {},
   "outputs": [
    {
     "name": "stdout",
     "output_type": "stream",
     "text": [
      "Train data shape: (549, 49, 1)\n",
      "Test data shape: (71,)\n",
      "Epoch 1/40\n",
      "15/15 [==============================] - 9s 266ms/step - loss: 0.1059 - val_loss: 0.1557\n",
      "Epoch 2/40\n",
      "15/15 [==============================] - 2s 168ms/step - loss: 0.0815 - val_loss: 0.1489\n",
      "Epoch 3/40\n",
      "15/15 [==============================] - 3s 180ms/step - loss: 0.0745 - val_loss: 0.1313\n",
      "Epoch 4/40\n",
      "15/15 [==============================] - 3s 179ms/step - loss: 0.0696 - val_loss: 0.1097\n",
      "Epoch 5/40\n",
      "15/15 [==============================] - 3s 176ms/step - loss: 0.0664 - val_loss: 0.1006\n",
      "Epoch 6/40\n",
      "15/15 [==============================] - 3s 177ms/step - loss: 0.0643 - val_loss: 0.0929\n",
      "Epoch 7/40\n",
      "15/15 [==============================] - 3s 180ms/step - loss: 0.0589 - val_loss: 0.0838\n",
      "Epoch 8/40\n",
      "15/15 [==============================] - 3s 182ms/step - loss: 0.0565 - val_loss: 0.0769\n",
      "Epoch 9/40\n",
      "15/15 [==============================] - 3s 180ms/step - loss: 0.0529 - val_loss: 0.0723\n",
      "Epoch 10/40\n",
      "15/15 [==============================] - 3s 191ms/step - loss: 0.0514 - val_loss: 0.0695\n",
      "Epoch 11/40\n",
      "15/15 [==============================] - 3s 188ms/step - loss: 0.0477 - val_loss: 0.0676\n",
      "Epoch 12/40\n",
      "15/15 [==============================] - 4s 242ms/step - loss: 0.0449 - val_loss: 0.0636\n",
      "Epoch 13/40\n",
      "15/15 [==============================] - 3s 184ms/step - loss: 0.0440 - val_loss: 0.0646\n",
      "Epoch 14/40\n",
      "15/15 [==============================] - 3s 195ms/step - loss: 0.0434 - val_loss: 0.0652\n",
      "Epoch 15/40\n",
      "15/15 [==============================] - 3s 192ms/step - loss: 0.0438 - val_loss: 0.0848\n"
     ]
    }
   ],
   "source": [
    "btc_train_X, btc_train_y = create_timeseries_data(btc_train_scaled_pw, target_col, input_len)\n",
    "btc_test_X, btc_test_y = create_timeseries_data(btc_test_scaled_pw, target_col, input_len)\n",
    "\n",
    "print('Train data shape:', btc_train_X.shape)\n",
    "print('Test data shape:', btc_test_y.shape)\n",
    "\n",
    "# Instantiate model class\n",
    "btc_lstm_model = Model()\n",
    "\n",
    "# Build model\n",
    "btc_lstm_model.build_model(btc_model_config)\n",
    "\n",
    "btc_lstm_model.train(btc_train_X, btc_train_y, btc_train_config)"
   ]
  },
  {
   "cell_type": "code",
   "execution_count": 25,
   "id": "cfeeaf75",
   "metadata": {},
   "outputs": [
    {
     "data": {
      "image/png": "[encoded data removed]",
      "text/plain": [
       "<Figure size 720x360 with 1 Axes>"
      ]
     },
     "metadata": {
      "needs_background": "light"
     },
     "output_type": "display_data"
    }
   ],
   "source": [
    "btc_predictions, btc_seq_metrics = evaluate_model(btc_lstm_model, btc_test_X, btc_test_y, total_len, prediction_len)\n",
    "\n",
    "btc_base_pw_mda = mean_metric_results(btc_seq_metrics, 'mda')\n",
    "btc_base_pw_mase = mean_metric_results(btc_seq_metrics, 'mase')\n",
    "btc_base_pw_acc = mean_accuracy(btc_seq_metrics)\n",
    "\n",
    "title = 'Bitcoin % Change Window LSTM Model MDA: {:.3}, MASE: {:.3}, Accuracy: {:.3}'.format(btc_base_pw_mda, \n",
    "                                                                                             btc_base_pw_mase,\n",
    "                                                                                            btc_base_pw_acc)\n",
    "plot_results_multiple(btc_predictions, btc_test_y, prediction_len, title)"
   ]
  },
  {
   "cell_type": "markdown",
   "id": "874b81b7",
   "metadata": {},
   "source": [
    "##### Training Runs"
   ]
  },
  {
   "cell_type": "markdown",
   "id": "dd0ccc36",
   "metadata": {},
   "source": [
    "Due to stochastic nature of a rnn model training, the results can vary for each run so next I will train a model for Standard and % Change window scalling multiple times and then average the evaluation metrics."
   ]
  },
  {
   "cell_type": "markdown",
   "id": "dde43fdc",
   "metadata": {},
   "source": [
    "##### Bitcoin"
   ]
  },
  {
   "cell_type": "code",
   "execution_count": 26,
   "id": "a4e9fa7e",
   "metadata": {},
   "outputs": [],
   "source": [
    "# Train and evaluate model for specified training runs\n",
    "def model_training_runs(training_runs, model_config, train_config, train_X, train_y, test_X, test_y, \n",
    "                        total_len, prediction_len, verbose=True):\n",
    "    training_run_results = []\n",
    "    for i in range(training_runs):\n",
    "        # Instantiate model class\n",
    "        lstm_model = Model()\n",
    "        # Build model\n",
    "        lstm_model.build_model(model_config)\n",
    "        if verbose:\n",
    "            print('Model Training started for instance {}'.format(i+1))\n",
    "        # Train model\n",
    "        lstm_model.train(train_X, train_y, train_config)\n",
    "        # Evaluate model\n",
    "        predictions, seq_metrics = evaluate_model(lstm_model, test_X, test_y, total_len, prediction_len)\n",
    "        # Append results\n",
    "        training_run_results.append(seq_metrics)\n",
    "    return training_run_results"
   ]
  },
  {
   "cell_type": "code",
   "execution_count": 27,
   "id": "1c3935cf",
   "metadata": {},
   "outputs": [
    {
     "name": "stdout",
     "output_type": "stream",
     "text": [
      "Model Training started for instance 1\n",
      "Model Training started for instance 2\n",
      "Model Training started for instance 3\n",
      "Model Training started for instance 4\n",
      "Model Training started for instance 5\n",
      "Model Training started for instance 6\n",
      "Model Training started for instance 7\n",
      "Model Training started for instance 8\n",
      "Model Training started for instance 9\n",
      "Model Training started for instance 10\n"
     ]
    }
   ],
   "source": [
    "training_runs = 10\n",
    "\n",
    "# Recreate train/test data with standard window scaled data\n",
    "btc_train_X, btc_train_y = create_timeseries_data(btc_train_scaled_sw, target_col, input_len)\n",
    "btc_test_X, btc_test_y = create_timeseries_data(btc_test_scaled_sw, target_col, input_len)\n",
    "\n",
    "# Turn off verbose since training multiple models\n",
    "btc_train_config['verbose'] = 0\n",
    "\n",
    "btc_model_config = update_model_input_dim(lstm_config, btc_train_X.shape)\n",
    "\n",
    "btc_sw_results = model_training_runs(training_runs, btc_model_config, btc_train_config, \n",
    "                                     btc_train_X, btc_train_y, \n",
    "                                     btc_test_X, btc_test_y, \n",
    "                                     total_len, prediction_len)"
   ]
  },
  {
   "cell_type": "code",
   "execution_count": 28,
   "id": "cd07dc19",
   "metadata": {},
   "outputs": [
    {
     "name": "stdout",
     "output_type": "stream",
     "text": [
      "Bitcoin Standard Scaling Window Baseline Metrics MDA: 0.537, MASE: 1.94, Accuracy: 0.48.\n"
     ]
    }
   ],
   "source": [
    "btc_base_sw_mda = mean_metric_seq_results(btc_sw_results, 'mda')\n",
    "btc_base_sw_mase = mean_metric_seq_results(btc_sw_results, 'mase')\n",
    "btc_base_sw_acc = mean_accuracy_seq(btc_sw_results)\n",
    "print('Bitcoin Standard Scaling Window Baseline Metrics MDA: {:.3}, MASE: {:.3}, Accuracy: {:.3}.'.\\\n",
    "format(btc_base_sw_mda, btc_base_sw_mase, btc_base_sw_acc))"
   ]
  },
  {
   "cell_type": "code",
   "execution_count": 29,
   "id": "7bc05143",
   "metadata": {},
   "outputs": [
    {
     "name": "stdout",
     "output_type": "stream",
     "text": [
      "Model Training started for instance 1\n",
      "Model Training started for instance 2\n",
      "Model Training started for instance 3\n",
      "Model Training started for instance 4\n",
      "Model Training started for instance 5\n",
      "Model Training started for instance 6\n",
      "Model Training started for instance 7\n",
      "Model Training started for instance 8\n",
      "Model Training started for instance 9\n",
      "Model Training started for instance 10\n"
     ]
    }
   ],
   "source": [
    "btc_train_X, btc_train_y = create_timeseries_data(btc_train_scaled_pw, target_col, input_len)\n",
    "btc_test_X, btc_test_y = create_timeseries_data(btc_test_scaled_pw, target_col, input_len)\n",
    "# Turn off verbose since training multiple models\n",
    "btc_train_config['verbose'] = 0\n",
    "btc_model_config = update_model_input_dim(lstm_config, btc_train_X.shape)\n",
    "\n",
    "btc_pw_results = model_training_runs(training_runs, btc_model_config, btc_train_config, \n",
    "                                     btc_train_X, btc_train_y, \n",
    "                                     btc_test_X, btc_test_y, \n",
    "                                     total_len, prediction_len)"
   ]
  },
  {
   "cell_type": "code",
   "execution_count": 37,
   "id": "03fc9dba",
   "metadata": {},
   "outputs": [
    {
     "name": "stdout",
     "output_type": "stream",
     "text": [
      "Bitcoin % Change Scaling Window Baseline Metrics MDA: 0.537, MASE: 2.09, Accuracy: 0.46.\n"
     ]
    }
   ],
   "source": [
    "btc_base_pw_mda = mean_metric_seq_results(btc_pw_results, 'mda')\n",
    "btc_base_pw_mase = mean_metric_seq_results(btc_pw_results, 'mase')\n",
    "btc_base_pw_acc = mean_accuracy_seq(btc_pw_results)\n",
    "print('Bitcoin % Change Scaling Window Baseline Metrics MDA: {:.3}, MASE: {:.3}, Accuracy: {:.3}.'.\\\n",
    "format(btc_base_pw_mda, btc_base_pw_mase, btc_base_pw_acc))"
   ]
  },
  {
   "cell_type": "markdown",
   "id": "fede2d78",
   "metadata": {},
   "source": [
    "##### Dogecoin"
   ]
  },
  {
   "cell_type": "markdown",
   "id": "ed3ed8b2",
   "metadata": {},
   "source": [
    "This will be the first time creating a model for Dogecoin so need to create the datasets and configs."
   ]
  },
  {
   "cell_type": "code",
   "execution_count": 31,
   "id": "d637e104",
   "metadata": {},
   "outputs": [
    {
     "name": "stdout",
     "output_type": "stream",
     "text": [
      "Train data shape: (549, 49, 1)\n",
      "Test data shape: (71,)\n"
     ]
    }
   ],
   "source": [
    "# Create train/test data for doge\n",
    "doge_train_X, doge_train_y = create_timeseries_data(doge_train_scaled_sw, target_col, input_len)\n",
    "doge_test_X, doge_test_y = create_timeseries_data(doge_test_scaled_sw, target_col, input_len)\n",
    "\n",
    "print('Train data shape:', doge_train_X.shape)\n",
    "print('Test data shape:', doge_test_y.shape)"
   ]
  },
  {
   "cell_type": "code",
   "execution_count": 32,
   "id": "a57bcda7",
   "metadata": {},
   "outputs": [
    {
     "data": {
      "text/plain": [
       "{'model': {'loss': 'mae',\n",
       "  'optimizer': 'adam',\n",
       "  'layers': [{'type': 'lstm',\n",
       "    'neurons': 100,\n",
       "    'return_seq': True,\n",
       "    'input_timesteps': 49,\n",
       "    'input_dim': 1},\n",
       "   {'type': 'dropout', 'rate': 0.2},\n",
       "   {'type': 'lstm', 'neurons': 100, 'return_seq': True},\n",
       "   {'type': 'lstm', 'neurons': 100, 'return_seq': False},\n",
       "   {'type': 'dropout', 'rate': 0.2},\n",
       "   {'type': 'dense', 'neurons': 1, 'activation': 'linear'}]}}"
      ]
     },
     "execution_count": 32,
     "metadata": {},
     "output_type": "execute_result"
    }
   ],
   "source": [
    "# The input_timesteps and dim will vary depending on the data so add this to the configs based on the data\n",
    "doge_model_config = update_model_input_dim(lstm_config, doge_train_X.shape)\n",
    "doge_model_config"
   ]
  },
  {
   "cell_type": "code",
   "execution_count": 33,
   "id": "b502ec29",
   "metadata": {},
   "outputs": [
    {
     "data": {
      "text/plain": [
       "{'epochs': 40,\n",
       " 'batch_size': 32,\n",
       " 'validation_split': 0.15,\n",
       " 'verbose': 0,\n",
       " 'patience': 3,\n",
       " 'model_checkpoint': True,\n",
       " 'save_fname': '..\\\\models\\\\doge_lstm.h5'}"
      ]
     },
     "execution_count": 33,
     "metadata": {},
     "output_type": "execute_result"
    }
   ],
   "source": [
    "doge_model_save_fname = os.path.join(model_save_dir, 'doge_lstm.h5')\n",
    "# Create LSTM model training configuration params for Dogecoin\n",
    "doge_train_config = dict(epochs=40,\n",
    "                        batch_size=32,\n",
    "                        validation_split=0.15,\n",
    "                        verbose=0,\n",
    "                        patience=3,\n",
    "                        model_checkpoint=True,\n",
    "                        save_fname=doge_model_save_fname\n",
    "                       )\n",
    "doge_train_config"
   ]
  },
  {
   "cell_type": "code",
   "execution_count": 34,
   "id": "c59127bf",
   "metadata": {},
   "outputs": [
    {
     "name": "stdout",
     "output_type": "stream",
     "text": [
      "Model Training started for instance 1\n",
      "Model Training started for instance 2\n",
      "Model Training started for instance 3\n",
      "Model Training started for instance 4\n",
      "Model Training started for instance 5\n",
      "Model Training started for instance 6\n",
      "Model Training started for instance 7\n",
      "Model Training started for instance 8\n",
      "Model Training started for instance 9\n",
      "Model Training started for instance 10\n"
     ]
    }
   ],
   "source": [
    "doge_sw_results = model_training_runs(training_runs, doge_model_config, doge_train_config, \n",
    "                                     doge_train_X, doge_train_y, \n",
    "                                     doge_test_X, doge_test_y, \n",
    "                                     total_len, prediction_len)"
   ]
  },
  {
   "cell_type": "code",
   "execution_count": 35,
   "id": "27d66777",
   "metadata": {},
   "outputs": [
    {
     "name": "stdout",
     "output_type": "stream",
     "text": [
      "Dogecoin Standard Scaling Window Baseline Metrics MDA: 0.53, MASE: 3.97, Accuracy: 0.59.\n"
     ]
    }
   ],
   "source": [
    "doge_base_sw_mda = mean_metric_seq_results(doge_sw_results, 'mda')\n",
    "doge_base_sw_mase = mean_metric_seq_results(doge_sw_results, 'mase')\n",
    "doge_base_sw_acc = mean_accuracy_seq(doge_sw_results)\n",
    "print('Dogecoin Standard Scaling Window Baseline Metrics MDA: {:.3}, MASE: {:.3}, Accuracy: {:.3}.'.\\\n",
    "format(doge_base_sw_mda, doge_base_sw_mase, doge_base_sw_acc))"
   ]
  },
  {
   "cell_type": "code",
   "execution_count": 36,
   "id": "ff4b2954",
   "metadata": {},
   "outputs": [
    {
     "name": "stdout",
     "output_type": "stream",
     "text": [
      "Model Training started for instance 1\n",
      "Model Training started for instance 2\n",
      "Model Training started for instance 3\n",
      "Model Training started for instance 4\n",
      "Model Training started for instance 5\n",
      "Model Training started for instance 6\n",
      "Model Training started for instance 7\n",
      "Model Training started for instance 8\n",
      "Model Training started for instance 9\n",
      "Model Training started for instance 10\n"
     ]
    }
   ],
   "source": [
    "# Create train/test data for doge\n",
    "doge_train_X, doge_train_y = create_timeseries_data(doge_train_scaled_pw, target_col, input_len)\n",
    "doge_test_X, doge_test_y = create_timeseries_data(doge_test_scaled_pw, target_col, input_len)\n",
    "\n",
    "# Turn off verbose since training multiple models\n",
    "doge_train_config['verbose'] = 0\n",
    "doge_model_config = update_model_input_dim(lstm_config, doge_train_X.shape)\n",
    "\n",
    "doge_pw_results = model_training_runs(training_runs, doge_model_config, doge_train_config, \n",
    "                                     doge_train_X, doge_train_y, \n",
    "                                     doge_test_X, doge_test_y, \n",
    "                                     total_len, prediction_len)"
   ]
  },
  {
   "cell_type": "code",
   "execution_count": 38,
   "id": "9f442887",
   "metadata": {},
   "outputs": [
    {
     "name": "stdout",
     "output_type": "stream",
     "text": [
      "Dogecoin % Change Scaling Window Baseline Metrics MDA: 0.502, MASE: 8.66, Accuracy: 0.59.\n"
     ]
    }
   ],
   "source": [
    "doge_base_pw_mda = mean_metric_seq_results(doge_pw_results, 'mda')\n",
    "doge_base_pw_mase = mean_metric_seq_results(doge_pw_results, 'mase')\n",
    "doge_base_pw_acc = mean_accuracy_seq(doge_sw_results)\n",
    "print('Dogecoin % Change Scaling Window Baseline Metrics MDA: {:.3}, MASE: {:.3}, Accuracy: {:.3}.'.\\\n",
    "format(doge_base_pw_mda, doge_base_pw_mase, doge_base_pw_acc))"
   ]
  },
  {
   "cell_type": "markdown",
   "id": "4ec374a2",
   "metadata": {},
   "source": [
    "I will utilize Standard scaling windows moving forward.  Standard scaling normalized the data better for Dogecoin so appears to be a more generalized approach to be applied to future coins.  The difference between Standard and % Change window scaling is pretty minimal so may consider using % Change window scaling in the future depending on the coin."
   ]
  },
  {
   "cell_type": "markdown",
   "id": "748f0ef9",
   "metadata": {},
   "source": [
    "### 4.1.2 Multi-Dimensional LSTM Model"
   ]
  },
  {
   "cell_type": "markdown",
   "id": "3107a73c",
   "metadata": {},
   "source": [
    "I have over 100 features so instead of using all in a multi-dimensional model I will train a model with each incrementally added to `close` and then evaluate if the feature improves from the baseline one-dimensional model.  I will then select the features for each Bitcoin and Dogecoin model."
   ]
  },
  {
   "cell_type": "markdown",
   "id": "72f34a1b",
   "metadata": {},
   "source": [
    "##### Bitcoin"
   ]
  },
  {
   "cell_type": "code",
   "execution_count": 39,
   "id": "59b7afb1",
   "metadata": {},
   "outputs": [],
   "source": [
    "btc_search_cols = list(btc.drop(['asset_id', 'time', 'open', 'close', 'name', 'symbol', 'price_btc',\n",
    "                             'close_end_1d', 'close_percent_change_1d', 'close_end_7d', 'close_min_7d', \n",
    "                             'close_max_7d', 'close_loss_7d', 'close_gain_7d', 'close_change_7d', \n",
    "                             'close_percent_change_7d', 'decision','color','angle', 'intercept']\n",
    "                            , axis=1).columns)"
   ]
  },
  {
   "cell_type": "code",
   "execution_count": 40,
   "id": "a5abf502",
   "metadata": {},
   "outputs": [],
   "source": [
    "def model_training_search_cols(search_cols, training_runs, target_col, scaler, df, \n",
    "                               test_periods, input_len, total_len, prediction_len,\n",
    "                              train_config, baseline, verbose=False):\n",
    "    search_results = {}\n",
    "    for col in search_cols:\n",
    "        cols = [*[target_col], *[col]]\n",
    "        try:\n",
    "            # Scale data based on new cols list\n",
    "            data, train_scaled, test_scaled, scalers = data_preprocessing_standardize(scaler, df, cols, test_periods, total_len)\n",
    "\n",
    "            # Create train/test datasets\n",
    "            train_X, train_y = create_timeseries_data(train_scaled, target_col, input_len)\n",
    "            test_X, test_y = create_timeseries_data(test_scaled, target_col, input_len)\n",
    "\n",
    "            model_config = update_model_input_dim(lstm_config, train_X.shape)\n",
    "\n",
    "            run_results = model_training_runs(training_runs, model_config, train_config, \n",
    "                                              train_X, train_y,\n",
    "                                              test_X, test_y,\n",
    "                                              total_len, prediction_len, \n",
    "                                              verbose=False) # Always False for training runs due # of lines in output\n",
    "\n",
    "            mda = mean_metric_seq_results(run_results, 'mda')\n",
    "            mase = mean_metric_seq_results(run_results, 'mase')\n",
    "            acc = mean_accuracy_seq(run_results)\n",
    "\n",
    "            # Save results\n",
    "            search_results[col] = {'mda': mda, 'mase': mase, 'accuracy': acc}\n",
    "\n",
    "            if acc > baseline or verbose:\n",
    "                print('LSTM model trained with \"' + \n",
    "                      col + '\". {} training run(s) trend accuracy of {:.3}.'.format(training_runs, acc))\n",
    "        except:\n",
    "            print('Unable to train model for \"' + col + '\".')\n",
    "    return search_results"
   ]
  },
  {
   "cell_type": "code",
   "execution_count": 92,
   "id": "14f33851",
   "metadata": {},
   "outputs": [
    {
     "name": "stdout",
     "output_type": "stream",
     "text": [
      "LSTM model trained with \"high\". 1 training run(s) trend accuracy of 0.5.\n",
      "LSTM model trained with \"low\". 1 training run(s) trend accuracy of 0.6.\n",
      "LSTM model trained with \"volume\". 1 training run(s) trend accuracy of 0.5.\n",
      "LSTM model trained with \"url_shares\". 1 training run(s) trend accuracy of 0.5.\n",
      "LSTM model trained with \"tweets\". 1 training run(s) trend accuracy of 0.5.\n",
      "LSTM model trained with \"tweet_followers\". 1 training run(s) trend accuracy of 0.5.\n",
      "LSTM model trained with \"tweet_replies\". 1 training run(s) trend accuracy of 0.5.\n",
      "LSTM model trained with \"tweet_favorites\". 1 training run(s) trend accuracy of 0.5.\n",
      "LSTM model trained with \"tweet_sentiment1\". 1 training run(s) trend accuracy of 0.6.\n",
      "LSTM model trained with \"tweet_sentiment3\". 1 training run(s) trend accuracy of 0.6.\n",
      "LSTM model trained with \"tweet_sentiment5\". 1 training run(s) trend accuracy of 0.5.\n",
      "LSTM model trained with \"tweet_sentiment_impact1\". 1 training run(s) trend accuracy of 0.7.\n",
      "LSTM model trained with \"tweet_sentiment_impact4\". 1 training run(s) trend accuracy of 0.5.\n",
      "LSTM model trained with \"tweet_sentiment_impact5\". 1 training run(s) trend accuracy of 0.5.\n",
      "LSTM model trained with \"social_impact_score\". 1 training run(s) trend accuracy of 0.6.\n",
      "LSTM model trained with \"galaxy_score\". 1 training run(s) trend accuracy of 0.5.\n",
      "LSTM model trained with \"alt_rank\". 1 training run(s) trend accuracy of 0.6.\n",
      "LSTM model trained with \"percent_change_24h_rank\". 1 training run(s) trend accuracy of 0.6.\n",
      "LSTM model trained with \"volume_24h_rank\". 1 training run(s) trend accuracy of 0.5.\n",
      "LSTM model trained with \"social_volume_24h_rank\". 1 training run(s) trend accuracy of 0.6.\n",
      "LSTM model trained with \"medium\". 1 training run(s) trend accuracy of 0.6.\n",
      "LSTM model trained with \"youtube\". 1 training run(s) trend accuracy of 0.5.\n",
      "LSTM model trained with \"social_contributors\". 1 training run(s) trend accuracy of 0.5.\n",
      "LSTM model trained with \"social_volume_global\". 1 training run(s) trend accuracy of 0.6.\n",
      "LSTM model trained with \"market_cap_global\". 1 training run(s) trend accuracy of 0.7.\n",
      "LSTM model trained with \"adx\". 1 training run(s) trend accuracy of 0.5.\n",
      "LSTM model trained with \"dx\". 1 training run(s) trend accuracy of 0.5.\n",
      "LSTM model trained with \"rsi\". 1 training run(s) trend accuracy of 0.5.\n",
      "LSTM model trained with \"atr\". 1 training run(s) trend accuracy of 0.5.\n",
      "LSTM model trained with \"linreg\". 1 training run(s) trend accuracy of 0.7.\n",
      "LSTM model trained with \"stdev\". 1 training run(s) trend accuracy of 0.5.\n",
      "LSTM model trained with \"var\". 1 training run(s) trend accuracy of 0.7.\n",
      "LSTM model trained with \"tsf\". 1 training run(s) trend accuracy of 0.5.\n",
      "LSTM model trained with \"bband_relative\". 1 training run(s) trend accuracy of 0.5.\n",
      "LSTM model trained with \"macdsignal\". 1 training run(s) trend accuracy of 0.5.\n",
      "LSTM model trained with \"macdhist\". 1 training run(s) trend accuracy of 0.5.\n",
      "LSTM model trained with \"tweet_sentiment_bullish\". 1 training run(s) trend accuracy of 0.5.\n",
      "LSTM model trained with \"tweet_sentiment_bearish\". 1 training run(s) trend accuracy of 0.6.\n",
      "LSTM model trained with \"tweet_sentiment_net\". 1 training run(s) trend accuracy of 0.6.\n",
      "LSTM model trained with \"tweet_sentiment_impact_bullish\". 1 training run(s) trend accuracy of 0.5.\n",
      "LSTM model trained with \"tweet_sentiment_impact_bearish\". 1 training run(s) trend accuracy of 0.5.\n",
      "LSTM model trained with \"tweet_followers_mean\". 1 training run(s) trend accuracy of 0.5.\n",
      "LSTM model trained with \"news_mean\". 1 training run(s) trend accuracy of 0.6.\n",
      "LSTM model trained with \"volatility_mean\". 1 training run(s) trend accuracy of 0.6.\n",
      "LSTM model trained with \"tweet_sentiment_impact_bearish_stdev\". 1 training run(s) trend accuracy of 0.6.\n",
      "LSTM model trained with \"market_dominance_stdev\". 1 training run(s) trend accuracy of 0.7.\n",
      "LSTM model trained with \"market_cap_global_pct_change\". 1 training run(s) trend accuracy of 0.6.\n"
     ]
    }
   ],
   "source": [
    "# Set verbose to off since training many models\n",
    "btc_train_config['verbose'] = 0\n",
    "# For the first run for all columns set training runs to 1\n",
    "training_runs = 1\n",
    "btc_search_results = model_training_search_cols(btc_search_cols, training_runs, target_col, standard_scaler, btc, \n",
    "                                                test_periods, input_len, total_len, prediction_len, \n",
    "                                                btc_train_config, btc_base_sw_acc)"
   ]
  },
  {
   "cell_type": "code",
   "execution_count": 93,
   "id": "0a2d1d10",
   "metadata": {},
   "outputs": [
    {
     "data": {
      "text/html": [
       "<div>\n",
       "<style scoped>\n",
       "    .dataframe tbody tr th:only-of-type {\n",
       "        vertical-align: middle;\n",
       "    }\n",
       "\n",
       "    .dataframe tbody tr th {\n",
       "        vertical-align: top;\n",
       "    }\n",
       "\n",
       "    .dataframe thead th {\n",
       "        text-align: right;\n",
       "    }\n",
       "</style>\n",
       "<table border=\"1\" class=\"dataframe\">\n",
       "  <thead>\n",
       "    <tr style=\"text-align: right;\">\n",
       "      <th></th>\n",
       "      <th>mda</th>\n",
       "      <th>mase</th>\n",
       "      <th>accuracy</th>\n",
       "    </tr>\n",
       "  </thead>\n",
       "  <tbody>\n",
       "    <tr>\n",
       "      <th>var</th>\n",
       "      <td>0.600000</td>\n",
       "      <td>1.701435</td>\n",
       "      <td>0.7</td>\n",
       "    </tr>\n",
       "    <tr>\n",
       "      <th>market_cap_global</th>\n",
       "      <td>0.583333</td>\n",
       "      <td>1.825585</td>\n",
       "      <td>0.7</td>\n",
       "    </tr>\n",
       "    <tr>\n",
       "      <th>market_dominance_stdev</th>\n",
       "      <td>0.633333</td>\n",
       "      <td>1.932820</td>\n",
       "      <td>0.7</td>\n",
       "    </tr>\n",
       "    <tr>\n",
       "      <th>tweet_sentiment_impact1</th>\n",
       "      <td>0.600000</td>\n",
       "      <td>2.018091</td>\n",
       "      <td>0.7</td>\n",
       "    </tr>\n",
       "    <tr>\n",
       "      <th>linreg</th>\n",
       "      <td>0.566667</td>\n",
       "      <td>1.835965</td>\n",
       "      <td>0.7</td>\n",
       "    </tr>\n",
       "    <tr>\n",
       "      <th>alt_rank</th>\n",
       "      <td>0.566667</td>\n",
       "      <td>1.928037</td>\n",
       "      <td>0.6</td>\n",
       "    </tr>\n",
       "    <tr>\n",
       "      <th>percent_change_24h_rank</th>\n",
       "      <td>0.583333</td>\n",
       "      <td>1.934254</td>\n",
       "      <td>0.6</td>\n",
       "    </tr>\n",
       "    <tr>\n",
       "      <th>social_volume_24h_rank</th>\n",
       "      <td>0.516667</td>\n",
       "      <td>2.270186</td>\n",
       "      <td>0.6</td>\n",
       "    </tr>\n",
       "    <tr>\n",
       "      <th>medium</th>\n",
       "      <td>0.616667</td>\n",
       "      <td>1.941753</td>\n",
       "      <td>0.6</td>\n",
       "    </tr>\n",
       "    <tr>\n",
       "      <th>low</th>\n",
       "      <td>0.566667</td>\n",
       "      <td>1.792518</td>\n",
       "      <td>0.6</td>\n",
       "    </tr>\n",
       "  </tbody>\n",
       "</table>\n",
       "</div>"
      ],
      "text/plain": [
       "                              mda      mase  accuracy\n",
       "var                      0.600000  1.701435       0.7\n",
       "market_cap_global        0.583333  1.825585       0.7\n",
       "market_dominance_stdev   0.633333  1.932820       0.7\n",
       "tweet_sentiment_impact1  0.600000  2.018091       0.7\n",
       "linreg                   0.566667  1.835965       0.7\n",
       "alt_rank                 0.566667  1.928037       0.6\n",
       "percent_change_24h_rank  0.583333  1.934254       0.6\n",
       "social_volume_24h_rank   0.516667  2.270186       0.6\n",
       "medium                   0.616667  1.941753       0.6\n",
       "low                      0.566667  1.792518       0.6"
      ]
     },
     "execution_count": 93,
     "metadata": {},
     "output_type": "execute_result"
    }
   ],
   "source": [
    "btc_search_results_df = pd.DataFrame(btc_search_results).T\n",
    "\n",
    "# Top 10 by accuracy\n",
    "btc_search_results_df.sort_values(by='accuracy', ascending=False).head(10)"
   ]
  },
  {
   "cell_type": "code",
   "execution_count": 94,
   "id": "5fa10680",
   "metadata": {},
   "outputs": [
    {
     "data": {
      "text/html": [
       "<div>\n",
       "<style scoped>\n",
       "    .dataframe tbody tr th:only-of-type {\n",
       "        vertical-align: middle;\n",
       "    }\n",
       "\n",
       "    .dataframe tbody tr th {\n",
       "        vertical-align: top;\n",
       "    }\n",
       "\n",
       "    .dataframe thead th {\n",
       "        text-align: right;\n",
       "    }\n",
       "</style>\n",
       "<table border=\"1\" class=\"dataframe\">\n",
       "  <thead>\n",
       "    <tr style=\"text-align: right;\">\n",
       "      <th></th>\n",
       "      <th>mda</th>\n",
       "      <th>mase</th>\n",
       "      <th>accuracy</th>\n",
       "    </tr>\n",
       "  </thead>\n",
       "  <tbody>\n",
       "    <tr>\n",
       "      <th>tweet_sentiment_impact_bearish</th>\n",
       "      <td>0.666667</td>\n",
       "      <td>2.186834</td>\n",
       "      <td>0.5</td>\n",
       "    </tr>\n",
       "    <tr>\n",
       "      <th>volatility_mean</th>\n",
       "      <td>0.666667</td>\n",
       "      <td>1.617767</td>\n",
       "      <td>0.6</td>\n",
       "    </tr>\n",
       "    <tr>\n",
       "      <th>tweets</th>\n",
       "      <td>0.666667</td>\n",
       "      <td>1.616586</td>\n",
       "      <td>0.5</td>\n",
       "    </tr>\n",
       "    <tr>\n",
       "      <th>tweet_sentiment_net</th>\n",
       "      <td>0.666667</td>\n",
       "      <td>1.678895</td>\n",
       "      <td>0.6</td>\n",
       "    </tr>\n",
       "    <tr>\n",
       "      <th>macd</th>\n",
       "      <td>0.633333</td>\n",
       "      <td>1.957277</td>\n",
       "      <td>0.4</td>\n",
       "    </tr>\n",
       "    <tr>\n",
       "      <th>market_cap_global_pct_change</th>\n",
       "      <td>0.633333</td>\n",
       "      <td>2.055374</td>\n",
       "      <td>0.6</td>\n",
       "    </tr>\n",
       "    <tr>\n",
       "      <th>market_dominance_stdev</th>\n",
       "      <td>0.633333</td>\n",
       "      <td>1.932820</td>\n",
       "      <td>0.7</td>\n",
       "    </tr>\n",
       "    <tr>\n",
       "      <th>tweet_sentiment_impact_bearish_stdev</th>\n",
       "      <td>0.633333</td>\n",
       "      <td>1.897020</td>\n",
       "      <td>0.6</td>\n",
       "    </tr>\n",
       "    <tr>\n",
       "      <th>tweet_sentiment_bearish</th>\n",
       "      <td>0.616667</td>\n",
       "      <td>1.804086</td>\n",
       "      <td>0.6</td>\n",
       "    </tr>\n",
       "    <tr>\n",
       "      <th>social_contributors</th>\n",
       "      <td>0.616667</td>\n",
       "      <td>1.820099</td>\n",
       "      <td>0.5</td>\n",
       "    </tr>\n",
       "  </tbody>\n",
       "</table>\n",
       "</div>"
      ],
      "text/plain": [
       "                                           mda      mase  accuracy\n",
       "tweet_sentiment_impact_bearish        0.666667  2.186834       0.5\n",
       "volatility_mean                       0.666667  1.617767       0.6\n",
       "tweets                                0.666667  1.616586       0.5\n",
       "tweet_sentiment_net                   0.666667  1.678895       0.6\n",
       "macd                                  0.633333  1.957277       0.4\n",
       "market_cap_global_pct_change          0.633333  2.055374       0.6\n",
       "market_dominance_stdev                0.633333  1.932820       0.7\n",
       "tweet_sentiment_impact_bearish_stdev  0.633333  1.897020       0.6\n",
       "tweet_sentiment_bearish               0.616667  1.804086       0.6\n",
       "social_contributors                   0.616667  1.820099       0.5"
      ]
     },
     "execution_count": 94,
     "metadata": {},
     "output_type": "execute_result"
    }
   ],
   "source": [
    "# Top 10 by mda\n",
    "btc_search_results_df.sort_values(by='mda', ascending=False).head(10)"
   ]
  },
  {
   "cell_type": "code",
   "execution_count": 95,
   "id": "275bbc28",
   "metadata": {},
   "outputs": [
    {
     "data": {
      "text/html": [
       "<div>\n",
       "<style scoped>\n",
       "    .dataframe tbody tr th:only-of-type {\n",
       "        vertical-align: middle;\n",
       "    }\n",
       "\n",
       "    .dataframe tbody tr th {\n",
       "        vertical-align: top;\n",
       "    }\n",
       "\n",
       "    .dataframe thead th {\n",
       "        text-align: right;\n",
       "    }\n",
       "</style>\n",
       "<table border=\"1\" class=\"dataframe\">\n",
       "  <thead>\n",
       "    <tr style=\"text-align: right;\">\n",
       "      <th></th>\n",
       "      <th>mda</th>\n",
       "      <th>mase</th>\n",
       "      <th>accuracy</th>\n",
       "    </tr>\n",
       "  </thead>\n",
       "  <tbody>\n",
       "    <tr>\n",
       "      <th>tweet_sentiment4</th>\n",
       "      <td>0.600000</td>\n",
       "      <td>1.547024</td>\n",
       "      <td>0.4</td>\n",
       "    </tr>\n",
       "    <tr>\n",
       "      <th>url_shares</th>\n",
       "      <td>0.550000</td>\n",
       "      <td>1.583701</td>\n",
       "      <td>0.5</td>\n",
       "    </tr>\n",
       "    <tr>\n",
       "      <th>social_score</th>\n",
       "      <td>0.433333</td>\n",
       "      <td>1.588474</td>\n",
       "      <td>0.4</td>\n",
       "    </tr>\n",
       "    <tr>\n",
       "      <th>tweets</th>\n",
       "      <td>0.666667</td>\n",
       "      <td>1.616586</td>\n",
       "      <td>0.5</td>\n",
       "    </tr>\n",
       "    <tr>\n",
       "      <th>volatility_mean</th>\n",
       "      <td>0.666667</td>\n",
       "      <td>1.617767</td>\n",
       "      <td>0.6</td>\n",
       "    </tr>\n",
       "    <tr>\n",
       "      <th>tweet_sentiment2</th>\n",
       "      <td>0.583333</td>\n",
       "      <td>1.651702</td>\n",
       "      <td>0.4</td>\n",
       "    </tr>\n",
       "    <tr>\n",
       "      <th>tweet_sentiment_impact_bullish</th>\n",
       "      <td>0.550000</td>\n",
       "      <td>1.666630</td>\n",
       "      <td>0.5</td>\n",
       "    </tr>\n",
       "    <tr>\n",
       "      <th>tweet_sentiment_net</th>\n",
       "      <td>0.666667</td>\n",
       "      <td>1.678895</td>\n",
       "      <td>0.6</td>\n",
       "    </tr>\n",
       "    <tr>\n",
       "      <th>var</th>\n",
       "      <td>0.600000</td>\n",
       "      <td>1.701435</td>\n",
       "      <td>0.7</td>\n",
       "    </tr>\n",
       "    <tr>\n",
       "      <th>tweet_spam</th>\n",
       "      <td>0.533333</td>\n",
       "      <td>1.724324</td>\n",
       "      <td>0.4</td>\n",
       "    </tr>\n",
       "  </tbody>\n",
       "</table>\n",
       "</div>"
      ],
      "text/plain": [
       "                                     mda      mase  accuracy\n",
       "tweet_sentiment4                0.600000  1.547024       0.4\n",
       "url_shares                      0.550000  1.583701       0.5\n",
       "social_score                    0.433333  1.588474       0.4\n",
       "tweets                          0.666667  1.616586       0.5\n",
       "volatility_mean                 0.666667  1.617767       0.6\n",
       "tweet_sentiment2                0.583333  1.651702       0.4\n",
       "tweet_sentiment_impact_bullish  0.550000  1.666630       0.5\n",
       "tweet_sentiment_net             0.666667  1.678895       0.6\n",
       "var                             0.600000  1.701435       0.7\n",
       "tweet_spam                      0.533333  1.724324       0.4"
      ]
     },
     "execution_count": 95,
     "metadata": {},
     "output_type": "execute_result"
    }
   ],
   "source": [
    "# Top 10 by mase\n",
    "btc_search_results_df.sort_values(by='mase', ascending=True).head(10)"
   ]
  },
  {
   "cell_type": "markdown",
   "id": "e0c2197b",
   "metadata": {},
   "source": [
    "Next I will reduce the search space based on the single run results as well as observations in the EDA stage.  I will increase the training runs to identify the features that improve the model from the baseline."
   ]
  },
  {
   "cell_type": "code",
   "execution_count": 97,
   "id": "45e120d1",
   "metadata": {},
   "outputs": [
    {
     "name": "stdout",
     "output_type": "stream",
     "text": [
      "23\n"
     ]
    }
   ],
   "source": [
    "# Manually construct list of columns to search for final\n",
    "btc_search_final_cols = ['linreg', 'var', \n",
    "                         'market_cap_global', 'market_cap_global_pct_change',\n",
    "                         'market_dominance', 'market_dominance_stdev',\n",
    "                         'percent_change_24h_rank', 'social_volume_24h_rank',\n",
    "                         'social_score', 'social_score_24h_rank', 'social_volume_global', 'social_contributors', \n",
    "                         'news_mean', 'tweets', 'url_shares', 'volatility_mean',\n",
    "                         'tweet_sentiment_impact_bearish', 'tweet_sentiment_impact_bullish', 'tweet_sentiment_net',\n",
    "                         'bband_relative', 'macd', 'macdsignal', 'rsi']\n",
    "print(len(btc_search_final_cols))"
   ]
  },
  {
   "cell_type": "code",
   "execution_count": 108,
   "id": "cb87e880",
   "metadata": {},
   "outputs": [
    {
     "name": "stdout",
     "output_type": "stream",
     "text": [
      "LSTM model trained with \"linreg\". 5 training run(s) trend accuracy of 0.58.\n",
      "LSTM model trained with \"var\". 5 training run(s) trend accuracy of 0.48.\n",
      "LSTM model trained with \"market_cap_global\". 5 training run(s) trend accuracy of 0.46.\n",
      "LSTM model trained with \"market_cap_global_pct_change\". 5 training run(s) trend accuracy of 0.52.\n",
      "LSTM model trained with \"market_dominance\". 5 training run(s) trend accuracy of 0.44.\n",
      "LSTM model trained with \"market_dominance_stdev\". 5 training run(s) trend accuracy of 0.54.\n",
      "LSTM model trained with \"percent_change_24h_rank\". 5 training run(s) trend accuracy of 0.56.\n",
      "LSTM model trained with \"social_volume_24h_rank\". 5 training run(s) trend accuracy of 0.58.\n",
      "LSTM model trained with \"social_score\". 5 training run(s) trend accuracy of 0.42.\n",
      "LSTM model trained with \"social_score_24h_rank\". 5 training run(s) trend accuracy of 0.52.\n",
      "LSTM model trained with \"social_volume_global\". 5 training run(s) trend accuracy of 0.58.\n",
      "LSTM model trained with \"social_contributors\". 5 training run(s) trend accuracy of 0.62.\n",
      "LSTM model trained with \"news_mean\". 5 training run(s) trend accuracy of 0.46.\n",
      "LSTM model trained with \"tweets\". 5 training run(s) trend accuracy of 0.5.\n",
      "LSTM model trained with \"url_shares\". 5 training run(s) trend accuracy of 0.42.\n",
      "LSTM model trained with \"volatility_mean\". 5 training run(s) trend accuracy of 0.52.\n",
      "LSTM model trained with \"tweet_sentiment_impact_bearish\". 5 training run(s) trend accuracy of 0.52.\n",
      "LSTM model trained with \"tweet_sentiment_impact_bullish\". 5 training run(s) trend accuracy of 0.48.\n",
      "LSTM model trained with \"tweet_sentiment_net\". 5 training run(s) trend accuracy of 0.5.\n",
      "LSTM model trained with \"bband_relative\". 5 training run(s) trend accuracy of 0.44.\n",
      "LSTM model trained with \"macd\". 5 training run(s) trend accuracy of 0.48.\n",
      "LSTM model trained with \"macdsignal\". 5 training run(s) trend accuracy of 0.48.\n",
      "LSTM model trained with \"rsi\". 5 training run(s) trend accuracy of 0.32.\n"
     ]
    }
   ],
   "source": [
    "# Set verbose to off since training many models\n",
    "btc_train_config['verbose'] = 0\n",
    "# Do not run checkpoints\n",
    "btc_train_config['model_checkpoint'] = False\n",
    "# For exhaustive search limit runs to 5\n",
    "training_runs = 5\n",
    "btc_search_results_final = model_training_search_cols(btc_search_final_cols, training_runs, target_col, \n",
    "                                                      standard_scaler, btc, \n",
    "                                                      test_periods, input_len, total_len, prediction_len, \n",
    "                                                      btc_train_config, btc_base_sw_acc, verbose=True)"
   ]
  },
  {
   "cell_type": "code",
   "execution_count": 43,
   "id": "1df11d18",
   "metadata": {},
   "outputs": [
    {
     "name": "stdout",
     "output_type": "stream",
     "text": [
      "Epoch 1/40\n",
      "14/14 [==============================] - 5s 137ms/step - loss: 0.7077 - val_loss: 0.9794\n",
      "Epoch 2/40\n",
      "14/14 [==============================] - 1s 80ms/step - loss: 0.6464 - val_loss: 0.9940\n",
      "Epoch 3/40\n",
      "14/14 [==============================] - 1s 81ms/step - loss: 0.6582 - val_loss: 0.7419\n",
      "Epoch 4/40\n",
      "14/14 [==============================] - 2s 126ms/step - loss: 0.5959 - val_loss: 0.6625\n",
      "Epoch 5/40\n",
      "14/14 [==============================] - 2s 143ms/step - loss: 0.5485 - val_loss: 0.6502\n",
      "Epoch 6/40\n",
      "14/14 [==============================] - 2s 135ms/step - loss: 0.5131 - val_loss: 0.5828\n",
      "Epoch 7/40\n",
      "14/14 [==============================] - 2s 144ms/step - loss: 0.4885 - val_loss: 0.6116\n",
      "Epoch 8/40\n",
      "14/14 [==============================] - 2s 149ms/step - loss: 0.4728 - val_loss: 0.6483\n",
      "Epoch 9/40\n",
      "14/14 [==============================] - 2s 155ms/step - loss: 0.4640 - val_loss: 0.6241\n"
     ]
    },
    {
     "data": {
      "image/png": "[encoded data removed]",
      "text/plain": [
       "<Figure size 720x360 with 1 Axes>"
      ]
     },
     "metadata": {
      "needs_background": "light"
     },
     "output_type": "display_data"
    }
   ],
   "source": [
    "btc_cols = ['linreg', 'percent_change_24h_rank', 'social_volume_24h_rank', 'social_contributors']\n",
    "\n",
    "cols = [*[target_col], * btc_cols]\n",
    "# Scale data based on new cols list\n",
    "btc_data, btc_train_scaled, btc_test_scaled, btc_scaler = data_preprocessing_standardize(standard_scaler, btc, cols,\n",
    "                                                                                     test_periods, total_len)\n",
    "# Create train/test datasets\n",
    "btc_train_X, btc_train_y = create_timeseries_data(btc_train_scaled, target_col, input_len)\n",
    "btc_test_X, btc_test_y = create_timeseries_data(btc_test_scaled, target_col, input_len)\n",
    "\n",
    "btc_model_config = update_model_input_dim(lstm_config, btc_train_X.shape)\n",
    "\n",
    "# Set verbose to on\n",
    "btc_train_config['verbose'] = 1\n",
    "\n",
    "# Run checkpoints\n",
    "btc_train_config['model_checkpoint'] = True\n",
    "\n",
    "# Instantiate model class\n",
    "btc_lstm_model = Model()\n",
    "\n",
    "# Build model\n",
    "btc_lstm_model.build_model(btc_model_config)\n",
    "\n",
    "btc_lstm_model.train(btc_train_X, btc_train_y, btc_train_config)\n",
    "\n",
    "btc_predictions, btc_seq_metrics = evaluate_model(btc_lstm_model, btc_test_X, btc_test_y, total_len, prediction_len)\n",
    "\n",
    "btc_mda = mean_metric_results(btc_seq_metrics, 'mda')\n",
    "btc_mase = mean_metric_results(btc_seq_metrics, 'mase')\n",
    "btc_acc = mean_accuracy(btc_seq_metrics)\n",
    "\n",
    "title = 'Bitcoin Multi-Dimensional LSTM Model MDA: {:.3}, MASE: {:.3}, Accuracy: {:.3}'.format(btc_mda, \n",
    "                                                                                        btc_mase,\n",
    "                                                                                        btc_acc)\n",
    "plot_results_multiple(btc_predictions, btc_test_y, prediction_len, title)"
   ]
  },
  {
   "cell_type": "markdown",
   "id": "d46fe73a",
   "metadata": {},
   "source": [
    "Improved sequence prediction accuracy from .48 to .7."
   ]
  },
  {
   "cell_type": "markdown",
   "id": "38cf139a",
   "metadata": {},
   "source": [
    "##### Dogecoin"
   ]
  },
  {
   "cell_type": "code",
   "execution_count": 44,
   "id": "d8440959",
   "metadata": {},
   "outputs": [],
   "source": [
    "doge_search_cols = list(doge.drop(['asset_id', 'time', 'open', 'close', 'name', 'symbol', 'price_btc',\n",
    "                             'close_end_1d', 'close_percent_change_1d', 'close_end_7d', 'close_min_7d', \n",
    "                             'close_max_7d', 'close_loss_7d', 'close_gain_7d', 'close_change_7d', \n",
    "                             'close_percent_change_7d', 'decision','color','angle', 'intercept']\n",
    "                            , axis=1).columns)"
   ]
  },
  {
   "cell_type": "code",
   "execution_count": 121,
   "id": "da49ce07",
   "metadata": {},
   "outputs": [
    {
     "name": "stdout",
     "output_type": "stream",
     "text": [
      "LSTM model trained with \"high\". 1 training run(s) trend accuracy of 0.7.\n",
      "LSTM model trained with \"low\". 1 training run(s) trend accuracy of 0.6.\n",
      "LSTM model trained with \"volume\". 1 training run(s) trend accuracy of 0.7.\n",
      "LSTM model trained with \"url_shares\". 1 training run(s) trend accuracy of 0.6.\n",
      "LSTM model trained with \"unique_url_shares\". 1 training run(s) trend accuracy of 0.6.\n",
      "LSTM model trained with \"tweets\". 1 training run(s) trend accuracy of 0.7.\n",
      "LSTM model trained with \"tweet_spam\". 1 training run(s) trend accuracy of 0.6.\n",
      "LSTM model trained with \"tweet_followers\". 1 training run(s) trend accuracy of 0.6.\n",
      "LSTM model trained with \"tweet_retweets\". 1 training run(s) trend accuracy of 0.6.\n",
      "LSTM model trained with \"tweet_replies\". 1 training run(s) trend accuracy of 0.6.\n",
      "LSTM model trained with \"tweet_favorites\". 1 training run(s) trend accuracy of 0.7.\n",
      "LSTM model trained with \"tweet_sentiment1\". 1 training run(s) trend accuracy of 0.7.\n",
      "LSTM model trained with \"tweet_sentiment2\". 1 training run(s) trend accuracy of 0.8.\n",
      "LSTM model trained with \"tweet_sentiment3\". 1 training run(s) trend accuracy of 0.6.\n",
      "LSTM model trained with \"tweet_sentiment4\". 1 training run(s) trend accuracy of 0.7.\n",
      "LSTM model trained with \"tweet_sentiment5\". 1 training run(s) trend accuracy of 0.7.\n",
      "LSTM model trained with \"tweet_sentiment_impact1\". 1 training run(s) trend accuracy of 0.8.\n",
      "LSTM model trained with \"tweet_sentiment_impact2\". 1 training run(s) trend accuracy of 0.6.\n",
      "LSTM model trained with \"tweet_sentiment_impact3\". 1 training run(s) trend accuracy of 0.8.\n",
      "LSTM model trained with \"tweet_sentiment_impact4\". 1 training run(s) trend accuracy of 0.6.\n",
      "LSTM model trained with \"tweet_sentiment_impact5\". 1 training run(s) trend accuracy of 0.8.\n",
      "LSTM model trained with \"social_score\". 1 training run(s) trend accuracy of 0.6.\n",
      "LSTM model trained with \"average_sentiment\". 1 training run(s) trend accuracy of 0.6.\n",
      "LSTM model trained with \"news\". 1 training run(s) trend accuracy of 0.7.\n",
      "LSTM model trained with \"price_score\". 1 training run(s) trend accuracy of 0.8.\n",
      "LSTM model trained with \"social_impact_score\". 1 training run(s) trend accuracy of 0.8.\n",
      "LSTM model trained with \"galaxy_score\". 1 training run(s) trend accuracy of 0.6.\n",
      "LSTM model trained with \"volatility\". 1 training run(s) trend accuracy of 0.8.\n",
      "LSTM model trained with \"alt_rank\". 1 training run(s) trend accuracy of 0.8.\n",
      "LSTM model trained with \"alt_rank_30d\". 1 training run(s) trend accuracy of 0.7.\n",
      "LSTM model trained with \"percent_change_24h_rank\". 1 training run(s) trend accuracy of 0.6.\n",
      "LSTM model trained with \"volume_24h_rank\". 1 training run(s) trend accuracy of 0.6.\n",
      "LSTM model trained with \"social_volume_24h_rank\". 1 training run(s) trend accuracy of 0.6.\n",
      "LSTM model trained with \"social_score_24h_rank\". 1 training run(s) trend accuracy of 0.7.\n",
      "LSTM model trained with \"medium\". 1 training run(s) trend accuracy of 0.6.\n",
      "LSTM model trained with \"youtube\". 1 training run(s) trend accuracy of 0.7.\n",
      "LSTM model trained with \"social_contributors\". 1 training run(s) trend accuracy of 0.7.\n",
      "LSTM model trained with \"social_volume\". 1 training run(s) trend accuracy of 0.6.\n",
      "LSTM model trained with \"social_volume_global\". 1 training run(s) trend accuracy of 0.7.\n",
      "LSTM model trained with \"dx\". 1 training run(s) trend accuracy of 0.6.\n",
      "LSTM model trained with \"roc\". 1 training run(s) trend accuracy of 0.6.\n",
      "LSTM model trained with \"rsi\". 1 training run(s) trend accuracy of 0.6.\n",
      "LSTM model trained with \"atr\". 1 training run(s) trend accuracy of 0.6.\n",
      "LSTM model trained with \"linreg\". 1 training run(s) trend accuracy of 0.6.\n",
      "LSTM model trained with \"slope\". 1 training run(s) trend accuracy of 0.7.\n",
      "LSTM model trained with \"stdev\". 1 training run(s) trend accuracy of 0.6.\n",
      "LSTM model trained with \"var\". 1 training run(s) trend accuracy of 0.6.\n",
      "LSTM model trained with \"tsf\". 1 training run(s) trend accuracy of 0.8.\n",
      "LSTM model trained with \"bband_upper\". 1 training run(s) trend accuracy of 0.6.\n",
      "LSTM model trained with \"bband_lower\". 1 training run(s) trend accuracy of 0.8.\n",
      "Unable to train model for bband_relative\".\n",
      "LSTM model trained with \"apo\". 1 training run(s) trend accuracy of 0.8.\n",
      "LSTM model trained with \"macd\". 1 training run(s) trend accuracy of 0.6.\n",
      "LSTM model trained with \"macdsignal\". 1 training run(s) trend accuracy of 0.6.\n",
      "LSTM model trained with \"macdhist\". 1 training run(s) trend accuracy of 0.9.\n",
      "LSTM model trained with \"ppo\". 1 training run(s) trend accuracy of 0.7.\n",
      "LSTM model trained with \"tweet_sentiment_bullish\". 1 training run(s) trend accuracy of 0.8.\n",
      "LSTM model trained with \"tweet_sentiment_bearish\". 1 training run(s) trend accuracy of 0.8.\n",
      "LSTM model trained with \"tweet_sentiment_net\". 1 training run(s) trend accuracy of 0.6.\n",
      "LSTM model trained with \"tweet_sentiment_impact_bullish\". 1 training run(s) trend accuracy of 0.8.\n",
      "LSTM model trained with \"tweet_sentiment_impact_net\". 1 training run(s) trend accuracy of 0.7.\n",
      "LSTM model trained with \"tweets_mean\". 1 training run(s) trend accuracy of 0.8.\n",
      "LSTM model trained with \"tweet_followers_mean\". 1 training run(s) trend accuracy of 0.7.\n",
      "LSTM model trained with \"tweet_sentiment_impact_net_mean\". 1 training run(s) trend accuracy of 0.8.\n",
      "LSTM model trained with \"news_mean\". 1 training run(s) trend accuracy of 0.8.\n",
      "LSTM model trained with \"social_volume_global_mean\". 1 training run(s) trend accuracy of 0.7.\n",
      "LSTM model trained with \"market_dominance_stdev\". 1 training run(s) trend accuracy of 0.7.\n",
      "LSTM model trained with \"market_cap_global_pct_change\". 1 training run(s) trend accuracy of 0.8.\n"
     ]
    }
   ],
   "source": [
    "# Set verbose to off since training many models\n",
    "doge_train_config['verbose'] = 0\n",
    "# Do not run checkpoints\n",
    "doge_train_config['model_checkpoint'] = False\n",
    "# For the first run for all columns set training runs to 1\n",
    "training_runs = 1\n",
    "doge_search_results = model_training_search_cols(doge_search_cols, training_runs, target_col, standard_scaler, doge, \n",
    "                                                test_periods, input_len, total_len, prediction_len, \n",
    "                                                doge_train_config, doge_base_sw_acc)"
   ]
  },
  {
   "cell_type": "code",
   "execution_count": 124,
   "id": "16230ddb",
   "metadata": {},
   "outputs": [
    {
     "data": {
      "text/html": [
       "<div>\n",
       "<style scoped>\n",
       "    .dataframe tbody tr th:only-of-type {\n",
       "        vertical-align: middle;\n",
       "    }\n",
       "\n",
       "    .dataframe tbody tr th {\n",
       "        vertical-align: top;\n",
       "    }\n",
       "\n",
       "    .dataframe thead th {\n",
       "        text-align: right;\n",
       "    }\n",
       "</style>\n",
       "<table border=\"1\" class=\"dataframe\">\n",
       "  <thead>\n",
       "    <tr style=\"text-align: right;\">\n",
       "      <th></th>\n",
       "      <th>mda</th>\n",
       "      <th>mase</th>\n",
       "      <th>accuracy</th>\n",
       "    </tr>\n",
       "  </thead>\n",
       "  <tbody>\n",
       "    <tr>\n",
       "      <th>macdhist</th>\n",
       "      <td>0.583333</td>\n",
       "      <td>3.511671</td>\n",
       "      <td>0.9</td>\n",
       "    </tr>\n",
       "    <tr>\n",
       "      <th>market_cap_global_pct_change</th>\n",
       "      <td>0.533333</td>\n",
       "      <td>3.954076</td>\n",
       "      <td>0.8</td>\n",
       "    </tr>\n",
       "    <tr>\n",
       "      <th>social_impact_score</th>\n",
       "      <td>0.500000</td>\n",
       "      <td>2.901355</td>\n",
       "      <td>0.8</td>\n",
       "    </tr>\n",
       "    <tr>\n",
       "      <th>price_score</th>\n",
       "      <td>0.566667</td>\n",
       "      <td>1.981956</td>\n",
       "      <td>0.8</td>\n",
       "    </tr>\n",
       "    <tr>\n",
       "      <th>tweet_sentiment_impact5</th>\n",
       "      <td>0.516667</td>\n",
       "      <td>2.836005</td>\n",
       "      <td>0.8</td>\n",
       "    </tr>\n",
       "    <tr>\n",
       "      <th>tweet_sentiment_impact3</th>\n",
       "      <td>0.566667</td>\n",
       "      <td>3.602948</td>\n",
       "      <td>0.8</td>\n",
       "    </tr>\n",
       "    <tr>\n",
       "      <th>tweet_sentiment_impact1</th>\n",
       "      <td>0.600000</td>\n",
       "      <td>3.577858</td>\n",
       "      <td>0.8</td>\n",
       "    </tr>\n",
       "    <tr>\n",
       "      <th>tsf</th>\n",
       "      <td>0.550000</td>\n",
       "      <td>2.095332</td>\n",
       "      <td>0.8</td>\n",
       "    </tr>\n",
       "    <tr>\n",
       "      <th>bband_lower</th>\n",
       "      <td>0.566667</td>\n",
       "      <td>2.739801</td>\n",
       "      <td>0.8</td>\n",
       "    </tr>\n",
       "    <tr>\n",
       "      <th>volatility</th>\n",
       "      <td>0.550000</td>\n",
       "      <td>3.793866</td>\n",
       "      <td>0.8</td>\n",
       "    </tr>\n",
       "    <tr>\n",
       "      <th>tweet_sentiment2</th>\n",
       "      <td>0.550000</td>\n",
       "      <td>3.597150</td>\n",
       "      <td>0.8</td>\n",
       "    </tr>\n",
       "    <tr>\n",
       "      <th>apo</th>\n",
       "      <td>0.616667</td>\n",
       "      <td>2.554964</td>\n",
       "      <td>0.8</td>\n",
       "    </tr>\n",
       "    <tr>\n",
       "      <th>alt_rank</th>\n",
       "      <td>0.583333</td>\n",
       "      <td>1.773305</td>\n",
       "      <td>0.8</td>\n",
       "    </tr>\n",
       "    <tr>\n",
       "      <th>tweet_sentiment_bearish</th>\n",
       "      <td>0.533333</td>\n",
       "      <td>2.992985</td>\n",
       "      <td>0.8</td>\n",
       "    </tr>\n",
       "    <tr>\n",
       "      <th>tweet_sentiment_impact_bullish</th>\n",
       "      <td>0.466667</td>\n",
       "      <td>3.545635</td>\n",
       "      <td>0.8</td>\n",
       "    </tr>\n",
       "    <tr>\n",
       "      <th>tweets_mean</th>\n",
       "      <td>0.550000</td>\n",
       "      <td>2.302116</td>\n",
       "      <td>0.8</td>\n",
       "    </tr>\n",
       "    <tr>\n",
       "      <th>tweet_sentiment_impact_net_mean</th>\n",
       "      <td>0.533333</td>\n",
       "      <td>2.021114</td>\n",
       "      <td>0.8</td>\n",
       "    </tr>\n",
       "    <tr>\n",
       "      <th>tweet_sentiment_bullish</th>\n",
       "      <td>0.533333</td>\n",
       "      <td>3.680823</td>\n",
       "      <td>0.8</td>\n",
       "    </tr>\n",
       "    <tr>\n",
       "      <th>news_mean</th>\n",
       "      <td>0.533333</td>\n",
       "      <td>3.738652</td>\n",
       "      <td>0.8</td>\n",
       "    </tr>\n",
       "    <tr>\n",
       "      <th>youtube</th>\n",
       "      <td>0.516667</td>\n",
       "      <td>5.990344</td>\n",
       "      <td>0.7</td>\n",
       "    </tr>\n",
       "  </tbody>\n",
       "</table>\n",
       "</div>"
      ],
      "text/plain": [
       "                                      mda      mase  accuracy\n",
       "macdhist                         0.583333  3.511671       0.9\n",
       "market_cap_global_pct_change     0.533333  3.954076       0.8\n",
       "social_impact_score              0.500000  2.901355       0.8\n",
       "price_score                      0.566667  1.981956       0.8\n",
       "tweet_sentiment_impact5          0.516667  2.836005       0.8\n",
       "tweet_sentiment_impact3          0.566667  3.602948       0.8\n",
       "tweet_sentiment_impact1          0.600000  3.577858       0.8\n",
       "tsf                              0.550000  2.095332       0.8\n",
       "bband_lower                      0.566667  2.739801       0.8\n",
       "volatility                       0.550000  3.793866       0.8\n",
       "tweet_sentiment2                 0.550000  3.597150       0.8\n",
       "apo                              0.616667  2.554964       0.8\n",
       "alt_rank                         0.583333  1.773305       0.8\n",
       "tweet_sentiment_bearish          0.533333  2.992985       0.8\n",
       "tweet_sentiment_impact_bullish   0.466667  3.545635       0.8\n",
       "tweets_mean                      0.550000  2.302116       0.8\n",
       "tweet_sentiment_impact_net_mean  0.533333  2.021114       0.8\n",
       "tweet_sentiment_bullish          0.533333  3.680823       0.8\n",
       "news_mean                        0.533333  3.738652       0.8\n",
       "youtube                          0.516667  5.990344       0.7"
      ]
     },
     "execution_count": 124,
     "metadata": {},
     "output_type": "execute_result"
    }
   ],
   "source": [
    "doge_search_results_df = pd.DataFrame(doge_search_results).T\n",
    "\n",
    "# Top 20 by accuracy\n",
    "doge_search_results_df.sort_values(by='accuracy', ascending=False).head(20)"
   ]
  },
  {
   "cell_type": "code",
   "execution_count": 126,
   "id": "b1c61a24",
   "metadata": {},
   "outputs": [
    {
     "data": {
      "text/html": [
       "<div>\n",
       "<style scoped>\n",
       "    .dataframe tbody tr th:only-of-type {\n",
       "        vertical-align: middle;\n",
       "    }\n",
       "\n",
       "    .dataframe tbody tr th {\n",
       "        vertical-align: top;\n",
       "    }\n",
       "\n",
       "    .dataframe thead th {\n",
       "        text-align: right;\n",
       "    }\n",
       "</style>\n",
       "<table border=\"1\" class=\"dataframe\">\n",
       "  <thead>\n",
       "    <tr style=\"text-align: right;\">\n",
       "      <th></th>\n",
       "      <th>mda</th>\n",
       "      <th>mase</th>\n",
       "      <th>accuracy</th>\n",
       "    </tr>\n",
       "  </thead>\n",
       "  <tbody>\n",
       "    <tr>\n",
       "      <th>roc</th>\n",
       "      <td>0.633333</td>\n",
       "      <td>2.745331</td>\n",
       "      <td>0.6</td>\n",
       "    </tr>\n",
       "    <tr>\n",
       "      <th>tweet_replies</th>\n",
       "      <td>0.633333</td>\n",
       "      <td>2.528217</td>\n",
       "      <td>0.6</td>\n",
       "    </tr>\n",
       "    <tr>\n",
       "      <th>social_volume_global_mean</th>\n",
       "      <td>0.616667</td>\n",
       "      <td>2.318248</td>\n",
       "      <td>0.7</td>\n",
       "    </tr>\n",
       "    <tr>\n",
       "      <th>apo</th>\n",
       "      <td>0.616667</td>\n",
       "      <td>2.554964</td>\n",
       "      <td>0.8</td>\n",
       "    </tr>\n",
       "    <tr>\n",
       "      <th>tweet_sentiment_impact1</th>\n",
       "      <td>0.600000</td>\n",
       "      <td>3.577858</td>\n",
       "      <td>0.8</td>\n",
       "    </tr>\n",
       "    <tr>\n",
       "      <th>dx</th>\n",
       "      <td>0.600000</td>\n",
       "      <td>3.402484</td>\n",
       "      <td>0.6</td>\n",
       "    </tr>\n",
       "    <tr>\n",
       "      <th>tweet_followers</th>\n",
       "      <td>0.600000</td>\n",
       "      <td>3.414869</td>\n",
       "      <td>0.6</td>\n",
       "    </tr>\n",
       "    <tr>\n",
       "      <th>tweet_favorites</th>\n",
       "      <td>0.600000</td>\n",
       "      <td>2.932001</td>\n",
       "      <td>0.7</td>\n",
       "    </tr>\n",
       "    <tr>\n",
       "      <th>linreg</th>\n",
       "      <td>0.600000</td>\n",
       "      <td>3.544771</td>\n",
       "      <td>0.6</td>\n",
       "    </tr>\n",
       "    <tr>\n",
       "      <th>tweet_followers_mean</th>\n",
       "      <td>0.583333</td>\n",
       "      <td>3.813582</td>\n",
       "      <td>0.7</td>\n",
       "    </tr>\n",
       "  </tbody>\n",
       "</table>\n",
       "</div>"
      ],
      "text/plain": [
       "                                mda      mase  accuracy\n",
       "roc                        0.633333  2.745331       0.6\n",
       "tweet_replies              0.633333  2.528217       0.6\n",
       "social_volume_global_mean  0.616667  2.318248       0.7\n",
       "apo                        0.616667  2.554964       0.8\n",
       "tweet_sentiment_impact1    0.600000  3.577858       0.8\n",
       "dx                         0.600000  3.402484       0.6\n",
       "tweet_followers            0.600000  3.414869       0.6\n",
       "tweet_favorites            0.600000  2.932001       0.7\n",
       "linreg                     0.600000  3.544771       0.6\n",
       "tweet_followers_mean       0.583333  3.813582       0.7"
      ]
     },
     "execution_count": 126,
     "metadata": {},
     "output_type": "execute_result"
    }
   ],
   "source": [
    "# Top 10 by mda\n",
    "doge_search_results_df.sort_values(by='mda', ascending=False).head(10)"
   ]
  },
  {
   "cell_type": "code",
   "execution_count": 138,
   "id": "234e31c2",
   "metadata": {},
   "outputs": [
    {
     "data": {
      "text/html": [
       "<div>\n",
       "<style scoped>\n",
       "    .dataframe tbody tr th:only-of-type {\n",
       "        vertical-align: middle;\n",
       "    }\n",
       "\n",
       "    .dataframe tbody tr th {\n",
       "        vertical-align: top;\n",
       "    }\n",
       "\n",
       "    .dataframe thead th {\n",
       "        text-align: right;\n",
       "    }\n",
       "</style>\n",
       "<table border=\"1\" class=\"dataframe\">\n",
       "  <thead>\n",
       "    <tr style=\"text-align: right;\">\n",
       "      <th></th>\n",
       "      <th>mda</th>\n",
       "      <th>mase</th>\n",
       "      <th>accuracy</th>\n",
       "    </tr>\n",
       "  </thead>\n",
       "  <tbody>\n",
       "    <tr>\n",
       "      <th>alt_rank</th>\n",
       "      <td>0.583333</td>\n",
       "      <td>1.773305</td>\n",
       "      <td>0.8</td>\n",
       "    </tr>\n",
       "    <tr>\n",
       "      <th>price_score</th>\n",
       "      <td>0.566667</td>\n",
       "      <td>1.981956</td>\n",
       "      <td>0.8</td>\n",
       "    </tr>\n",
       "    <tr>\n",
       "      <th>market_dominance</th>\n",
       "      <td>0.566667</td>\n",
       "      <td>1.993484</td>\n",
       "      <td>0.4</td>\n",
       "    </tr>\n",
       "    <tr>\n",
       "      <th>tweet_sentiment_impact_net_mean</th>\n",
       "      <td>0.533333</td>\n",
       "      <td>2.021114</td>\n",
       "      <td>0.8</td>\n",
       "    </tr>\n",
       "    <tr>\n",
       "      <th>tsf</th>\n",
       "      <td>0.550000</td>\n",
       "      <td>2.095332</td>\n",
       "      <td>0.8</td>\n",
       "    </tr>\n",
       "    <tr>\n",
       "      <th>adx</th>\n",
       "      <td>0.566667</td>\n",
       "      <td>2.193419</td>\n",
       "      <td>0.4</td>\n",
       "    </tr>\n",
       "    <tr>\n",
       "      <th>galaxy_score</th>\n",
       "      <td>0.533333</td>\n",
       "      <td>2.256251</td>\n",
       "      <td>0.6</td>\n",
       "    </tr>\n",
       "    <tr>\n",
       "      <th>atr</th>\n",
       "      <td>0.566667</td>\n",
       "      <td>2.257033</td>\n",
       "      <td>0.6</td>\n",
       "    </tr>\n",
       "    <tr>\n",
       "      <th>tweets_mean</th>\n",
       "      <td>0.550000</td>\n",
       "      <td>2.302116</td>\n",
       "      <td>0.8</td>\n",
       "    </tr>\n",
       "    <tr>\n",
       "      <th>social_volume_global_mean</th>\n",
       "      <td>0.616667</td>\n",
       "      <td>2.318248</td>\n",
       "      <td>0.7</td>\n",
       "    </tr>\n",
       "  </tbody>\n",
       "</table>\n",
       "</div>"
      ],
      "text/plain": [
       "                                      mda      mase  accuracy\n",
       "alt_rank                         0.583333  1.773305       0.8\n",
       "price_score                      0.566667  1.981956       0.8\n",
       "market_dominance                 0.566667  1.993484       0.4\n",
       "tweet_sentiment_impact_net_mean  0.533333  2.021114       0.8\n",
       "tsf                              0.550000  2.095332       0.8\n",
       "adx                              0.566667  2.193419       0.4\n",
       "galaxy_score                     0.533333  2.256251       0.6\n",
       "atr                              0.566667  2.257033       0.6\n",
       "tweets_mean                      0.550000  2.302116       0.8\n",
       "social_volume_global_mean        0.616667  2.318248       0.7"
      ]
     },
     "execution_count": 138,
     "metadata": {},
     "output_type": "execute_result"
    }
   ],
   "source": [
    "# Top 10 by mase\n",
    "doge_search_results_df.sort_values(by='mase', ascending=True).head(10)"
   ]
  },
  {
   "cell_type": "code",
   "execution_count": 147,
   "id": "ed040f1b",
   "metadata": {},
   "outputs": [],
   "source": [
    "doge_search_final_cols = ['macdhist', 'apo', 'tsf', 'linreg', 'roc', 'alt_rank',\n",
    "                          'market_cap_global_pct_change', 'social_impact_score', 'price_score',\n",
    "                          'tweet_sentiment_impact3', 'tweet_sentiment_impact_bullish', 'tweet_sentiment_impact_net_mean',\n",
    "                          'tweet_sentiment_bullish', 'tweet_sentiment_bearish',  'tweets_mean']"
   ]
  },
  {
   "cell_type": "code",
   "execution_count": 148,
   "id": "2ae6e51e",
   "metadata": {},
   "outputs": [
    {
     "name": "stdout",
     "output_type": "stream",
     "text": [
      "LSTM model trained with \"macdhist\". 5 training run(s) trend accuracy of 0.72.\n",
      "LSTM model trained with \"apo\". 5 training run(s) trend accuracy of 0.68.\n",
      "LSTM model trained with \"tsf\". 5 training run(s) trend accuracy of 0.72.\n",
      "LSTM model trained with \"linreg\". 5 training run(s) trend accuracy of 0.68.\n",
      "LSTM model trained with \"roc\". 5 training run(s) trend accuracy of 0.64.\n",
      "LSTM model trained with \"alt_rank\". 5 training run(s) trend accuracy of 0.7.\n",
      "LSTM model trained with \"market_cap_global_pct_change\". 5 training run(s) trend accuracy of 0.72.\n",
      "LSTM model trained with \"social_impact_score\". 5 training run(s) trend accuracy of 0.64.\n",
      "LSTM model trained with \"price_score\". 5 training run(s) trend accuracy of 0.74.\n",
      "LSTM model trained with \"tweet_sentiment_impact3\". 5 training run(s) trend accuracy of 0.68.\n",
      "LSTM model trained with \"tweet_sentiment_impact_bullish\". 5 training run(s) trend accuracy of 0.66.\n",
      "LSTM model trained with \"tweet_sentiment_impact_net_mean\". 5 training run(s) trend accuracy of 0.64.\n",
      "LSTM model trained with \"tweet_sentiment_bullish\". 5 training run(s) trend accuracy of 0.7.\n",
      "LSTM model trained with \"tweet_sentiment_bearish\". 5 training run(s) trend accuracy of 0.68.\n",
      "LSTM model trained with \"tweets_mean\". 5 training run(s) trend accuracy of 0.6.\n"
     ]
    }
   ],
   "source": [
    "# Set verbose to off since training many models\n",
    "doge_train_config['verbose'] = 0\n",
    "# Do not run checkpoints\n",
    "doge_train_config['model_checkpoint'] = False\n",
    "# For exhaustive search limit runs to 5\n",
    "training_runs = 5\n",
    "doge_search_results_final = model_training_search_cols(doge_search_final_cols, training_runs, target_col, \n",
    "                                                      standard_scaler, doge, \n",
    "                                                      test_periods, input_len, total_len, prediction_len, \n",
    "                                                      doge_train_config, doge_base_sw_acc, verbose=True)"
   ]
  },
  {
   "cell_type": "code",
   "execution_count": 45,
   "id": "e8fe42ca",
   "metadata": {},
   "outputs": [
    {
     "name": "stdout",
     "output_type": "stream",
     "text": [
      "Epoch 1/40\n",
      "14/14 [==============================] - 5s 145ms/step - loss: 0.6698 - val_loss: 0.7627\n",
      "Epoch 2/40\n",
      "14/14 [==============================] - 1s 86ms/step - loss: 0.5902 - val_loss: 0.6759\n",
      "Epoch 3/40\n",
      "14/14 [==============================] - 2s 122ms/step - loss: 0.5659 - val_loss: 0.6754\n",
      "Epoch 4/40\n",
      "14/14 [==============================] - 2s 160ms/step - loss: 0.5374 - val_loss: 0.6361\n",
      "Epoch 5/40\n",
      "14/14 [==============================] - ETA: 0s - loss: 0.520 - 2s 168ms/step - loss: 0.5206 - val_loss: 0.5947\n",
      "Epoch 6/40\n",
      "14/14 [==============================] - 2s 172ms/step - loss: 0.4989 - val_loss: 0.5740\n",
      "Epoch 7/40\n",
      "14/14 [==============================] - 2s 160ms/step - loss: 0.4687 - val_loss: 0.6113\n",
      "Epoch 8/40\n",
      "14/14 [==============================] - 2s 161ms/step - loss: 0.4539 - val_loss: 0.5804\n",
      "Epoch 9/40\n",
      "14/14 [==============================] - 2s 162ms/step - loss: 0.4383 - val_loss: 0.6281\n"
     ]
    },
    {
     "data": {
      "image/png": "[encoded data removed]",
      "text/plain": [
       "<Figure size 720x360 with 1 Axes>"
      ]
     },
     "metadata": {
      "needs_background": "light"
     },
     "output_type": "display_data"
    }
   ],
   "source": [
    "doge_cols = ['tsf', 'market_cap_global_pct_change']\n",
    "\n",
    "cols = [*[target_col], * doge_cols]\n",
    "# Scale data based on new cols list\n",
    "doge_data, doge_train_scaled, doge_test_scaled, doge_scalers = data_preprocessing_standardize(standard_scaler, doge, \n",
    "                                                                                                   cols,\n",
    "                                                                                     test_periods, total_len)\n",
    "# Create train/test datasets\n",
    "doge_train_X, doge_train_y = create_timeseries_data(doge_train_scaled, target_col, input_len)\n",
    "doge_test_X, doge_test_y = create_timeseries_data(doge_test_scaled, target_col, input_len)\n",
    "\n",
    "doge_model_config = update_model_input_dim(lstm_config, doge_train_X.shape)\n",
    "\n",
    "# Set verbose to on\n",
    "doge_train_config['verbose'] = 1\n",
    "\n",
    "# Run checkpoints\n",
    "doge_train_config['model_checkpoint'] = True\n",
    "\n",
    "# Instantiate model class\n",
    "doge_lstm_model = Model()\n",
    "\n",
    "# Build model\n",
    "doge_lstm_model.build_model(doge_model_config)\n",
    "\n",
    "doge_lstm_model.train(doge_train_X, doge_train_y, doge_train_config)\n",
    "\n",
    "doge_predictions, doge_seq_metrics = evaluate_model(doge_lstm_model, doge_test_X, doge_test_y, total_len, prediction_len)\n",
    "\n",
    "doge_mda = mean_metric_results(doge_seq_metrics, 'mda')\n",
    "doge_mase = mean_metric_results(doge_seq_metrics, 'mase')\n",
    "doge_acc = mean_accuracy(doge_seq_metrics)\n",
    "\n",
    "title = 'Dogecoin Multi-Dimensional LSTM Model MDA: {:.3}, MASE: {:.3}, Accuracy: {:.3}'.format(doge_mda, \n",
    "                                                                                        doge_mase,\n",
    "                                                                                        doge_acc)\n",
    "plot_results_multiple(doge_predictions, doge_test_y, prediction_len, title)"
   ]
  },
  {
   "cell_type": "markdown",
   "id": "3447487e",
   "metadata": {},
   "source": [
    "Improved sequence prediction accuracy from .59 to .8."
   ]
  }
 ],
 "metadata": {
  "kernelspec": {
   "display_name": "Python 3",
   "language": "python",
   "name": "python3"
  },
  "language_info": {
   "codemirror_mode": {
    "name": "ipython",
    "version": 3
   },
   "file_extension": ".py",
   "mimetype": "text/x-python",
   "name": "python",
   "nbconvert_exporter": "python",
   "pygments_lexer": "ipython3",
   "version": "3.8.11"
  }
 },
 "nbformat": 4,
 "nbformat_minor": 5
}
